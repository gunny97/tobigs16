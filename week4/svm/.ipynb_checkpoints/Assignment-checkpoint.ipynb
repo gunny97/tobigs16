{
 "cells": [
  {
   "cell_type": "markdown",
   "metadata": {},
   "source": [
    "# Multiclass SVM 구현"
   ]
  },
  {
   "cell_type": "code",
   "execution_count": 1,
   "metadata": {},
   "outputs": [
    {
     "name": "stderr",
     "output_type": "stream",
     "text": [
      "C:\\ana3\\envs\\t_f2.2\\lib\\site-packages\\numpy\\_distributor_init.py:30: UserWarning: loaded more than 1 DLL from .libs:\n",
      "C:\\ana3\\envs\\t_f2.2\\lib\\site-packages\\numpy\\.libs\\libopenblas.NOIJJG62EMASZI6NYURL6JBKM4EVBGM7.gfortran-win_amd64.dll\n",
      "C:\\ana3\\envs\\t_f2.2\\lib\\site-packages\\numpy\\.libs\\libopenblas.WCDJNK7YVMPZQ2ME2ZZHJJRJ3JIKNDB7.gfortran-win_amd64.dll\n",
      "  warnings.warn(\"loaded more than 1 DLL from .libs:\"\n"
     ]
    },
    {
     "name": "stdout",
     "output_type": "stream",
     "text": [
      "0         setosa\n",
      "1         setosa\n",
      "2         setosa\n",
      "3         setosa\n",
      "4         setosa\n",
      "         ...    \n",
      "145    virginica\n",
      "146    virginica\n",
      "147    virginica\n",
      "148    virginica\n",
      "149    virginica\n",
      "Name: species, Length: 150, dtype: object\n"
     ]
    }
   ],
   "source": [
    "import numpy as np\n",
    "import pandas as pd\n",
    "import matplotlib.pyplot as plt\n",
    "import seaborn as sns\n",
    "from sklearn.svm import SVC\n",
    "from sklearn.model_selection import train_test_split\n",
    "from sklearn.pipeline import Pipeline\n",
    "from sklearn.preprocessing import StandardScaler\n",
    "from sklearn.metrics import accuracy_score\n",
    "\n",
    "#IRIS 데이터 로드\n",
    "iris =  sns.load_dataset('iris') \n",
    "X= iris.iloc[:,:4] #학습할데이터\n",
    "y = iris.iloc[:,-1] #타겟\n",
    "print(y)"
   ]
  },
  {
   "cell_type": "code",
   "execution_count": 2,
   "metadata": {},
   "outputs": [],
   "source": [
    "X_train, X_test, y_train, y_test = train_test_split(X, y, test_size=0.2, random_state=48)"
   ]
  },
  {
   "cell_type": "code",
   "execution_count": 3,
   "metadata": {},
   "outputs": [],
   "source": [
    "def standardization(train, test):\n",
    "    scaler = StandardScaler()\n",
    "    train = scaler.fit_transform(train)\n",
    "    test = scaler.transform(test)\n",
    "    return train, test\n",
    "\n",
    "X_train, X_test = standardization(X_train, X_test)"
   ]
  },
  {
   "cell_type": "markdown",
   "metadata": {},
   "source": [
    "### one vs rest svm"
   ]
  },
  {
   "cell_type": "code",
   "execution_count": 7,
   "metadata": {},
   "outputs": [],
   "source": [
    "y_train = pd.get_dummies(y_train)\n",
    "y_test = pd.get_dummies(y_test)"
   ]
  },
  {
   "cell_type": "code",
   "execution_count": 31,
   "metadata": {},
   "outputs": [],
   "source": [
    "from sklearn.svm import SVC\n",
    "\n",
    "C = [10**(-5), 10, 10**(5)]\n",
    "tmp = []\n",
    "\n",
    "for i in range(len(y_train.columns)):\n",
    "    svm = SVC(kernel='rbf', C = 10, gamma='auto')\n",
    "    svm.fit(X_train,y_train.iloc[:,i])\n",
    "    tmp.append(svm)"
   ]
  },
  {
   "cell_type": "code",
   "execution_count": 32,
   "metadata": {},
   "outputs": [
    {
     "data": {
      "text/plain": [
       "[SVC(C=10, gamma='auto'), SVC(C=10, gamma='auto'), SVC(C=10, gamma='auto')]"
      ]
     },
     "execution_count": 32,
     "metadata": {},
     "output_type": "execute_result"
    }
   ],
   "source": [
    "tmp"
   ]
  },
  {
   "cell_type": "code",
   "execution_count": 17,
   "metadata": {},
   "outputs": [
    {
     "data": {
      "text/plain": [
       "array([[-0.14887164, -0.374155  ,  0.26676379,  0.13941922],\n",
       "       [ 0.31817664, -0.60559109,  0.54756778,  0.00972692],\n",
       "       [ 0.31817664, -1.06846325,  1.05301496,  0.26911151],\n",
       "       [-1.5500165 , -1.7627715 , -1.36189934, -1.15750374],\n",
       "       [ 0.0846525 ,  0.32015325,  0.60372857,  0.7878807 ],\n",
       "       [ 0.78522493, -0.14271892,  0.99685416,  0.7878807 ],\n",
       "       [-0.84944407,  1.70876975, -1.24957775, -1.15750374],\n",
       "       [ 0.20141457, -0.14271892,  0.60372857,  0.7878807 ],\n",
       "       [-0.38239578,  2.63451409, -1.30573855, -1.28719604],\n",
       "       [-0.38239578, -1.29989934,  0.15444219,  0.13941922],\n",
       "       [ 0.66846286,  0.08871717,  0.99685416,  0.7878807 ],\n",
       "       [-0.38239578,  1.0144615 , -1.36189934, -1.28719604],\n",
       "       [-0.49915786,  0.78302542, -1.13725615, -1.28719604],\n",
       "       [ 0.43493872, -0.60559109,  0.60372857,  0.7878807 ],\n",
       "       [ 0.55170079, -1.7627715 ,  0.37908538,  0.13941922],\n",
       "       [ 0.55170079,  0.55158933,  0.54756778,  0.52849611],\n",
       "       [-1.19973028,  0.78302542, -1.19341695, -1.28719604],\n",
       "       [ 0.20141457, -1.99420759,  0.15444219, -0.24965767],\n",
       "       [ 0.55170079, -1.29989934,  0.65988937,  0.39880381],\n",
       "       [ 1.25227322,  0.32015325,  1.10917575,  1.43634218],\n",
       "       [-1.66677857, -0.374155  , -1.30573855, -1.28719604],\n",
       "       [ 0.78522493, -0.14271892,  0.82837177,  1.04726529],\n",
       "       [ 1.01874907, -0.14271892,  0.71605017,  0.6581884 ],\n",
       "       [ 1.01874907,  0.08871717,  0.54756778,  0.39880381],\n",
       "       [ 1.60255943, -0.14271892,  1.16533655,  0.52849611],\n",
       "       [-0.96620614,  1.24589758, -1.30573855, -1.28719604],\n",
       "       [-0.49915786,  0.78302542, -1.24957775, -1.02781144],\n",
       "       [ 0.55170079,  0.78302542,  1.05301496,  1.56603447],\n",
       "       [ 0.66846286, -0.60559109,  1.05301496,  1.30664988],\n",
       "       [-0.26563371, -0.14271892,  0.21060299,  0.13941922]])"
      ]
     },
     "execution_count": 17,
     "metadata": {},
     "output_type": "execute_result"
    }
   ],
   "source": [
    "X_test"
   ]
  },
  {
   "cell_type": "code",
   "execution_count": 33,
   "metadata": {},
   "outputs": [],
   "source": [
    "shape_zero = np.zeros_like(X_test)"
   ]
  },
  {
   "cell_type": "code",
   "execution_count": 63,
   "metadata": {
    "scrolled": true
   },
   "outputs": [
    {
     "data": {
      "text/html": [
       "<div>\n",
       "<style scoped>\n",
       "    .dataframe tbody tr th:only-of-type {\n",
       "        vertical-align: middle;\n",
       "    }\n",
       "\n",
       "    .dataframe tbody tr th {\n",
       "        vertical-align: top;\n",
       "    }\n",
       "\n",
       "    .dataframe thead th {\n",
       "        text-align: right;\n",
       "    }\n",
       "</style>\n",
       "<table border=\"1\" class=\"dataframe\">\n",
       "  <thead>\n",
       "    <tr style=\"text-align: right;\">\n",
       "      <th></th>\n",
       "      <th>setosa</th>\n",
       "      <th>versicolor</th>\n",
       "      <th>virginica</th>\n",
       "    </tr>\n",
       "  </thead>\n",
       "  <tbody>\n",
       "    <tr>\n",
       "      <th>0</th>\n",
       "      <td>0</td>\n",
       "      <td>1</td>\n",
       "      <td>0</td>\n",
       "    </tr>\n",
       "    <tr>\n",
       "      <th>1</th>\n",
       "      <td>0</td>\n",
       "      <td>1</td>\n",
       "      <td>0</td>\n",
       "    </tr>\n",
       "    <tr>\n",
       "      <th>2</th>\n",
       "      <td>0</td>\n",
       "      <td>0</td>\n",
       "      <td>1</td>\n",
       "    </tr>\n",
       "    <tr>\n",
       "      <th>3</th>\n",
       "      <td>0</td>\n",
       "      <td>1</td>\n",
       "      <td>0</td>\n",
       "    </tr>\n",
       "    <tr>\n",
       "      <th>4</th>\n",
       "      <td>0</td>\n",
       "      <td>0</td>\n",
       "      <td>1</td>\n",
       "    </tr>\n",
       "    <tr>\n",
       "      <th>5</th>\n",
       "      <td>0</td>\n",
       "      <td>0</td>\n",
       "      <td>1</td>\n",
       "    </tr>\n",
       "    <tr>\n",
       "      <th>6</th>\n",
       "      <td>1</td>\n",
       "      <td>0</td>\n",
       "      <td>0</td>\n",
       "    </tr>\n",
       "    <tr>\n",
       "      <th>7</th>\n",
       "      <td>0</td>\n",
       "      <td>0</td>\n",
       "      <td>1</td>\n",
       "    </tr>\n",
       "    <tr>\n",
       "      <th>8</th>\n",
       "      <td>1</td>\n",
       "      <td>0</td>\n",
       "      <td>0</td>\n",
       "    </tr>\n",
       "    <tr>\n",
       "      <th>9</th>\n",
       "      <td>0</td>\n",
       "      <td>1</td>\n",
       "      <td>0</td>\n",
       "    </tr>\n",
       "    <tr>\n",
       "      <th>10</th>\n",
       "      <td>0</td>\n",
       "      <td>0</td>\n",
       "      <td>1</td>\n",
       "    </tr>\n",
       "    <tr>\n",
       "      <th>11</th>\n",
       "      <td>1</td>\n",
       "      <td>0</td>\n",
       "      <td>0</td>\n",
       "    </tr>\n",
       "    <tr>\n",
       "      <th>12</th>\n",
       "      <td>1</td>\n",
       "      <td>0</td>\n",
       "      <td>0</td>\n",
       "    </tr>\n",
       "    <tr>\n",
       "      <th>13</th>\n",
       "      <td>0</td>\n",
       "      <td>0</td>\n",
       "      <td>1</td>\n",
       "    </tr>\n",
       "    <tr>\n",
       "      <th>14</th>\n",
       "      <td>0</td>\n",
       "      <td>1</td>\n",
       "      <td>0</td>\n",
       "    </tr>\n",
       "    <tr>\n",
       "      <th>15</th>\n",
       "      <td>0</td>\n",
       "      <td>1</td>\n",
       "      <td>0</td>\n",
       "    </tr>\n",
       "    <tr>\n",
       "      <th>16</th>\n",
       "      <td>1</td>\n",
       "      <td>0</td>\n",
       "      <td>0</td>\n",
       "    </tr>\n",
       "    <tr>\n",
       "      <th>17</th>\n",
       "      <td>0</td>\n",
       "      <td>1</td>\n",
       "      <td>0</td>\n",
       "    </tr>\n",
       "    <tr>\n",
       "      <th>18</th>\n",
       "      <td>0</td>\n",
       "      <td>1</td>\n",
       "      <td>0</td>\n",
       "    </tr>\n",
       "    <tr>\n",
       "      <th>19</th>\n",
       "      <td>0</td>\n",
       "      <td>0</td>\n",
       "      <td>1</td>\n",
       "    </tr>\n",
       "    <tr>\n",
       "      <th>20</th>\n",
       "      <td>1</td>\n",
       "      <td>0</td>\n",
       "      <td>0</td>\n",
       "    </tr>\n",
       "    <tr>\n",
       "      <th>21</th>\n",
       "      <td>0</td>\n",
       "      <td>0</td>\n",
       "      <td>1</td>\n",
       "    </tr>\n",
       "    <tr>\n",
       "      <th>22</th>\n",
       "      <td>0</td>\n",
       "      <td>0</td>\n",
       "      <td>1</td>\n",
       "    </tr>\n",
       "    <tr>\n",
       "      <th>23</th>\n",
       "      <td>0</td>\n",
       "      <td>1</td>\n",
       "      <td>0</td>\n",
       "    </tr>\n",
       "    <tr>\n",
       "      <th>24</th>\n",
       "      <td>0</td>\n",
       "      <td>0</td>\n",
       "      <td>1</td>\n",
       "    </tr>\n",
       "    <tr>\n",
       "      <th>25</th>\n",
       "      <td>1</td>\n",
       "      <td>0</td>\n",
       "      <td>0</td>\n",
       "    </tr>\n",
       "    <tr>\n",
       "      <th>26</th>\n",
       "      <td>1</td>\n",
       "      <td>0</td>\n",
       "      <td>0</td>\n",
       "    </tr>\n",
       "    <tr>\n",
       "      <th>27</th>\n",
       "      <td>0</td>\n",
       "      <td>0</td>\n",
       "      <td>1</td>\n",
       "    </tr>\n",
       "    <tr>\n",
       "      <th>28</th>\n",
       "      <td>0</td>\n",
       "      <td>0</td>\n",
       "      <td>1</td>\n",
       "    </tr>\n",
       "    <tr>\n",
       "      <th>29</th>\n",
       "      <td>0</td>\n",
       "      <td>1</td>\n",
       "      <td>0</td>\n",
       "    </tr>\n",
       "  </tbody>\n",
       "</table>\n",
       "</div>"
      ],
      "text/plain": [
       "    setosa  versicolor  virginica\n",
       "0        0           1          0\n",
       "1        0           1          0\n",
       "2        0           0          1\n",
       "3        0           1          0\n",
       "4        0           0          1\n",
       "5        0           0          1\n",
       "6        1           0          0\n",
       "7        0           0          1\n",
       "8        1           0          0\n",
       "9        0           1          0\n",
       "10       0           0          1\n",
       "11       1           0          0\n",
       "12       1           0          0\n",
       "13       0           0          1\n",
       "14       0           1          0\n",
       "15       0           1          0\n",
       "16       1           0          0\n",
       "17       0           1          0\n",
       "18       0           1          0\n",
       "19       0           0          1\n",
       "20       1           0          0\n",
       "21       0           0          1\n",
       "22       0           0          1\n",
       "23       0           1          0\n",
       "24       0           0          1\n",
       "25       1           0          0\n",
       "26       1           0          0\n",
       "27       0           0          1\n",
       "28       0           0          1\n",
       "29       0           1          0"
      ]
     },
     "execution_count": 63,
     "metadata": {},
     "output_type": "execute_result"
    }
   ],
   "source": [
    "y_pred = pd.DataFrame(columns=['setosa','versicolor','virginica'])\n",
    "for i in range(shape_zero.shape[0]):\n",
    "    setosa = tmp[0].decision_function(X_test)[i]\n",
    "    versicolor = tmp[1].decision_function(X_test)[i]\n",
    "    virginica = tmp[2].decision_function(X_test)[i]\n",
    "    decision = np.argmax([setosa,versicolor,virginica])\n",
    "    if decision == 0:\n",
    "        #dic = {'setosa':1,'versicolor':0,'virginica':0}\n",
    "        y_pred.at[i,'setosa'] = 1\n",
    "    elif decision ==1:\n",
    "        #dic = {'setosa':0,'versicolor':1,'virginica':0}\n",
    "        y_pred.at[i,'versicolor'] =1\n",
    "    elif decision ==2:\n",
    "        #dic = {'setosa':0,'versicolor':0,'virginica':1}\n",
    "        y_pred.at[i,'virginica'] = 1\n",
    "    #y_pred.append(dic, ignore_index=True)\n",
    "y_pred = y_pred.fillna(0)\n",
    "y_pred"
   ]
  },
  {
   "cell_type": "code",
   "execution_count": 65,
   "metadata": {},
   "outputs": [
    {
     "name": "stdout",
     "output_type": "stream",
     "text": [
      "accuracy score: 0.9\n"
     ]
    }
   ],
   "source": [
    "from sklearn.metrics import accuracy_score\n",
    "\n",
    "print('accuracy score:',accuracy_score(y_test,y_pred))"
   ]
  },
  {
   "cell_type": "markdown",
   "metadata": {},
   "source": [
    "### Compare with scikit-learn"
   ]
  },
  {
   "cell_type": "code",
   "execution_count": 67,
   "metadata": {},
   "outputs": [],
   "source": [
    "X_train, X_test, y_train, y_test = train_test_split(X, y, test_size=0.2, random_state=48)\n",
    "\n",
    "X_train, X_test = standardization(X_train, X_test)"
   ]
  },
  {
   "cell_type": "code",
   "execution_count": 70,
   "metadata": {},
   "outputs": [
    {
     "name": "stdout",
     "output_type": "stream",
     "text": [
      "accuracy score: 0.9\n"
     ]
    }
   ],
   "source": [
    "svc_clf = SVC(kernel='rbf', C = 10, gamma='auto')\n",
    "svc_clf.fit(X_train,y_train)\n",
    "svc_clf_pred = svc_clf.predict(X_test)\n",
    "print('accuracy score:',accuracy_score(y_test,svc_clf_pred))"
   ]
  },
  {
   "cell_type": "markdown",
   "metadata": {},
   "source": [
    "### result: one vs rest와 라이브러리에서 제공된 accuracy_score 결과값 같다."
   ]
  }
 ],
 "metadata": {
  "kernelspec": {
   "display_name": "Python 3",
   "language": "python",
   "name": "python3"
  },
  "language_info": {
   "codemirror_mode": {
    "name": "ipython",
    "version": 3
   },
   "file_extension": ".py",
   "mimetype": "text/x-python",
   "name": "python",
   "nbconvert_exporter": "python",
   "pygments_lexer": "ipython3",
   "version": "3.8.0"
  }
 },
 "nbformat": 4,
 "nbformat_minor": 5
}

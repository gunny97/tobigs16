{
 "cells": [
  {
   "cell_type": "markdown",
   "metadata": {
    "id": "oYVqHpHghxi1"
   },
   "source": [
    "### ** 해석과 판단의 이유를 모두 상세하게 적어주세요 **\n"
   ]
  },
  {
   "cell_type": "code",
   "execution_count": 135,
   "metadata": {
    "id": "F0T3iPmPhxi_"
   },
   "outputs": [],
   "source": [
    "%matplotlib inline \n",
    "\n",
    "import pandas as pd\n",
    "import numpy as np\n",
    "import matplotlib.pyplot as plt\n",
    "import seaborn as sns\n",
    "\n",
    "import warnings\n",
    "warnings.filterwarnings(action='ignore')"
   ]
  },
  {
   "cell_type": "markdown",
   "metadata": {
    "id": "P0uNO4d5hxjA"
   },
   "source": [
    "# Data "
   ]
  },
  {
   "cell_type": "markdown",
   "metadata": {
    "id": "3-xhqe55hxjB"
   },
   "source": [
    "데이터 출처 : https://www.kaggle.com/avikasliwal/used-cars-price-prediction "
   ]
  },
  {
   "cell_type": "markdown",
   "metadata": {
    "id": "NL9G4b7-hxjB"
   },
   "source": [
    "< y > \n",
    "* **Price** : The price of the used car in INR Lakhs.\n",
    "\n",
    "\n",
    "\n",
    "< X > \n",
    "* Name : The brand and model of the car\n",
    "* Location : The location in which the car is being sold or is available for purchase.\n",
    "* Year : The year or edition of the model.\n",
    "* Kilometers_Driven : The total kilometres driven in the car by the previous owner(s) in KM.\n",
    "* Fuel_Type : The type of fuel used by the car. (Petrol, Diesel, Electric, CNG, LPG)\n",
    "* Transmission : The type of transmission used by the car. (Automatic / Manual)\n",
    "* Owner_Type : Whether the ownership is Firsthand, Second hand or other.\n",
    "* Mileage : The standard mileage offered by the car company in kmpl or km/kg\n",
    "* Engine : The displacement volume of the engine in CC.\n",
    "* Power : The maximum power of the engine in bhp.\n",
    "* Seats : The number of seats in the car.\n",
    "* New_Price : The price of a new car of the same model."
   ]
  },
  {
   "cell_type": "code",
   "execution_count": 136,
   "metadata": {
    "colab": {
     "base_uri": "https://localhost:8080/",
     "height": 407
    },
    "id": "4erq13F3hxjC",
    "outputId": "9d870503-1f14-40ab-fb6c-510abcdf231d"
   },
   "outputs": [
    {
     "data": {
      "text/html": [
       "<div>\n",
       "<style scoped>\n",
       "    .dataframe tbody tr th:only-of-type {\n",
       "        vertical-align: middle;\n",
       "    }\n",
       "\n",
       "    .dataframe tbody tr th {\n",
       "        vertical-align: top;\n",
       "    }\n",
       "\n",
       "    .dataframe thead th {\n",
       "        text-align: right;\n",
       "    }\n",
       "</style>\n",
       "<table border=\"1\" class=\"dataframe\">\n",
       "  <thead>\n",
       "    <tr style=\"text-align: right;\">\n",
       "      <th></th>\n",
       "      <th>Unnamed: 0</th>\n",
       "      <th>Name</th>\n",
       "      <th>Location</th>\n",
       "      <th>Year</th>\n",
       "      <th>Kilometers_Driven</th>\n",
       "      <th>Fuel_Type</th>\n",
       "      <th>Transmission</th>\n",
       "      <th>Owner_Type</th>\n",
       "      <th>Mileage</th>\n",
       "      <th>Engine</th>\n",
       "      <th>Power</th>\n",
       "      <th>Seats</th>\n",
       "      <th>New_Price</th>\n",
       "      <th>Price</th>\n",
       "    </tr>\n",
       "  </thead>\n",
       "  <tbody>\n",
       "    <tr>\n",
       "      <th>0</th>\n",
       "      <td>0</td>\n",
       "      <td>Maruti Wagon R LXI CNG</td>\n",
       "      <td>Mumbai</td>\n",
       "      <td>2010</td>\n",
       "      <td>72000</td>\n",
       "      <td>CNG</td>\n",
       "      <td>Manual</td>\n",
       "      <td>First</td>\n",
       "      <td>26.6 km/kg</td>\n",
       "      <td>998 CC</td>\n",
       "      <td>58.16 bhp</td>\n",
       "      <td>5.0</td>\n",
       "      <td>NaN</td>\n",
       "      <td>1.75</td>\n",
       "    </tr>\n",
       "    <tr>\n",
       "      <th>1</th>\n",
       "      <td>1</td>\n",
       "      <td>Hyundai Creta 1.6 CRDi SX Option</td>\n",
       "      <td>Pune</td>\n",
       "      <td>2015</td>\n",
       "      <td>41000</td>\n",
       "      <td>Diesel</td>\n",
       "      <td>Manual</td>\n",
       "      <td>First</td>\n",
       "      <td>19.67 kmpl</td>\n",
       "      <td>1582 CC</td>\n",
       "      <td>126.2 bhp</td>\n",
       "      <td>5.0</td>\n",
       "      <td>NaN</td>\n",
       "      <td>12.50</td>\n",
       "    </tr>\n",
       "    <tr>\n",
       "      <th>2</th>\n",
       "      <td>2</td>\n",
       "      <td>Honda Jazz V</td>\n",
       "      <td>Chennai</td>\n",
       "      <td>2011</td>\n",
       "      <td>46000</td>\n",
       "      <td>Petrol</td>\n",
       "      <td>Manual</td>\n",
       "      <td>First</td>\n",
       "      <td>18.2 kmpl</td>\n",
       "      <td>1199 CC</td>\n",
       "      <td>88.7 bhp</td>\n",
       "      <td>5.0</td>\n",
       "      <td>8.61 Lakh</td>\n",
       "      <td>4.50</td>\n",
       "    </tr>\n",
       "    <tr>\n",
       "      <th>3</th>\n",
       "      <td>3</td>\n",
       "      <td>Maruti Ertiga VDI</td>\n",
       "      <td>Chennai</td>\n",
       "      <td>2012</td>\n",
       "      <td>87000</td>\n",
       "      <td>Diesel</td>\n",
       "      <td>Manual</td>\n",
       "      <td>First</td>\n",
       "      <td>20.77 kmpl</td>\n",
       "      <td>1248 CC</td>\n",
       "      <td>88.76 bhp</td>\n",
       "      <td>7.0</td>\n",
       "      <td>NaN</td>\n",
       "      <td>6.00</td>\n",
       "    </tr>\n",
       "    <tr>\n",
       "      <th>4</th>\n",
       "      <td>4</td>\n",
       "      <td>Audi A4 New 2.0 TDI Multitronic</td>\n",
       "      <td>Coimbatore</td>\n",
       "      <td>2013</td>\n",
       "      <td>40670</td>\n",
       "      <td>Diesel</td>\n",
       "      <td>Automatic</td>\n",
       "      <td>Second</td>\n",
       "      <td>15.2 kmpl</td>\n",
       "      <td>1968 CC</td>\n",
       "      <td>140.8 bhp</td>\n",
       "      <td>5.0</td>\n",
       "      <td>NaN</td>\n",
       "      <td>17.74</td>\n",
       "    </tr>\n",
       "  </tbody>\n",
       "</table>\n",
       "</div>"
      ],
      "text/plain": [
       "   Unnamed: 0                              Name    Location  Year  \\\n",
       "0           0            Maruti Wagon R LXI CNG      Mumbai  2010   \n",
       "1           1  Hyundai Creta 1.6 CRDi SX Option        Pune  2015   \n",
       "2           2                      Honda Jazz V     Chennai  2011   \n",
       "3           3                 Maruti Ertiga VDI     Chennai  2012   \n",
       "4           4   Audi A4 New 2.0 TDI Multitronic  Coimbatore  2013   \n",
       "\n",
       "   Kilometers_Driven Fuel_Type Transmission Owner_Type     Mileage   Engine  \\\n",
       "0              72000       CNG       Manual      First  26.6 km/kg   998 CC   \n",
       "1              41000    Diesel       Manual      First  19.67 kmpl  1582 CC   \n",
       "2              46000    Petrol       Manual      First   18.2 kmpl  1199 CC   \n",
       "3              87000    Diesel       Manual      First  20.77 kmpl  1248 CC   \n",
       "4              40670    Diesel    Automatic     Second   15.2 kmpl  1968 CC   \n",
       "\n",
       "       Power  Seats  New_Price  Price  \n",
       "0  58.16 bhp    5.0        NaN   1.75  \n",
       "1  126.2 bhp    5.0        NaN  12.50  \n",
       "2   88.7 bhp    5.0  8.61 Lakh   4.50  \n",
       "3  88.76 bhp    7.0        NaN   6.00  \n",
       "4  140.8 bhp    5.0        NaN  17.74  "
      ]
     },
     "execution_count": 136,
     "metadata": {},
     "output_type": "execute_result"
    }
   ],
   "source": [
    "# Load Data \n",
    "data = pd.read_csv(\"assignment2_data.csv\")\n",
    "data.head()"
   ]
  },
  {
   "cell_type": "code",
   "execution_count": 137,
   "metadata": {
    "id": "d-J1QpWR_WYh"
   },
   "outputs": [
    {
     "data": {
      "text/html": [
       "<div>\n",
       "<style scoped>\n",
       "    .dataframe tbody tr th:only-of-type {\n",
       "        vertical-align: middle;\n",
       "    }\n",
       "\n",
       "    .dataframe tbody tr th {\n",
       "        vertical-align: top;\n",
       "    }\n",
       "\n",
       "    .dataframe thead th {\n",
       "        text-align: right;\n",
       "    }\n",
       "</style>\n",
       "<table border=\"1\" class=\"dataframe\">\n",
       "  <thead>\n",
       "    <tr style=\"text-align: right;\">\n",
       "      <th></th>\n",
       "      <th>Unnamed: 0</th>\n",
       "      <th>Year</th>\n",
       "      <th>Kilometers_Driven</th>\n",
       "      <th>Seats</th>\n",
       "      <th>Price</th>\n",
       "    </tr>\n",
       "  </thead>\n",
       "  <tbody>\n",
       "    <tr>\n",
       "      <th>count</th>\n",
       "      <td>6019.000000</td>\n",
       "      <td>6019.000000</td>\n",
       "      <td>6.019000e+03</td>\n",
       "      <td>5977.000000</td>\n",
       "      <td>6019.000000</td>\n",
       "    </tr>\n",
       "    <tr>\n",
       "      <th>mean</th>\n",
       "      <td>3009.000000</td>\n",
       "      <td>2013.358199</td>\n",
       "      <td>5.873838e+04</td>\n",
       "      <td>5.278735</td>\n",
       "      <td>9.479468</td>\n",
       "    </tr>\n",
       "    <tr>\n",
       "      <th>std</th>\n",
       "      <td>1737.679967</td>\n",
       "      <td>3.269742</td>\n",
       "      <td>9.126884e+04</td>\n",
       "      <td>0.808840</td>\n",
       "      <td>11.187917</td>\n",
       "    </tr>\n",
       "    <tr>\n",
       "      <th>min</th>\n",
       "      <td>0.000000</td>\n",
       "      <td>1998.000000</td>\n",
       "      <td>1.710000e+02</td>\n",
       "      <td>0.000000</td>\n",
       "      <td>0.440000</td>\n",
       "    </tr>\n",
       "    <tr>\n",
       "      <th>25%</th>\n",
       "      <td>1504.500000</td>\n",
       "      <td>2011.000000</td>\n",
       "      <td>3.400000e+04</td>\n",
       "      <td>5.000000</td>\n",
       "      <td>3.500000</td>\n",
       "    </tr>\n",
       "    <tr>\n",
       "      <th>50%</th>\n",
       "      <td>3009.000000</td>\n",
       "      <td>2014.000000</td>\n",
       "      <td>5.300000e+04</td>\n",
       "      <td>5.000000</td>\n",
       "      <td>5.640000</td>\n",
       "    </tr>\n",
       "    <tr>\n",
       "      <th>75%</th>\n",
       "      <td>4513.500000</td>\n",
       "      <td>2016.000000</td>\n",
       "      <td>7.300000e+04</td>\n",
       "      <td>5.000000</td>\n",
       "      <td>9.950000</td>\n",
       "    </tr>\n",
       "    <tr>\n",
       "      <th>max</th>\n",
       "      <td>6018.000000</td>\n",
       "      <td>2019.000000</td>\n",
       "      <td>6.500000e+06</td>\n",
       "      <td>10.000000</td>\n",
       "      <td>160.000000</td>\n",
       "    </tr>\n",
       "  </tbody>\n",
       "</table>\n",
       "</div>"
      ],
      "text/plain": [
       "        Unnamed: 0         Year  Kilometers_Driven        Seats        Price\n",
       "count  6019.000000  6019.000000       6.019000e+03  5977.000000  6019.000000\n",
       "mean   3009.000000  2013.358199       5.873838e+04     5.278735     9.479468\n",
       "std    1737.679967     3.269742       9.126884e+04     0.808840    11.187917\n",
       "min       0.000000  1998.000000       1.710000e+02     0.000000     0.440000\n",
       "25%    1504.500000  2011.000000       3.400000e+04     5.000000     3.500000\n",
       "50%    3009.000000  2014.000000       5.300000e+04     5.000000     5.640000\n",
       "75%    4513.500000  2016.000000       7.300000e+04     5.000000     9.950000\n",
       "max    6018.000000  2019.000000       6.500000e+06    10.000000   160.000000"
      ]
     },
     "execution_count": 137,
     "metadata": {},
     "output_type": "execute_result"
    }
   ],
   "source": [
    "data.describe()"
   ]
  },
  {
   "cell_type": "code",
   "execution_count": 138,
   "metadata": {},
   "outputs": [
    {
     "name": "stdout",
     "output_type": "stream",
     "text": [
      "<class 'pandas.core.frame.DataFrame'>\n",
      "RangeIndex: 6019 entries, 0 to 6018\n",
      "Data columns (total 14 columns):\n",
      " #   Column             Non-Null Count  Dtype  \n",
      "---  ------             --------------  -----  \n",
      " 0   Unnamed: 0         6019 non-null   int64  \n",
      " 1   Name               6019 non-null   object \n",
      " 2   Location           6019 non-null   object \n",
      " 3   Year               6019 non-null   int64  \n",
      " 4   Kilometers_Driven  6019 non-null   int64  \n",
      " 5   Fuel_Type          6019 non-null   object \n",
      " 6   Transmission       6019 non-null   object \n",
      " 7   Owner_Type         6019 non-null   object \n",
      " 8   Mileage            6017 non-null   object \n",
      " 9   Engine             5983 non-null   object \n",
      " 10  Power              5983 non-null   object \n",
      " 11  Seats              5977 non-null   float64\n",
      " 12  New_Price          824 non-null    object \n",
      " 13  Price              6019 non-null   float64\n",
      "dtypes: float64(2), int64(3), object(9)\n",
      "memory usage: 658.5+ KB\n"
     ]
    }
   ],
   "source": [
    "data.info()"
   ]
  },
  {
   "cell_type": "code",
   "execution_count": 139,
   "metadata": {},
   "outputs": [
    {
     "data": {
      "text/plain": [
       "0             NaN\n",
       "1             NaN\n",
       "2       8.61 Lakh\n",
       "3             NaN\n",
       "4             NaN\n",
       "          ...    \n",
       "6014    7.88 Lakh\n",
       "6015          NaN\n",
       "6016          NaN\n",
       "6017          NaN\n",
       "6018          NaN\n",
       "Name: New_Price, Length: 6019, dtype: object"
      ]
     },
     "execution_count": 139,
     "metadata": {},
     "output_type": "execute_result"
    }
   ],
   "source": [
    "data['New_Price']"
   ]
  },
  {
   "cell_type": "markdown",
   "metadata": {},
   "source": [
    "### \"New_Price\" 열의 null data가 너무 많아서 drop해버림"
   ]
  },
  {
   "cell_type": "code",
   "execution_count": 140,
   "metadata": {},
   "outputs": [],
   "source": [
    "data.drop(['New_Price'],axis=1,inplace=True)"
   ]
  },
  {
   "cell_type": "markdown",
   "metadata": {},
   "source": [
    "### 결측치 제거"
   ]
  },
  {
   "cell_type": "code",
   "execution_count": 141,
   "metadata": {},
   "outputs": [],
   "source": [
    "data.dropna(axis=0, inplace = True)"
   ]
  },
  {
   "cell_type": "code",
   "execution_count": 142,
   "metadata": {
    "scrolled": true
   },
   "outputs": [
    {
     "name": "stdout",
     "output_type": "stream",
     "text": [
      "<class 'pandas.core.frame.DataFrame'>\n",
      "Int64Index: 5975 entries, 0 to 6018\n",
      "Data columns (total 13 columns):\n",
      " #   Column             Non-Null Count  Dtype  \n",
      "---  ------             --------------  -----  \n",
      " 0   Unnamed: 0         5975 non-null   int64  \n",
      " 1   Name               5975 non-null   object \n",
      " 2   Location           5975 non-null   object \n",
      " 3   Year               5975 non-null   int64  \n",
      " 4   Kilometers_Driven  5975 non-null   int64  \n",
      " 5   Fuel_Type          5975 non-null   object \n",
      " 6   Transmission       5975 non-null   object \n",
      " 7   Owner_Type         5975 non-null   object \n",
      " 8   Mileage            5975 non-null   object \n",
      " 9   Engine             5975 non-null   object \n",
      " 10  Power              5975 non-null   object \n",
      " 11  Seats              5975 non-null   float64\n",
      " 12  Price              5975 non-null   float64\n",
      "dtypes: float64(2), int64(3), object(8)\n",
      "memory usage: 653.5+ KB\n"
     ]
    }
   ],
   "source": [
    "data.info()"
   ]
  },
  {
   "cell_type": "code",
   "execution_count": 143,
   "metadata": {},
   "outputs": [
    {
     "data": {
      "text/plain": [
       "Unnamed: 0           0\n",
       "Name                 0\n",
       "Location             0\n",
       "Year                 0\n",
       "Kilometers_Driven    0\n",
       "Fuel_Type            0\n",
       "Transmission         0\n",
       "Owner_Type           0\n",
       "Mileage              0\n",
       "Engine               0\n",
       "Power                0\n",
       "Seats                0\n",
       "Price                0\n",
       "dtype: int64"
      ]
     },
     "execution_count": 143,
     "metadata": {},
     "output_type": "execute_result"
    }
   ],
   "source": [
    "data.isnull().sum(axis=0)"
   ]
  },
  {
   "cell_type": "code",
   "execution_count": 144,
   "metadata": {},
   "outputs": [],
   "source": [
    "# target variable 설정\n",
    "\n",
    "target = data['Price']"
   ]
  },
  {
   "cell_type": "code",
   "execution_count": 145,
   "metadata": {},
   "outputs": [],
   "source": [
    "# feature variable에 들어가게끔 설정\n",
    "\n",
    "data.drop(['Price'],axis=1,inplace=True)\n",
    "data.drop(['Unnamed: 0'],axis=1,inplace=True)"
   ]
  },
  {
   "cell_type": "code",
   "execution_count": 146,
   "metadata": {},
   "outputs": [],
   "source": [
    "# categorical data 설정\n",
    "categorical_data = data.drop(columns=['Year','Kilometers_Driven','Seats','Mileage','Engine','Power'])"
   ]
  },
  {
   "cell_type": "code",
   "execution_count": 147,
   "metadata": {},
   "outputs": [
    {
     "data": {
      "text/html": [
       "<div>\n",
       "<style scoped>\n",
       "    .dataframe tbody tr th:only-of-type {\n",
       "        vertical-align: middle;\n",
       "    }\n",
       "\n",
       "    .dataframe tbody tr th {\n",
       "        vertical-align: top;\n",
       "    }\n",
       "\n",
       "    .dataframe thead th {\n",
       "        text-align: right;\n",
       "    }\n",
       "</style>\n",
       "<table border=\"1\" class=\"dataframe\">\n",
       "  <thead>\n",
       "    <tr style=\"text-align: right;\">\n",
       "      <th></th>\n",
       "      <th>Name</th>\n",
       "      <th>Location</th>\n",
       "      <th>Fuel_Type</th>\n",
       "      <th>Transmission</th>\n",
       "      <th>Owner_Type</th>\n",
       "    </tr>\n",
       "  </thead>\n",
       "  <tbody>\n",
       "    <tr>\n",
       "      <th>0</th>\n",
       "      <td>Maruti Wagon R LXI CNG</td>\n",
       "      <td>Mumbai</td>\n",
       "      <td>CNG</td>\n",
       "      <td>Manual</td>\n",
       "      <td>First</td>\n",
       "    </tr>\n",
       "    <tr>\n",
       "      <th>1</th>\n",
       "      <td>Hyundai Creta 1.6 CRDi SX Option</td>\n",
       "      <td>Pune</td>\n",
       "      <td>Diesel</td>\n",
       "      <td>Manual</td>\n",
       "      <td>First</td>\n",
       "    </tr>\n",
       "    <tr>\n",
       "      <th>2</th>\n",
       "      <td>Honda Jazz V</td>\n",
       "      <td>Chennai</td>\n",
       "      <td>Petrol</td>\n",
       "      <td>Manual</td>\n",
       "      <td>First</td>\n",
       "    </tr>\n",
       "    <tr>\n",
       "      <th>3</th>\n",
       "      <td>Maruti Ertiga VDI</td>\n",
       "      <td>Chennai</td>\n",
       "      <td>Diesel</td>\n",
       "      <td>Manual</td>\n",
       "      <td>First</td>\n",
       "    </tr>\n",
       "    <tr>\n",
       "      <th>4</th>\n",
       "      <td>Audi A4 New 2.0 TDI Multitronic</td>\n",
       "      <td>Coimbatore</td>\n",
       "      <td>Diesel</td>\n",
       "      <td>Automatic</td>\n",
       "      <td>Second</td>\n",
       "    </tr>\n",
       "  </tbody>\n",
       "</table>\n",
       "</div>"
      ],
      "text/plain": [
       "                               Name    Location Fuel_Type Transmission  \\\n",
       "0            Maruti Wagon R LXI CNG      Mumbai       CNG       Manual   \n",
       "1  Hyundai Creta 1.6 CRDi SX Option        Pune    Diesel       Manual   \n",
       "2                      Honda Jazz V     Chennai    Petrol       Manual   \n",
       "3                 Maruti Ertiga VDI     Chennai    Diesel       Manual   \n",
       "4   Audi A4 New 2.0 TDI Multitronic  Coimbatore    Diesel    Automatic   \n",
       "\n",
       "  Owner_Type  \n",
       "0      First  \n",
       "1      First  \n",
       "2      First  \n",
       "3      First  \n",
       "4     Second  "
      ]
     },
     "execution_count": 147,
     "metadata": {},
     "output_type": "execute_result"
    }
   ],
   "source": [
    "categorical_data.head()"
   ]
  },
  {
   "cell_type": "code",
   "execution_count": 148,
   "metadata": {},
   "outputs": [
    {
     "name": "stdout",
     "output_type": "stream",
     "text": [
      "Name unique 갯수 1855\n",
      "Location unique 갯수 11\n",
      "Fuel_Type unique 갯수 4\n",
      "Transmission unique 갯수 2\n",
      "Owner_Type unique 갯수 4\n"
     ]
    }
   ],
   "source": [
    "for col in categorical_data.columns:\n",
    "    print(col,'unique 갯수',len(categorical_data[col].unique()))"
   ]
  },
  {
   "cell_type": "code",
   "execution_count": 149,
   "metadata": {},
   "outputs": [],
   "source": [
    "# name은 유의미하지 않으므로 dummy 갯수가 많아지는 것을 고려하여 삭제\n",
    "\n",
    "categorical_data.drop('Name',axis=1,inplace=True)"
   ]
  },
  {
   "cell_type": "markdown",
   "metadata": {},
   "source": [
    "### categorical to dummy variables"
   ]
  },
  {
   "cell_type": "code",
   "execution_count": 150,
   "metadata": {},
   "outputs": [],
   "source": [
    "# 범주형 데이터 dummy variable로 설정\n",
    "\n",
    "dummy_categorical_data = pd.get_dummies(categorical_data)"
   ]
  },
  {
   "cell_type": "markdown",
   "metadata": {},
   "source": [
    "### numeric data: year, kilometers_driven, seats, mileage, engine, power"
   ]
  },
  {
   "cell_type": "code",
   "execution_count": 151,
   "metadata": {},
   "outputs": [],
   "source": [
    "x_data = data.drop(columns=categorical_data.columns)\n",
    "x_data.drop('Name',axis=1,inplace=True)"
   ]
  },
  {
   "cell_type": "code",
   "execution_count": 152,
   "metadata": {},
   "outputs": [],
   "source": [
    "import re\n",
    "\n",
    "#기호 전처리\n",
    "\n",
    "x_data['Mileage'] = x_data['Mileage'].apply(lambda x: re.sub('[^0-9]','',x))\n",
    "x_data['Engine'] = x_data['Engine'].apply(lambda x: re.sub('[^0-9]','',x))\n",
    "x_data['Power'] = x_data['Power'].apply(lambda x: re.sub('[^0-9]','',x))"
   ]
  },
  {
   "cell_type": "code",
   "execution_count": 153,
   "metadata": {},
   "outputs": [
    {
     "data": {
      "text/html": [
       "<div>\n",
       "<style scoped>\n",
       "    .dataframe tbody tr th:only-of-type {\n",
       "        vertical-align: middle;\n",
       "    }\n",
       "\n",
       "    .dataframe tbody tr th {\n",
       "        vertical-align: top;\n",
       "    }\n",
       "\n",
       "    .dataframe thead th {\n",
       "        text-align: right;\n",
       "    }\n",
       "</style>\n",
       "<table border=\"1\" class=\"dataframe\">\n",
       "  <thead>\n",
       "    <tr style=\"text-align: right;\">\n",
       "      <th></th>\n",
       "      <th>Year</th>\n",
       "      <th>Kilometers_Driven</th>\n",
       "      <th>Mileage</th>\n",
       "      <th>Engine</th>\n",
       "      <th>Power</th>\n",
       "      <th>Seats</th>\n",
       "    </tr>\n",
       "  </thead>\n",
       "  <tbody>\n",
       "    <tr>\n",
       "      <th>0</th>\n",
       "      <td>2010</td>\n",
       "      <td>72000</td>\n",
       "      <td>266</td>\n",
       "      <td>998</td>\n",
       "      <td>5816</td>\n",
       "      <td>5.0</td>\n",
       "    </tr>\n",
       "    <tr>\n",
       "      <th>1</th>\n",
       "      <td>2015</td>\n",
       "      <td>41000</td>\n",
       "      <td>1967</td>\n",
       "      <td>1582</td>\n",
       "      <td>1262</td>\n",
       "      <td>5.0</td>\n",
       "    </tr>\n",
       "    <tr>\n",
       "      <th>2</th>\n",
       "      <td>2011</td>\n",
       "      <td>46000</td>\n",
       "      <td>182</td>\n",
       "      <td>1199</td>\n",
       "      <td>887</td>\n",
       "      <td>5.0</td>\n",
       "    </tr>\n",
       "    <tr>\n",
       "      <th>3</th>\n",
       "      <td>2012</td>\n",
       "      <td>87000</td>\n",
       "      <td>2077</td>\n",
       "      <td>1248</td>\n",
       "      <td>8876</td>\n",
       "      <td>7.0</td>\n",
       "    </tr>\n",
       "    <tr>\n",
       "      <th>4</th>\n",
       "      <td>2013</td>\n",
       "      <td>40670</td>\n",
       "      <td>152</td>\n",
       "      <td>1968</td>\n",
       "      <td>1408</td>\n",
       "      <td>5.0</td>\n",
       "    </tr>\n",
       "    <tr>\n",
       "      <th>...</th>\n",
       "      <td>...</td>\n",
       "      <td>...</td>\n",
       "      <td>...</td>\n",
       "      <td>...</td>\n",
       "      <td>...</td>\n",
       "      <td>...</td>\n",
       "    </tr>\n",
       "    <tr>\n",
       "      <th>6014</th>\n",
       "      <td>2014</td>\n",
       "      <td>27365</td>\n",
       "      <td>284</td>\n",
       "      <td>1248</td>\n",
       "      <td>74</td>\n",
       "      <td>5.0</td>\n",
       "    </tr>\n",
       "    <tr>\n",
       "      <th>6015</th>\n",
       "      <td>2015</td>\n",
       "      <td>100000</td>\n",
       "      <td>244</td>\n",
       "      <td>1120</td>\n",
       "      <td>71</td>\n",
       "      <td>5.0</td>\n",
       "    </tr>\n",
       "    <tr>\n",
       "      <th>6016</th>\n",
       "      <td>2012</td>\n",
       "      <td>55000</td>\n",
       "      <td>140</td>\n",
       "      <td>2498</td>\n",
       "      <td>112</td>\n",
       "      <td>8.0</td>\n",
       "    </tr>\n",
       "    <tr>\n",
       "      <th>6017</th>\n",
       "      <td>2013</td>\n",
       "      <td>46000</td>\n",
       "      <td>189</td>\n",
       "      <td>998</td>\n",
       "      <td>671</td>\n",
       "      <td>5.0</td>\n",
       "    </tr>\n",
       "    <tr>\n",
       "      <th>6018</th>\n",
       "      <td>2011</td>\n",
       "      <td>47000</td>\n",
       "      <td>2544</td>\n",
       "      <td>936</td>\n",
       "      <td>576</td>\n",
       "      <td>5.0</td>\n",
       "    </tr>\n",
       "  </tbody>\n",
       "</table>\n",
       "<p>5975 rows × 6 columns</p>\n",
       "</div>"
      ],
      "text/plain": [
       "      Year  Kilometers_Driven Mileage Engine Power  Seats\n",
       "0     2010              72000     266    998  5816    5.0\n",
       "1     2015              41000    1967   1582  1262    5.0\n",
       "2     2011              46000     182   1199   887    5.0\n",
       "3     2012              87000    2077   1248  8876    7.0\n",
       "4     2013              40670     152   1968  1408    5.0\n",
       "...    ...                ...     ...    ...   ...    ...\n",
       "6014  2014              27365     284   1248    74    5.0\n",
       "6015  2015             100000     244   1120    71    5.0\n",
       "6016  2012              55000     140   2498   112    8.0\n",
       "6017  2013              46000     189    998   671    5.0\n",
       "6018  2011              47000    2544    936   576    5.0\n",
       "\n",
       "[5975 rows x 6 columns]"
      ]
     },
     "execution_count": 153,
     "metadata": {},
     "output_type": "execute_result"
    }
   ],
   "source": [
    "x_data"
   ]
  },
  {
   "cell_type": "code",
   "execution_count": 154,
   "metadata": {},
   "outputs": [],
   "source": [
    "concat_data = pd.concat([dummy_categorical_data,x_data],axis=1)"
   ]
  },
  {
   "cell_type": "code",
   "execution_count": 155,
   "metadata": {},
   "outputs": [],
   "source": [
    "# 숫자 데이터로 변환\n",
    "concat_data = concat_data.apply(pd.to_numeric)"
   ]
  },
  {
   "cell_type": "markdown",
   "metadata": {},
   "source": [
    "### data distribution"
   ]
  },
  {
   "cell_type": "code",
   "execution_count": 81,
   "metadata": {},
   "outputs": [
    {
     "data": {
      "text/plain": [
       "<seaborn.axisgrid.PairGrid at 0x246a91f9d60>"
      ]
     },
     "execution_count": 81,
     "metadata": {},
     "output_type": "execute_result"
    },
    {
     "data": {
      "image/png": "[encoded data removed]",
      "text/plain": [
       "<Figure size 540x540 with 12 Axes>"
      ]
     },
     "metadata": {
      "needs_background": "light"
     },
     "output_type": "display_data"
    }
   ],
   "source": [
    "# numeric data 선현성 확인\n",
    "\n",
    "sns.pairplot(x_data)"
   ]
  },
  {
   "cell_type": "markdown",
   "metadata": {},
   "source": [
    "### correlation matrix "
   ]
  },
  {
   "cell_type": "code",
   "execution_count": 29,
   "metadata": {},
   "outputs": [
    {
     "data": {
      "text/plain": [
       "<AxesSubplot:>"
      ]
     },
     "execution_count": 29,
     "metadata": {},
     "output_type": "execute_result"
    },
    {
     "data": {
      "image/png": "[encoded data removed]",
      "text/plain": [
       "<Figure size 432x288 with 2 Axes>"
      ]
     },
     "metadata": {
      "needs_background": "light"
     },
     "output_type": "display_data"
    }
   ],
   "source": [
    "sns.heatmap(data = concat_data.corr(),annot=True, fmt = '.1f', cmap='Blues')"
   ]
  },
  {
   "cell_type": "markdown",
   "metadata": {},
   "source": [
    "### target data distribution"
   ]
  },
  {
   "cell_type": "code",
   "execution_count": 82,
   "metadata": {},
   "outputs": [
    {
     "data": {
      "text/plain": [
       "<AxesSubplot:xlabel='Price', ylabel='Density'>"
      ]
     },
     "execution_count": 82,
     "metadata": {},
     "output_type": "execute_result"
    },
    {
     "data": {
      "image/png": "[encoded data removed]",
      "text/plain": [
       "<Figure size 432x288 with 1 Axes>"
      ]
     },
     "metadata": {
      "needs_background": "light"
     },
     "output_type": "display_data"
    }
   ],
   "source": [
    "sns.distplot(target)"
   ]
  },
  {
   "cell_type": "code",
   "execution_count": 156,
   "metadata": {},
   "outputs": [
    {
     "data": {
      "text/plain": [
       "<AxesSubplot:xlabel='Price', ylabel='Density'>"
      ]
     },
     "execution_count": 156,
     "metadata": {},
     "output_type": "execute_result"
    },
    {
     "data": {
      "image/png": "[encoded data removed]",
      "text/plain": [
       "<Figure size 432x288 with 1 Axes>"
      ]
     },
     "metadata": {
      "needs_background": "light"
     },
     "output_type": "display_data"
    }
   ],
   "source": [
    "# target variable 분포 skewness가 너무 심해서 log변환 필요\n",
    "log_target = np.log1p(target)\n",
    "sns.distplot(log_target)"
   ]
  },
  {
   "cell_type": "code",
   "execution_count": 157,
   "metadata": {},
   "outputs": [],
   "source": [
    "tmp_df = pd.concat([concat_data,log_target],axis=1)\n",
    "tmp_df.dropna(axis=0,inplace=True)"
   ]
  },
  {
   "cell_type": "markdown",
   "metadata": {},
   "source": [
    "### LinearRegression"
   ]
  },
  {
   "cell_type": "code",
   "execution_count": 158,
   "metadata": {},
   "outputs": [],
   "source": [
    "from sklearn.linear_model import LinearRegression\n",
    "\n",
    "x_train, x_test, y_train, y_test = train_test_split(tmp_df.drop('Price',axis=1), tmp_df['Price'], test_size=0.33, random_state=123)"
   ]
  },
  {
   "cell_type": "code",
   "execution_count": 159,
   "metadata": {},
   "outputs": [
    {
     "data": {
      "text/plain": [
       "LinearRegression(normalize=True)"
      ]
     },
     "execution_count": 159,
     "metadata": {},
     "output_type": "execute_result"
    }
   ],
   "source": [
    "linear_regression = LinearRegression(fit_intercept=True, normalize=True, n_jobs=None)\n",
    "linear_regression.fit(x_train,y_train)"
   ]
  },
  {
   "cell_type": "code",
   "execution_count": 160,
   "metadata": {},
   "outputs": [
    {
     "data": {
      "text/plain": [
       "0.8447667479515073"
      ]
     },
     "execution_count": 160,
     "metadata": {},
     "output_type": "execute_result"
    }
   ],
   "source": [
    "linear_regression.score(x_test,y_test)"
   ]
  },
  {
   "cell_type": "code",
   "execution_count": 161,
   "metadata": {},
   "outputs": [
    {
     "name": "stdout",
     "output_type": "stream",
     "text": [
      "-1383717056674.2307\n",
      "[ 1.47916896e+12  1.47916896e+12  1.47916896e+12  1.47916896e+12\n",
      "  1.47916896e+12  1.47916896e+12  1.47916896e+12  1.47916896e+12\n",
      "  1.47916896e+12  1.47916896e+12  1.47916896e+12  2.71819597e+11\n",
      "  2.71819597e+11  2.71819597e+11  2.71819597e+11  4.42796003e+11\n",
      "  4.42796003e+11 -8.10067505e+11 -8.10067505e+11 -8.10067505e+11\n",
      " -8.10067505e+11  1.00196451e-01 -6.49038961e-08  2.55936261e-05\n",
      "  6.99537471e-04  5.59974935e-06 -7.40022127e-02]\n"
     ]
    }
   ],
   "source": [
    "print(linear_regression.intercept_)\n",
    "print(linear_regression.coef_)"
   ]
  },
  {
   "cell_type": "code",
   "execution_count": 162,
   "metadata": {
    "scrolled": true
   },
   "outputs": [
    {
     "data": {
      "text/plain": [
       "[<matplotlib.lines.Line2D at 0x246b33f1f40>]"
      ]
     },
     "execution_count": 162,
     "metadata": {},
     "output_type": "execute_result"
    },
    {
     "data": {
      "image/png": "[encoded data removed]",
      "text/plain": [
       "<Figure size 432x288 with 1 Axes>"
      ]
     },
     "metadata": {
      "needs_background": "light"
     },
     "output_type": "display_data"
    }
   ],
   "source": [
    "plt.plot(y_test, linear_regression.predict(X_test),'.')"
   ]
  },
  {
   "cell_type": "code",
   "execution_count": 164,
   "metadata": {},
   "outputs": [
    {
     "data": {
      "text/plain": [
       "0.2957827477793703"
      ]
     },
     "execution_count": 164,
     "metadata": {},
     "output_type": "execute_result"
    }
   ],
   "source": [
    "rmse_linear_accuracy = mean_squared_error(y_test,linear_regression.predict(x_test))**0.5\n",
    "rmse_linear_accuracy"
   ]
  },
  {
   "cell_type": "markdown",
   "metadata": {},
   "source": [
    "### XGBoost regression\n",
    "\n",
    "#### tree기반 모델이기 때문에, 단순 regression과 다르게 scaler등 따로 전처리가 필요가 없다. \n",
    "#### categorical variable도 dummy variable로 단순 처리\n",
    "\n",
    "#### XGBoost 모델링 -> BayesianOptimization을 통해 hyperparameter tuning -> optimal hyperparameter를 통해서 XGBoost training -> feature importance확인"
   ]
  },
  {
   "cell_type": "code",
   "execution_count": 114,
   "metadata": {},
   "outputs": [],
   "source": [
    "import pandas as pd\n",
    "import numpy as np\n",
    "import matplotlib.pyplot as plt\n",
    "import os\n",
    "import sklearn\n",
    "from sklearn.model_selection import train_test_split\n",
    "from sklearn.ensemble import AdaBoostRegressor\n",
    "from sklearn.svm import SVR\n",
    "from sklearn.metrics import mean_squared_error, accuracy_score\n",
    "import time\n",
    "from sklearn.linear_model import Ridge\n",
    "from sklearn.linear_model import Lasso\n",
    "from sklearn.preprocessing import StandardScaler\n",
    "import xgboost as xgb\n",
    "from xgboost import XGBClassifier\n",
    "from sklearn.model_selection import KFold, GridSearchCV\n",
    "from bayes_opt import BayesianOptimization\n",
    "%matplotlib inline"
   ]
  },
  {
   "cell_type": "code",
   "execution_count": 168,
   "metadata": {},
   "outputs": [],
   "source": [
    "d_train = xgb.DMatrix(x_train, label=y_train)\n",
    "d_test = xgb.DMatrix(x_test, label=y_test)\n",
    "watchlist = [(d_train, 'train'), (d_test, 'test')]"
   ]
  },
  {
   "cell_type": "code",
   "execution_count": 169,
   "metadata": {},
   "outputs": [],
   "source": [
    "def xgb_evaluate(max_depth, eta, gamma, colsample_bytree, subsample, min_child_weight,lamb):\n",
    "    params = {'eval_metric': 'rmse',\n",
    "              'objective': 'reg:linear',\n",
    "              'max_depth': int(round(max_depth)),\n",
    "              'subsample': subsample, \n",
    "              'eta': eta,\n",
    "              'gamma': gamma,\n",
    "              'colsample_bytree': colsample_bytree,\n",
    "              'min_child_weight' : min_child_weight,\n",
    "              'gpu_id' : 0, \n",
    "              'tree_method' : 'gpu_hist',\n",
    "              'lambda': lamb,\n",
    "              'grow_policy': 'lossguide'}\n",
    "    cv_result = xgb.cv(params, xgb.DMatrix(concat_data, label = target) ,num_boost_round = 10000, nfold = 5, early_stopping_rounds=100)\n",
    "    \n",
    "    return -1.0 * cv_result['test-rmse-mean'].iloc[-1]"
   ]
  },
  {
   "cell_type": "code",
   "execution_count": 34,
   "metadata": {
    "scrolled": true
   },
   "outputs": [
    {
     "name": "stdout",
     "output_type": "stream",
     "text": [
      "|   iter    |  target   | colsam... |    eta    |   gamma   |   lamb    | max_depth | min_ch... | subsample |\n",
      "-------------------------------------------------------------------------------------------------------------\n",
      "[16:06:10] WARNING: C:/Users/Administrator/workspace/xgboost-win64_release_1.4.0/src/objective/regression_obj.cu:171: reg:linear is now deprecated in favor of reg:squarederror.\n",
      "[16:06:10] WARNING: C:/Users/Administrator/workspace/xgboost-win64_release_1.4.0/src/objective/regression_obj.cu:171: reg:linear is now deprecated in favor of reg:squarederror.\n",
      "[16:06:10] WARNING: C:/Users/Administrator/workspace/xgboost-win64_release_1.4.0/src/objective/regression_obj.cu:171: reg:linear is now deprecated in favor of reg:squarederror.\n",
      "[16:06:10] WARNING: C:/Users/Administrator/workspace/xgboost-win64_release_1.4.0/src/objective/regression_obj.cu:171: reg:linear is now deprecated in favor of reg:squarederror.\n",
      "[16:06:10] WARNING: C:/Users/Administrator/workspace/xgboost-win64_release_1.4.0/src/objective/regression_obj.cu:171: reg:linear is now deprecated in favor of reg:squarederror.\n",
      "| \u001b[0m 1       \u001b[0m | \u001b[0m-3.437   \u001b[0m | \u001b[0m 0.7602  \u001b[0m | \u001b[0m 0.06981 \u001b[0m | \u001b[0m 0.8861  \u001b[0m | \u001b[0m 0.7733  \u001b[0m | \u001b[0m 3.647   \u001b[0m | \u001b[0m 1.795   \u001b[0m | \u001b[0m 0.6874  \u001b[0m |\n",
      "[16:07:19] WARNING: C:/Users/Administrator/workspace/xgboost-win64_release_1.4.0/src/objective/regression_obj.cu:171: reg:linear is now deprecated in favor of reg:squarederror.\n",
      "[16:07:19] WARNING: C:/Users/Administrator/workspace/xgboost-win64_release_1.4.0/src/objective/regression_obj.cu:171: reg:linear is now deprecated in favor of reg:squarederror.\n",
      "[16:07:19] WARNING: C:/Users/Administrator/workspace/xgboost-win64_release_1.4.0/src/objective/regression_obj.cu:171: reg:linear is now deprecated in favor of reg:squarederror.\n",
      "[16:07:19] WARNING: C:/Users/Administrator/workspace/xgboost-win64_release_1.4.0/src/objective/regression_obj.cu:171: reg:linear is now deprecated in favor of reg:squarederror.\n",
      "[16:07:19] WARNING: C:/Users/Administrator/workspace/xgboost-win64_release_1.4.0/src/objective/regression_obj.cu:171: reg:linear is now deprecated in favor of reg:squarederror.\n",
      "| \u001b[0m 2       \u001b[0m | \u001b[0m-3.911   \u001b[0m | \u001b[0m 0.978   \u001b[0m | \u001b[0m 0.1964  \u001b[0m | \u001b[0m 0.665   \u001b[0m | \u001b[0m 0.7125  \u001b[0m | \u001b[0m 8.931   \u001b[0m | \u001b[0m 0.8702  \u001b[0m | \u001b[0m 0.8143  \u001b[0m |\n",
      "[16:07:39] WARNING: C:/Users/Administrator/workspace/xgboost-win64_release_1.4.0/src/objective/regression_obj.cu:171: reg:linear is now deprecated in favor of reg:squarederror.\n",
      "[16:07:39] WARNING: C:/Users/Administrator/workspace/xgboost-win64_release_1.4.0/src/objective/regression_obj.cu:171: reg:linear is now deprecated in favor of reg:squarederror.\n",
      "[16:07:39] WARNING: C:/Users/Administrator/workspace/xgboost-win64_release_1.4.0/src/objective/regression_obj.cu:171: reg:linear is now deprecated in favor of reg:squarederror.\n",
      "[16:07:39] WARNING: C:/Users/Administrator/workspace/xgboost-win64_release_1.4.0/src/objective/regression_obj.cu:171: reg:linear is now deprecated in favor of reg:squarederror.\n",
      "[16:07:39] WARNING: C:/Users/Administrator/workspace/xgboost-win64_release_1.4.0/src/objective/regression_obj.cu:171: reg:linear is now deprecated in favor of reg:squarederror.\n",
      "| \u001b[0m 3       \u001b[0m | \u001b[0m-3.583   \u001b[0m | \u001b[0m 0.8228  \u001b[0m | \u001b[0m 0.07776 \u001b[0m | \u001b[0m 0.1151  \u001b[0m | \u001b[0m 0.7329  \u001b[0m | \u001b[0m 8.548   \u001b[0m | \u001b[0m 0.008525\u001b[0m | \u001b[0m 0.5663  \u001b[0m |\n",
      "[16:09:16] WARNING: C:/Users/Administrator/workspace/xgboost-win64_release_1.4.0/src/objective/regression_obj.cu:171: reg:linear is now deprecated in favor of reg:squarederror.\n",
      "[16:09:16] WARNING: C:/Users/Administrator/workspace/xgboost-win64_release_1.4.0/src/objective/regression_obj.cu:171: reg:linear is now deprecated in favor of reg:squarederror.\n",
      "[16:09:16] WARNING: C:/Users/Administrator/workspace/xgboost-win64_release_1.4.0/src/objective/regression_obj.cu:171: reg:linear is now deprecated in favor of reg:squarederror.\n",
      "[16:09:16] WARNING: C:/Users/Administrator/workspace/xgboost-win64_release_1.4.0/src/objective/regression_obj.cu:171: reg:linear is now deprecated in favor of reg:squarederror.\n",
      "[16:09:16] WARNING: C:/Users/Administrator/workspace/xgboost-win64_release_1.4.0/src/objective/regression_obj.cu:171: reg:linear is now deprecated in favor of reg:squarederror.\n",
      "| \u001b[0m 4       \u001b[0m | \u001b[0m-3.567   \u001b[0m | \u001b[0m 0.5137  \u001b[0m | \u001b[0m 0.1299  \u001b[0m | \u001b[0m 0.708   \u001b[0m | \u001b[0m 0.5513  \u001b[0m | \u001b[0m 3.651   \u001b[0m | \u001b[0m 3.831   \u001b[0m | \u001b[0m 0.834   \u001b[0m |\n",
      "[16:10:02] WARNING: C:/Users/Administrator/workspace/xgboost-win64_release_1.4.0/src/objective/regression_obj.cu:171: reg:linear is now deprecated in favor of reg:squarederror.\n",
      "[16:10:03] WARNING: C:/Users/Administrator/workspace/xgboost-win64_release_1.4.0/src/objective/regression_obj.cu:171: reg:linear is now deprecated in favor of reg:squarederror.\n",
      "[16:10:03] WARNING: C:/Users/Administrator/workspace/xgboost-win64_release_1.4.0/src/objective/regression_obj.cu:171: reg:linear is now deprecated in favor of reg:squarederror.\n",
      "[16:10:03] WARNING: C:/Users/Administrator/workspace/xgboost-win64_release_1.4.0/src/objective/regression_obj.cu:171: reg:linear is now deprecated in favor of reg:squarederror.\n",
      "[16:10:03] WARNING: C:/Users/Administrator/workspace/xgboost-win64_release_1.4.0/src/objective/regression_obj.cu:171: reg:linear is now deprecated in favor of reg:squarederror.\n",
      "| \u001b[0m 5       \u001b[0m | \u001b[0m-3.822   \u001b[0m | \u001b[0m 0.7923  \u001b[0m | \u001b[0m 0.146   \u001b[0m | \u001b[0m 0.1481  \u001b[0m | \u001b[0m 0.699   \u001b[0m | \u001b[0m 9.888   \u001b[0m | \u001b[0m 1.526   \u001b[0m | \u001b[0m 0.8708  \u001b[0m |\n",
      "[16:10:46] WARNING: C:/Users/Administrator/workspace/xgboost-win64_release_1.4.0/src/objective/regression_obj.cu:171: reg:linear is now deprecated in favor of reg:squarederror.\n",
      "[16:10:46] WARNING: C:/Users/Administrator/workspace/xgboost-win64_release_1.4.0/src/objective/regression_obj.cu:171: reg:linear is now deprecated in favor of reg:squarederror.\n",
      "[16:10:46] WARNING: C:/Users/Administrator/workspace/xgboost-win64_release_1.4.0/src/objective/regression_obj.cu:171: reg:linear is now deprecated in favor of reg:squarederror.\n",
      "[16:10:46] WARNING: C:/Users/Administrator/workspace/xgboost-win64_release_1.4.0/src/objective/regression_obj.cu:171: reg:linear is now deprecated in favor of reg:squarederror.\n",
      "[16:10:46] WARNING: C:/Users/Administrator/workspace/xgboost-win64_release_1.4.0/src/objective/regression_obj.cu:171: reg:linear is now deprecated in favor of reg:squarederror.\n",
      "| \u001b[0m 6       \u001b[0m | \u001b[0m-3.618   \u001b[0m | \u001b[0m 0.7135  \u001b[0m | \u001b[0m 0.1155  \u001b[0m | \u001b[0m 0.7832  \u001b[0m | \u001b[0m 0.9141  \u001b[0m | \u001b[0m 9.262   \u001b[0m | \u001b[0m 2.386   \u001b[0m | \u001b[0m 0.853   \u001b[0m |\n",
      "[16:11:19] WARNING: C:/Users/Administrator/workspace/xgboost-win64_release_1.4.0/src/objective/regression_obj.cu:171: reg:linear is now deprecated in favor of reg:squarederror.\n",
      "[16:11:19] WARNING: C:/Users/Administrator/workspace/xgboost-win64_release_1.4.0/src/objective/regression_obj.cu:171: reg:linear is now deprecated in favor of reg:squarederror.\n",
      "[16:11:19] WARNING: C:/Users/Administrator/workspace/xgboost-win64_release_1.4.0/src/objective/regression_obj.cu:171: reg:linear is now deprecated in favor of reg:squarederror.\n",
      "[16:11:19] WARNING: C:/Users/Administrator/workspace/xgboost-win64_release_1.4.0/src/objective/regression_obj.cu:171: reg:linear is now deprecated in favor of reg:squarederror.\n",
      "[16:11:19] WARNING: C:/Users/Administrator/workspace/xgboost-win64_release_1.4.0/src/objective/regression_obj.cu:171: reg:linear is now deprecated in favor of reg:squarederror.\n",
      "| \u001b[0m 7       \u001b[0m | \u001b[0m-3.685   \u001b[0m | \u001b[0m 0.8482  \u001b[0m | \u001b[0m 0.1401  \u001b[0m | \u001b[0m 0.09161 \u001b[0m | \u001b[0m 0.721   \u001b[0m | \u001b[0m 9.97    \u001b[0m | \u001b[0m 2.906   \u001b[0m | \u001b[0m 0.669   \u001b[0m |\n",
      "[16:12:18] WARNING: C:/Users/Administrator/workspace/xgboost-win64_release_1.4.0/src/objective/regression_obj.cu:171: reg:linear is now deprecated in favor of reg:squarederror.\n",
      "[16:12:18] WARNING: C:/Users/Administrator/workspace/xgboost-win64_release_1.4.0/src/objective/regression_obj.cu:171: reg:linear is now deprecated in favor of reg:squarederror.\n",
      "[16:12:18] WARNING: C:/Users/Administrator/workspace/xgboost-win64_release_1.4.0/src/objective/regression_obj.cu:171: reg:linear is now deprecated in favor of reg:squarederror.\n",
      "[16:12:18] WARNING: C:/Users/Administrator/workspace/xgboost-win64_release_1.4.0/src/objective/regression_obj.cu:171: reg:linear is now deprecated in favor of reg:squarederror.\n"
     ]
    },
    {
     "name": "stdout",
     "output_type": "stream",
     "text": [
      "[16:12:18] WARNING: C:/Users/Administrator/workspace/xgboost-win64_release_1.4.0/src/objective/regression_obj.cu:171: reg:linear is now deprecated in favor of reg:squarederror.\n",
      "| \u001b[0m 8       \u001b[0m | \u001b[0m-3.56    \u001b[0m | \u001b[0m 0.7253  \u001b[0m | \u001b[0m 0.1058  \u001b[0m | \u001b[0m 0.1619  \u001b[0m | \u001b[0m 0.2129  \u001b[0m | \u001b[0m 6.919   \u001b[0m | \u001b[0m 4.306   \u001b[0m | \u001b[0m 0.5609  \u001b[0m |\n",
      "[16:13:16] WARNING: C:/Users/Administrator/workspace/xgboost-win64_release_1.4.0/src/objective/regression_obj.cu:171: reg:linear is now deprecated in favor of reg:squarederror.\n",
      "[16:13:16] WARNING: C:/Users/Administrator/workspace/xgboost-win64_release_1.4.0/src/objective/regression_obj.cu:171: reg:linear is now deprecated in favor of reg:squarederror.\n",
      "[16:13:16] WARNING: C:/Users/Administrator/workspace/xgboost-win64_release_1.4.0/src/objective/regression_obj.cu:171: reg:linear is now deprecated in favor of reg:squarederror.\n",
      "[16:13:16] WARNING: C:/Users/Administrator/workspace/xgboost-win64_release_1.4.0/src/objective/regression_obj.cu:171: reg:linear is now deprecated in favor of reg:squarederror.\n",
      "[16:13:16] WARNING: C:/Users/Administrator/workspace/xgboost-win64_release_1.4.0/src/objective/regression_obj.cu:171: reg:linear is now deprecated in favor of reg:squarederror.\n",
      "| \u001b[0m 9       \u001b[0m | \u001b[0m-3.823   \u001b[0m | \u001b[0m 0.9249  \u001b[0m | \u001b[0m 0.161   \u001b[0m | \u001b[0m 0.0275  \u001b[0m | \u001b[0m 0.2521  \u001b[0m | \u001b[0m 7.049   \u001b[0m | \u001b[0m 0.1212  \u001b[0m | \u001b[0m 0.8492  \u001b[0m |\n",
      "[16:14:04] WARNING: C:/Users/Administrator/workspace/xgboost-win64_release_1.4.0/src/objective/regression_obj.cu:171: reg:linear is now deprecated in favor of reg:squarederror.\n",
      "[16:14:04] WARNING: C:/Users/Administrator/workspace/xgboost-win64_release_1.4.0/src/objective/regression_obj.cu:171: reg:linear is now deprecated in favor of reg:squarederror.\n",
      "[16:14:04] WARNING: C:/Users/Administrator/workspace/xgboost-win64_release_1.4.0/src/objective/regression_obj.cu:171: reg:linear is now deprecated in favor of reg:squarederror.\n",
      "[16:14:04] WARNING: C:/Users/Administrator/workspace/xgboost-win64_release_1.4.0/src/objective/regression_obj.cu:171: reg:linear is now deprecated in favor of reg:squarederror.\n",
      "[16:14:04] WARNING: C:/Users/Administrator/workspace/xgboost-win64_release_1.4.0/src/objective/regression_obj.cu:171: reg:linear is now deprecated in favor of reg:squarederror.\n",
      "| \u001b[0m 10      \u001b[0m | \u001b[0m-3.481   \u001b[0m | \u001b[0m 0.8042  \u001b[0m | \u001b[0m 0.06262 \u001b[0m | \u001b[0m 0.7155  \u001b[0m | \u001b[0m 0.4747  \u001b[0m | \u001b[0m 5.795   \u001b[0m | \u001b[0m 3.322   \u001b[0m | \u001b[0m 0.5514  \u001b[0m |\n",
      "[16:15:44] WARNING: C:/Users/Administrator/workspace/xgboost-win64_release_1.4.0/src/objective/regression_obj.cu:171: reg:linear is now deprecated in favor of reg:squarederror.\n",
      "[16:15:44] WARNING: C:/Users/Administrator/workspace/xgboost-win64_release_1.4.0/src/objective/regression_obj.cu:171: reg:linear is now deprecated in favor of reg:squarederror.\n",
      "[16:15:44] WARNING: C:/Users/Administrator/workspace/xgboost-win64_release_1.4.0/src/objective/regression_obj.cu:171: reg:linear is now deprecated in favor of reg:squarederror.\n",
      "[16:15:44] WARNING: C:/Users/Administrator/workspace/xgboost-win64_release_1.4.0/src/objective/regression_obj.cu:171: reg:linear is now deprecated in favor of reg:squarederror.\n",
      "[16:15:44] WARNING: C:/Users/Administrator/workspace/xgboost-win64_release_1.4.0/src/objective/regression_obj.cu:171: reg:linear is now deprecated in favor of reg:squarederror.\n",
      "| \u001b[0m 11      \u001b[0m | \u001b[0m-3.615   \u001b[0m | \u001b[0m 0.5979  \u001b[0m | \u001b[0m 0.1907  \u001b[0m | \u001b[0m 0.9863  \u001b[0m | \u001b[0m 0.05979 \u001b[0m | \u001b[0m 3.507   \u001b[0m | \u001b[0m 2.483   \u001b[0m | \u001b[0m 0.7202  \u001b[0m |\n",
      "[16:16:15] WARNING: C:/Users/Administrator/workspace/xgboost-win64_release_1.4.0/src/objective/regression_obj.cu:171: reg:linear is now deprecated in favor of reg:squarederror.\n",
      "[16:16:15] WARNING: C:/Users/Administrator/workspace/xgboost-win64_release_1.4.0/src/objective/regression_obj.cu:171: reg:linear is now deprecated in favor of reg:squarederror.\n",
      "[16:16:15] WARNING: C:/Users/Administrator/workspace/xgboost-win64_release_1.4.0/src/objective/regression_obj.cu:171: reg:linear is now deprecated in favor of reg:squarederror.\n",
      "[16:16:15] WARNING: C:/Users/Administrator/workspace/xgboost-win64_release_1.4.0/src/objective/regression_obj.cu:171: reg:linear is now deprecated in favor of reg:squarederror.\n",
      "[16:16:15] WARNING: C:/Users/Administrator/workspace/xgboost-win64_release_1.4.0/src/objective/regression_obj.cu:171: reg:linear is now deprecated in favor of reg:squarederror.\n",
      "| \u001b[0m 12      \u001b[0m | \u001b[0m-3.481   \u001b[0m | \u001b[0m 0.8661  \u001b[0m | \u001b[0m 0.08782 \u001b[0m | \u001b[0m 0.8155  \u001b[0m | \u001b[0m 0.5868  \u001b[0m | \u001b[0m 5.711   \u001b[0m | \u001b[0m 3.348   \u001b[0m | \u001b[0m 0.531   \u001b[0m |\n",
      "[16:17:37] WARNING: C:/Users/Administrator/workspace/xgboost-win64_release_1.4.0/src/objective/regression_obj.cu:171: reg:linear is now deprecated in favor of reg:squarederror.\n",
      "[16:17:37] WARNING: C:/Users/Administrator/workspace/xgboost-win64_release_1.4.0/src/objective/regression_obj.cu:171: reg:linear is now deprecated in favor of reg:squarederror.\n",
      "[16:17:37] WARNING: C:/Users/Administrator/workspace/xgboost-win64_release_1.4.0/src/objective/regression_obj.cu:171: reg:linear is now deprecated in favor of reg:squarederror.\n",
      "[16:17:37] WARNING: C:/Users/Administrator/workspace/xgboost-win64_release_1.4.0/src/objective/regression_obj.cu:171: reg:linear is now deprecated in favor of reg:squarederror.\n",
      "[16:17:37] WARNING: C:/Users/Administrator/workspace/xgboost-win64_release_1.4.0/src/objective/regression_obj.cu:171: reg:linear is now deprecated in favor of reg:squarederror.\n",
      "| \u001b[0m 13      \u001b[0m | \u001b[0m-3.443   \u001b[0m | \u001b[0m 0.8653  \u001b[0m | \u001b[0m 0.02    \u001b[0m | \u001b[0m 0.7197  \u001b[0m | \u001b[0m 1.0     \u001b[0m | \u001b[0m 4.557   \u001b[0m | \u001b[0m 2.147   \u001b[0m | \u001b[0m 0.6221  \u001b[0m |\n",
      "[16:21:48] WARNING: C:/Users/Administrator/workspace/xgboost-win64_release_1.4.0/src/objective/regression_obj.cu:171: reg:linear is now deprecated in favor of reg:squarederror.\n",
      "[16:21:48] WARNING: C:/Users/Administrator/workspace/xgboost-win64_release_1.4.0/src/objective/regression_obj.cu:171: reg:linear is now deprecated in favor of reg:squarederror.\n",
      "[16:21:48] WARNING: C:/Users/Administrator/workspace/xgboost-win64_release_1.4.0/src/objective/regression_obj.cu:171: reg:linear is now deprecated in favor of reg:squarederror.\n",
      "[16:21:48] WARNING: C:/Users/Administrator/workspace/xgboost-win64_release_1.4.0/src/objective/regression_obj.cu:171: reg:linear is now deprecated in favor of reg:squarederror.\n",
      "[16:21:48] WARNING: C:/Users/Administrator/workspace/xgboost-win64_release_1.4.0/src/objective/regression_obj.cu:171: reg:linear is now deprecated in favor of reg:squarederror.\n",
      "| \u001b[0m 14      \u001b[0m | \u001b[0m-3.488   \u001b[0m | \u001b[0m 1.0     \u001b[0m | \u001b[0m 0.02    \u001b[0m | \u001b[0m 0.001347\u001b[0m | \u001b[0m 1.0     \u001b[0m | \u001b[0m 3.97    \u001b[0m | \u001b[0m 1.349   \u001b[0m | \u001b[0m 0.5     \u001b[0m |\n",
      "[16:25:29] WARNING: C:/Users/Administrator/workspace/xgboost-win64_release_1.4.0/src/objective/regression_obj.cu:171: reg:linear is now deprecated in favor of reg:squarederror.\n",
      "[16:25:29] WARNING: C:/Users/Administrator/workspace/xgboost-win64_release_1.4.0/src/objective/regression_obj.cu:171: reg:linear is now deprecated in favor of reg:squarederror.\n",
      "[16:25:29] WARNING: C:/Users/Administrator/workspace/xgboost-win64_release_1.4.0/src/objective/regression_obj.cu:171: reg:linear is now deprecated in favor of reg:squarederror.\n",
      "[16:25:29] WARNING: C:/Users/Administrator/workspace/xgboost-win64_release_1.4.0/src/objective/regression_obj.cu:171: reg:linear is now deprecated in favor of reg:squarederror.\n",
      "[16:25:29] WARNING: C:/Users/Administrator/workspace/xgboost-win64_release_1.4.0/src/objective/regression_obj.cu:171: reg:linear is now deprecated in favor of reg:squarederror.\n",
      "| \u001b[0m 15      \u001b[0m | \u001b[0m-3.634   \u001b[0m | \u001b[0m 0.5     \u001b[0m | \u001b[0m 0.02    \u001b[0m | \u001b[0m 1.0     \u001b[0m | \u001b[0m 1.0     \u001b[0m | \u001b[0m 4.336   \u001b[0m | \u001b[0m 1.037   \u001b[0m | \u001b[0m 1.0     \u001b[0m |\n",
      "[16:26:50] WARNING: C:/Users/Administrator/workspace/xgboost-win64_release_1.4.0/src/objective/regression_obj.cu:171: reg:linear is now deprecated in favor of reg:squarederror.\n",
      "[16:26:50] WARNING: C:/Users/Administrator/workspace/xgboost-win64_release_1.4.0/src/objective/regression_obj.cu:171: reg:linear is now deprecated in favor of reg:squarederror.\n",
      "[16:26:50] WARNING: C:/Users/Administrator/workspace/xgboost-win64_release_1.4.0/src/objective/regression_obj.cu:171: reg:linear is now deprecated in favor of reg:squarederror.\n",
      "[16:26:50] WARNING: C:/Users/Administrator/workspace/xgboost-win64_release_1.4.0/src/objective/regression_obj.cu:171: reg:linear is now deprecated in favor of reg:squarederror.\n",
      "[16:26:50] WARNING: C:/Users/Administrator/workspace/xgboost-win64_release_1.4.0/src/objective/regression_obj.cu:171: reg:linear is now deprecated in favor of reg:squarederror.\n"
     ]
    },
    {
     "name": "stdout",
     "output_type": "stream",
     "text": [
      "| \u001b[0m 16      \u001b[0m | \u001b[0m-3.505   \u001b[0m | \u001b[0m 1.0     \u001b[0m | \u001b[0m 0.02    \u001b[0m | \u001b[0m 0.06984 \u001b[0m | \u001b[0m 1.0     \u001b[0m | \u001b[0m 3.772   \u001b[0m | \u001b[0m 2.497   \u001b[0m | \u001b[0m 0.5     \u001b[0m |\n",
      "[16:29:29] WARNING: C:/Users/Administrator/workspace/xgboost-win64_release_1.4.0/src/objective/regression_obj.cu:171: reg:linear is now deprecated in favor of reg:squarederror.\n",
      "[16:29:29] WARNING: C:/Users/Administrator/workspace/xgboost-win64_release_1.4.0/src/objective/regression_obj.cu:171: reg:linear is now deprecated in favor of reg:squarederror.\n",
      "[16:29:29] WARNING: C:/Users/Administrator/workspace/xgboost-win64_release_1.4.0/src/objective/regression_obj.cu:171: reg:linear is now deprecated in favor of reg:squarederror.\n",
      "[16:29:29] WARNING: C:/Users/Administrator/workspace/xgboost-win64_release_1.4.0/src/objective/regression_obj.cu:171: reg:linear is now deprecated in favor of reg:squarederror.\n",
      "[16:29:29] WARNING: C:/Users/Administrator/workspace/xgboost-win64_release_1.4.0/src/objective/regression_obj.cu:171: reg:linear is now deprecated in favor of reg:squarederror.\n",
      "| \u001b[0m 17      \u001b[0m | \u001b[0m-3.594   \u001b[0m | \u001b[0m 1.0     \u001b[0m | \u001b[0m 0.02    \u001b[0m | \u001b[0m 0.0     \u001b[0m | \u001b[0m 1.0     \u001b[0m | \u001b[0m 5.201   \u001b[0m | \u001b[0m 2.859   \u001b[0m | \u001b[0m 1.0     \u001b[0m |\n",
      "[16:33:31] WARNING: C:/Users/Administrator/workspace/xgboost-win64_release_1.4.0/src/objective/regression_obj.cu:171: reg:linear is now deprecated in favor of reg:squarederror.\n",
      "[16:33:31] WARNING: C:/Users/Administrator/workspace/xgboost-win64_release_1.4.0/src/objective/regression_obj.cu:171: reg:linear is now deprecated in favor of reg:squarederror.\n",
      "[16:33:31] WARNING: C:/Users/Administrator/workspace/xgboost-win64_release_1.4.0/src/objective/regression_obj.cu:171: reg:linear is now deprecated in favor of reg:squarederror.\n",
      "[16:33:31] WARNING: C:/Users/Administrator/workspace/xgboost-win64_release_1.4.0/src/objective/regression_obj.cu:171: reg:linear is now deprecated in favor of reg:squarederror.\n",
      "[16:33:31] WARNING: C:/Users/Administrator/workspace/xgboost-win64_release_1.4.0/src/objective/regression_obj.cu:171: reg:linear is now deprecated in favor of reg:squarederror.\n",
      "| \u001b[0m 18      \u001b[0m | \u001b[0m-3.668   \u001b[0m | \u001b[0m 1.0     \u001b[0m | \u001b[0m 0.2     \u001b[0m | \u001b[0m 0.3245  \u001b[0m | \u001b[0m 1.0     \u001b[0m | \u001b[0m 3.0     \u001b[0m | \u001b[0m 1.577   \u001b[0m | \u001b[0m 1.0     \u001b[0m |\n",
      "[16:33:52] WARNING: C:/Users/Administrator/workspace/xgboost-win64_release_1.4.0/src/objective/regression_obj.cu:171: reg:linear is now deprecated in favor of reg:squarederror.\n",
      "[16:33:52] WARNING: C:/Users/Administrator/workspace/xgboost-win64_release_1.4.0/src/objective/regression_obj.cu:171: reg:linear is now deprecated in favor of reg:squarederror.\n",
      "[16:33:52] WARNING: C:/Users/Administrator/workspace/xgboost-win64_release_1.4.0/src/objective/regression_obj.cu:171: reg:linear is now deprecated in favor of reg:squarederror.\n",
      "[16:33:52] WARNING: C:/Users/Administrator/workspace/xgboost-win64_release_1.4.0/src/objective/regression_obj.cu:171: reg:linear is now deprecated in favor of reg:squarederror.\n",
      "[16:33:52] WARNING: C:/Users/Administrator/workspace/xgboost-win64_release_1.4.0/src/objective/regression_obj.cu:171: reg:linear is now deprecated in favor of reg:squarederror.\n",
      "| \u001b[0m 19      \u001b[0m | \u001b[0m-3.487   \u001b[0m | \u001b[0m 1.0     \u001b[0m | \u001b[0m 0.02    \u001b[0m | \u001b[0m 0.4864  \u001b[0m | \u001b[0m 0.2806  \u001b[0m | \u001b[0m 4.29    \u001b[0m | \u001b[0m 1.799   \u001b[0m | \u001b[0m 0.5     \u001b[0m |\n",
      "[16:37:18] WARNING: C:/Users/Administrator/workspace/xgboost-win64_release_1.4.0/src/objective/regression_obj.cu:171: reg:linear is now deprecated in favor of reg:squarederror.\n",
      "[16:37:18] WARNING: C:/Users/Administrator/workspace/xgboost-win64_release_1.4.0/src/objective/regression_obj.cu:171: reg:linear is now deprecated in favor of reg:squarederror.\n",
      "[16:37:18] WARNING: C:/Users/Administrator/workspace/xgboost-win64_release_1.4.0/src/objective/regression_obj.cu:171: reg:linear is now deprecated in favor of reg:squarederror.\n",
      "[16:37:18] WARNING: C:/Users/Administrator/workspace/xgboost-win64_release_1.4.0/src/objective/regression_obj.cu:171: reg:linear is now deprecated in favor of reg:squarederror.\n",
      "[16:37:18] WARNING: C:/Users/Administrator/workspace/xgboost-win64_release_1.4.0/src/objective/regression_obj.cu:171: reg:linear is now deprecated in favor of reg:squarederror.\n",
      "| \u001b[0m 20      \u001b[0m | \u001b[0m-3.471   \u001b[0m | \u001b[0m 1.0     \u001b[0m | \u001b[0m 0.02    \u001b[0m | \u001b[0m 1.0     \u001b[0m | \u001b[0m 1.0     \u001b[0m | \u001b[0m 3.916   \u001b[0m | \u001b[0m 2.393   \u001b[0m | \u001b[0m 0.5     \u001b[0m |\n",
      "=============================================================================================================\n"
     ]
    }
   ],
   "source": [
    "xgb_bo = BayesianOptimization(xgb_evaluate, {'max_depth': (3,10),\n",
    "                                             'eta': (0.02,0.2),\n",
    "                                             'gamma': (0, 1),\n",
    "                                             'colsample_bytree': (0.5, 1),\n",
    "                                             'subsample': (0.5, 1),\n",
    "                                             'min_child_weight': (0,5),\n",
    "                                             'lamb': (0,1)})\n",
    "xgb_bo.maximize(init_points=10, n_iter = 10)"
   ]
  },
  {
   "cell_type": "code",
   "execution_count": 35,
   "metadata": {},
   "outputs": [],
   "source": [
    "params = xgb_bo.max['params']"
   ]
  },
  {
   "cell_type": "code",
   "execution_count": 36,
   "metadata": {},
   "outputs": [],
   "source": [
    "params['max_depth'] = int(params['max_depth'])"
   ]
  },
  {
   "cell_type": "code",
   "execution_count": 122,
   "metadata": {},
   "outputs": [
    {
     "data": {
      "text/plain": [
       "{'colsample_bytree': 0.7601939609376154,\n",
       " 'eta': 0.06980794207533704,\n",
       " 'gamma': 0.8860937892503885,\n",
       " 'lamb': 0.7732502882787768,\n",
       " 'max_depth': 3,\n",
       " 'min_child_weight': 1.79540694768415,\n",
       " 'subsample': 0.6873511523388128}"
      ]
     },
     "execution_count": 122,
     "metadata": {},
     "output_type": "execute_result"
    }
   ],
   "source": [
    "params"
   ]
  },
  {
   "cell_type": "code",
   "execution_count": 165,
   "metadata": {},
   "outputs": [],
   "source": [
    "params = {'colsample_bytree': 0.7601939609376154,\n",
    " 'eta': 0.06980794207533704,\n",
    " 'gamma': 0.8860937892503885,\n",
    " 'lamb': 0.7732502882787768,\n",
    " 'max_depth': 3,\n",
    " 'min_child_weight': 1.79540694768415,\n",
    " 'subsample': 0.6873511523388128}\n",
    "\n",
    "params['max_depth'] = int(params['max_depth'])"
   ]
  },
  {
   "cell_type": "code",
   "execution_count": 170,
   "metadata": {},
   "outputs": [
    {
     "name": "stdout",
     "output_type": "stream",
     "text": [
      "[23:21:52] WARNING: C:/Users/Administrator/workspace/xgboost-win64_release_1.4.0/src/learner.cc:573: \n",
      "Parameters: { \"lamb\" } might not be used.\n",
      "\n",
      "  This may not be accurate due to some parameters are only used in language bindings but\n",
      "  passed down to XGBoost core.  Or some parameters are not used but slip through this\n",
      "  verification. Please open an issue if you find above cases.\n",
      "\n",
      "\n",
      "[0]\ttrain-rmse:1.57929\ttest-rmse:1.62495\n",
      "[10]\ttrain-rmse:0.83269\ttest-rmse:0.85949\n",
      "[20]\ttrain-rmse:0.48721\ttest-rmse:0.50485\n",
      "[30]\ttrain-rmse:0.33577\ttest-rmse:0.34812\n",
      "[40]\ttrain-rmse:0.27816\ttest-rmse:0.28970\n",
      "[50]\ttrain-rmse:0.25310\ttest-rmse:0.26448\n",
      "[60]\ttrain-rmse:0.24148\ttest-rmse:0.25343\n",
      "[70]\ttrain-rmse:0.23482\ttest-rmse:0.24735\n",
      "[80]\ttrain-rmse:0.22998\ttest-rmse:0.24255\n",
      "[90]\ttrain-rmse:0.22687\ttest-rmse:0.23991\n",
      "[100]\ttrain-rmse:0.22396\ttest-rmse:0.23757\n",
      "[110]\ttrain-rmse:0.22257\ttest-rmse:0.23649\n",
      "[120]\ttrain-rmse:0.22053\ttest-rmse:0.23508\n",
      "[130]\ttrain-rmse:0.21909\ttest-rmse:0.23383\n",
      "[140]\ttrain-rmse:0.21764\ttest-rmse:0.23247\n",
      "[150]\ttrain-rmse:0.21617\ttest-rmse:0.23156\n",
      "[160]\ttrain-rmse:0.21455\ttest-rmse:0.23036\n",
      "[170]\ttrain-rmse:0.21385\ttest-rmse:0.22990\n",
      "[180]\ttrain-rmse:0.21336\ttest-rmse:0.22972\n",
      "[190]\ttrain-rmse:0.21313\ttest-rmse:0.22958\n",
      "[200]\ttrain-rmse:0.21282\ttest-rmse:0.22932\n",
      "[210]\ttrain-rmse:0.21231\ttest-rmse:0.22901\n",
      "[220]\ttrain-rmse:0.21171\ttest-rmse:0.22837\n",
      "[230]\ttrain-rmse:0.21131\ttest-rmse:0.22797\n",
      "[240]\ttrain-rmse:0.21085\ttest-rmse:0.22734\n",
      "[250]\ttrain-rmse:0.21038\ttest-rmse:0.22690\n",
      "[260]\ttrain-rmse:0.21038\ttest-rmse:0.22689\n",
      "[270]\ttrain-rmse:0.21021\ttest-rmse:0.22670\n",
      "[280]\ttrain-rmse:0.20984\ttest-rmse:0.22641\n",
      "[290]\ttrain-rmse:0.20963\ttest-rmse:0.22629\n",
      "[300]\ttrain-rmse:0.20963\ttest-rmse:0.22629\n",
      "[310]\ttrain-rmse:0.20877\ttest-rmse:0.22565\n",
      "[320]\ttrain-rmse:0.20836\ttest-rmse:0.22557\n",
      "[330]\ttrain-rmse:0.20806\ttest-rmse:0.22541\n",
      "[340]\ttrain-rmse:0.20774\ttest-rmse:0.22510\n",
      "[350]\ttrain-rmse:0.20704\ttest-rmse:0.22457\n",
      "[360]\ttrain-rmse:0.20654\ttest-rmse:0.22412\n",
      "[370]\ttrain-rmse:0.20642\ttest-rmse:0.22406\n",
      "[380]\ttrain-rmse:0.20617\ttest-rmse:0.22399\n",
      "[390]\ttrain-rmse:0.20617\ttest-rmse:0.22399\n",
      "[400]\ttrain-rmse:0.20602\ttest-rmse:0.22396\n",
      "[410]\ttrain-rmse:0.20602\ttest-rmse:0.22396\n",
      "[420]\ttrain-rmse:0.20602\ttest-rmse:0.22395\n",
      "[430]\ttrain-rmse:0.20572\ttest-rmse:0.22367\n",
      "[440]\ttrain-rmse:0.20535\ttest-rmse:0.22329\n",
      "[450]\ttrain-rmse:0.20506\ttest-rmse:0.22312\n",
      "[460]\ttrain-rmse:0.20506\ttest-rmse:0.22312\n",
      "[470]\ttrain-rmse:0.20473\ttest-rmse:0.22277\n",
      "[480]\ttrain-rmse:0.20429\ttest-rmse:0.22248\n",
      "[490]\ttrain-rmse:0.20429\ttest-rmse:0.22248\n",
      "[500]\ttrain-rmse:0.20429\ttest-rmse:0.22247\n",
      "[510]\ttrain-rmse:0.20415\ttest-rmse:0.22236\n",
      "[520]\ttrain-rmse:0.20415\ttest-rmse:0.22236\n",
      "[530]\ttrain-rmse:0.20359\ttest-rmse:0.22186\n",
      "[540]\ttrain-rmse:0.20323\ttest-rmse:0.22157\n",
      "[550]\ttrain-rmse:0.20323\ttest-rmse:0.22157\n",
      "[560]\ttrain-rmse:0.20309\ttest-rmse:0.22149\n",
      "[570]\ttrain-rmse:0.20309\ttest-rmse:0.22148\n",
      "[580]\ttrain-rmse:0.20309\ttest-rmse:0.22148\n",
      "[590]\ttrain-rmse:0.20293\ttest-rmse:0.22133\n",
      "[600]\ttrain-rmse:0.20280\ttest-rmse:0.22121\n",
      "[610]\ttrain-rmse:0.20261\ttest-rmse:0.22091\n",
      "[620]\ttrain-rmse:0.20247\ttest-rmse:0.22078\n",
      "[630]\ttrain-rmse:0.20247\ttest-rmse:0.22078\n",
      "[640]\ttrain-rmse:0.20248\ttest-rmse:0.22079\n",
      "[650]\ttrain-rmse:0.20248\ttest-rmse:0.22079\n",
      "[660]\ttrain-rmse:0.20247\ttest-rmse:0.22078\n",
      "[670]\ttrain-rmse:0.20247\ttest-rmse:0.22078\n",
      "[680]\ttrain-rmse:0.20247\ttest-rmse:0.22078\n",
      "[690]\ttrain-rmse:0.20247\ttest-rmse:0.22078\n",
      "[700]\ttrain-rmse:0.20239\ttest-rmse:0.22065\n",
      "[710]\ttrain-rmse:0.20239\ttest-rmse:0.22064\n",
      "[720]\ttrain-rmse:0.20239\ttest-rmse:0.22063\n",
      "[730]\ttrain-rmse:0.20214\ttest-rmse:0.22054\n",
      "[740]\ttrain-rmse:0.20214\ttest-rmse:0.22055\n",
      "[750]\ttrain-rmse:0.20199\ttest-rmse:0.22049\n",
      "[760]\ttrain-rmse:0.20140\ttest-rmse:0.22004\n",
      "[770]\ttrain-rmse:0.20098\ttest-rmse:0.21980\n",
      "[780]\ttrain-rmse:0.20064\ttest-rmse:0.21941\n",
      "[790]\ttrain-rmse:0.20064\ttest-rmse:0.21942\n",
      "[800]\ttrain-rmse:0.20043\ttest-rmse:0.21924\n",
      "[810]\ttrain-rmse:0.20032\ttest-rmse:0.21910\n",
      "[820]\ttrain-rmse:0.20032\ttest-rmse:0.21910\n",
      "[830]\ttrain-rmse:0.20015\ttest-rmse:0.21895\n",
      "[840]\ttrain-rmse:0.20015\ttest-rmse:0.21895\n",
      "[850]\ttrain-rmse:0.19993\ttest-rmse:0.21883\n",
      "[860]\ttrain-rmse:0.19993\ttest-rmse:0.21883\n",
      "[870]\ttrain-rmse:0.19975\ttest-rmse:0.21873\n",
      "[880]\ttrain-rmse:0.19909\ttest-rmse:0.21818\n",
      "[890]\ttrain-rmse:0.19860\ttest-rmse:0.21782\n",
      "[900]\ttrain-rmse:0.19838\ttest-rmse:0.21772\n",
      "[910]\ttrain-rmse:0.19824\ttest-rmse:0.21767\n",
      "[920]\ttrain-rmse:0.19824\ttest-rmse:0.21767\n",
      "[930]\ttrain-rmse:0.19809\ttest-rmse:0.21750\n",
      "[940]\ttrain-rmse:0.19776\ttest-rmse:0.21725\n",
      "[950]\ttrain-rmse:0.19776\ttest-rmse:0.21726\n",
      "[960]\ttrain-rmse:0.19749\ttest-rmse:0.21708\n",
      "[970]\ttrain-rmse:0.19734\ttest-rmse:0.21697\n",
      "[980]\ttrain-rmse:0.19734\ttest-rmse:0.21697\n",
      "[990]\ttrain-rmse:0.19685\ttest-rmse:0.21669\n",
      "[1000]\ttrain-rmse:0.19685\ttest-rmse:0.21668\n",
      "[1010]\ttrain-rmse:0.19685\ttest-rmse:0.21668\n",
      "[1020]\ttrain-rmse:0.19685\ttest-rmse:0.21668\n",
      "[1030]\ttrain-rmse:0.19665\ttest-rmse:0.21646\n",
      "[1040]\ttrain-rmse:0.19646\ttest-rmse:0.21631\n",
      "[1050]\ttrain-rmse:0.19646\ttest-rmse:0.21631\n",
      "[1060]\ttrain-rmse:0.19636\ttest-rmse:0.21618\n",
      "[1070]\ttrain-rmse:0.19625\ttest-rmse:0.21605\n",
      "[1080]\ttrain-rmse:0.19587\ttest-rmse:0.21574\n",
      "[1090]\ttrain-rmse:0.19576\ttest-rmse:0.21560\n",
      "[1100]\ttrain-rmse:0.19576\ttest-rmse:0.21561\n",
      "[1110]\ttrain-rmse:0.19576\ttest-rmse:0.21561\n",
      "[1120]\ttrain-rmse:0.19576\ttest-rmse:0.21560\n",
      "[1130]\ttrain-rmse:0.19576\ttest-rmse:0.21561\n",
      "[1140]\ttrain-rmse:0.19576\ttest-rmse:0.21560\n",
      "[1150]\ttrain-rmse:0.19564\ttest-rmse:0.21554\n",
      "[1160]\ttrain-rmse:0.19564\ttest-rmse:0.21555\n",
      "[1170]\ttrain-rmse:0.19564\ttest-rmse:0.21554\n",
      "[1180]\ttrain-rmse:0.19564\ttest-rmse:0.21555\n",
      "[1190]\ttrain-rmse:0.19564\ttest-rmse:0.21555\n",
      "[1200]\ttrain-rmse:0.19564\ttest-rmse:0.21555\n",
      "[1210]\ttrain-rmse:0.19551\ttest-rmse:0.21541\n",
      "[1220]\ttrain-rmse:0.19551\ttest-rmse:0.21541\n",
      "[1230]\ttrain-rmse:0.19551\ttest-rmse:0.21541\n",
      "[1240]\ttrain-rmse:0.19551\ttest-rmse:0.21541\n",
      "[1250]\ttrain-rmse:0.19551\ttest-rmse:0.21540\n",
      "[1260]\ttrain-rmse:0.19551\ttest-rmse:0.21541\n",
      "[1270]\ttrain-rmse:0.19551\ttest-rmse:0.21541\n",
      "[1280]\ttrain-rmse:0.19551\ttest-rmse:0.21541\n",
      "[1290]\ttrain-rmse:0.19551\ttest-rmse:0.21542\n",
      "[1300]\ttrain-rmse:0.19551\ttest-rmse:0.21541\n",
      "[1310]\ttrain-rmse:0.19512\ttest-rmse:0.21519\n",
      "[1320]\ttrain-rmse:0.19512\ttest-rmse:0.21519\n",
      "[1330]\ttrain-rmse:0.19512\ttest-rmse:0.21520\n",
      "[1340]\ttrain-rmse:0.19512\ttest-rmse:0.21519\n",
      "[1350]\ttrain-rmse:0.19472\ttest-rmse:0.21481\n",
      "[1360]\ttrain-rmse:0.19461\ttest-rmse:0.21471\n",
      "[1370]\ttrain-rmse:0.19461\ttest-rmse:0.21471\n",
      "[1380]\ttrain-rmse:0.19461\ttest-rmse:0.21473\n",
      "[1390]\ttrain-rmse:0.19461\ttest-rmse:0.21471\n",
      "[1400]\ttrain-rmse:0.19447\ttest-rmse:0.21465\n",
      "[1410]\ttrain-rmse:0.19447\ttest-rmse:0.21465\n",
      "[1420]\ttrain-rmse:0.19447\ttest-rmse:0.21465\n",
      "[1430]\ttrain-rmse:0.19447\ttest-rmse:0.21465\n",
      "[1440]\ttrain-rmse:0.19432\ttest-rmse:0.21464\n",
      "[1450]\ttrain-rmse:0.19432\ttest-rmse:0.21464\n",
      "[1460]\ttrain-rmse:0.19420\ttest-rmse:0.21462\n",
      "[1470]\ttrain-rmse:0.19420\ttest-rmse:0.21460\n",
      "[1480]\ttrain-rmse:0.19420\ttest-rmse:0.21460\n",
      "[1490]\ttrain-rmse:0.19420\ttest-rmse:0.21460\n",
      "[1500]\ttrain-rmse:0.19420\ttest-rmse:0.21460\n",
      "[1510]\ttrain-rmse:0.19420\ttest-rmse:0.21461\n",
      "[1520]\ttrain-rmse:0.19420\ttest-rmse:0.21460\n",
      "[1530]\ttrain-rmse:0.19401\ttest-rmse:0.21441\n",
      "[1540]\ttrain-rmse:0.19401\ttest-rmse:0.21441\n",
      "[1550]\ttrain-rmse:0.19401\ttest-rmse:0.21440\n",
      "[1560]\ttrain-rmse:0.19401\ttest-rmse:0.21440\n",
      "[1570]\ttrain-rmse:0.19401\ttest-rmse:0.21439\n",
      "[1580]\ttrain-rmse:0.19401\ttest-rmse:0.21440\n",
      "[1590]\ttrain-rmse:0.19401\ttest-rmse:0.21440\n",
      "[1600]\ttrain-rmse:0.19391\ttest-rmse:0.21433\n",
      "[1610]\ttrain-rmse:0.19391\ttest-rmse:0.21433\n",
      "[1620]\ttrain-rmse:0.19362\ttest-rmse:0.21414\n",
      "[1630]\ttrain-rmse:0.19347\ttest-rmse:0.21402\n",
      "[1640]\ttrain-rmse:0.19346\ttest-rmse:0.21401\n",
      "[1650]\ttrain-rmse:0.19347\ttest-rmse:0.21402\n",
      "[1660]\ttrain-rmse:0.19329\ttest-rmse:0.21388\n",
      "[1670]\ttrain-rmse:0.19329\ttest-rmse:0.21389\n",
      "[1680]\ttrain-rmse:0.19316\ttest-rmse:0.21377\n",
      "[1690]\ttrain-rmse:0.19316\ttest-rmse:0.21377\n",
      "[1700]\ttrain-rmse:0.19316\ttest-rmse:0.21377\n",
      "[1710]\ttrain-rmse:0.19316\ttest-rmse:0.21377\n",
      "[1720]\ttrain-rmse:0.19316\ttest-rmse:0.21376\n",
      "[1730]\ttrain-rmse:0.19316\ttest-rmse:0.21376\n",
      "[1740]\ttrain-rmse:0.19295\ttest-rmse:0.21349\n",
      "[1750]\ttrain-rmse:0.19295\ttest-rmse:0.21349\n",
      "[1760]\ttrain-rmse:0.19284\ttest-rmse:0.21332\n",
      "[1770]\ttrain-rmse:0.19268\ttest-rmse:0.21318\n",
      "[1780]\ttrain-rmse:0.19268\ttest-rmse:0.21318\n",
      "[1790]\ttrain-rmse:0.19268\ttest-rmse:0.21318\n"
     ]
    },
    {
     "name": "stdout",
     "output_type": "stream",
     "text": [
      "[1800]\ttrain-rmse:0.19268\ttest-rmse:0.21318\n",
      "[1810]\ttrain-rmse:0.19236\ttest-rmse:0.21271\n",
      "[1820]\ttrain-rmse:0.19236\ttest-rmse:0.21271\n",
      "[1830]\ttrain-rmse:0.19204\ttest-rmse:0.21250\n",
      "[1840]\ttrain-rmse:0.19204\ttest-rmse:0.21250\n",
      "[1850]\ttrain-rmse:0.19204\ttest-rmse:0.21249\n",
      "[1860]\ttrain-rmse:0.19188\ttest-rmse:0.21233\n",
      "[1870]\ttrain-rmse:0.19173\ttest-rmse:0.21219\n",
      "[1880]\ttrain-rmse:0.19173\ttest-rmse:0.21219\n",
      "[1890]\ttrain-rmse:0.19173\ttest-rmse:0.21219\n",
      "[1900]\ttrain-rmse:0.19173\ttest-rmse:0.21220\n",
      "[1910]\ttrain-rmse:0.19173\ttest-rmse:0.21220\n",
      "[1920]\ttrain-rmse:0.19173\ttest-rmse:0.21219\n",
      "[1930]\ttrain-rmse:0.19173\ttest-rmse:0.21220\n",
      "[1940]\ttrain-rmse:0.19173\ttest-rmse:0.21220\n",
      "[1950]\ttrain-rmse:0.19173\ttest-rmse:0.21220\n",
      "[1960]\ttrain-rmse:0.19173\ttest-rmse:0.21221\n",
      "[1968]\ttrain-rmse:0.19173\ttest-rmse:0.21220\n"
     ]
    }
   ],
   "source": [
    "clf = xgb.train(params, d_train, 10000, watchlist, early_stopping_rounds=100, verbose_eval=10)"
   ]
  },
  {
   "cell_type": "markdown",
   "metadata": {},
   "source": [
    "#### xgboost로 feature importance를 보았을 때, Engine, Kilometers_Driven, Year, Power, Mileage가 가장 중요하게 나왔다\n"
   ]
  },
  {
   "cell_type": "code",
   "execution_count": 171,
   "metadata": {
    "scrolled": true
   },
   "outputs": [
    {
     "data": {
      "text/plain": [
       "{'Engine': 284,\n",
       " 'Kilometers_Driven': 66,\n",
       " 'Transmission_Automatic': 41,\n",
       " 'Year': 155,\n",
       " 'Seats': 27,\n",
       " 'Fuel_Type_Petrol': 3,\n",
       " 'Transmission_Manual': 12,\n",
       " 'Fuel_Type_Diesel': 11,\n",
       " 'Power': 196,\n",
       " 'Location_Coimbatore': 20,\n",
       " 'Owner_Type_First': 10,\n",
       " 'Mileage': 91,\n",
       " 'Location_Kolkata': 23,\n",
       " 'Location_Hyderabad': 25,\n",
       " 'Location_Bangalore': 16,\n",
       " 'Location_Kochi': 2,\n",
       " 'Location_Delhi': 4,\n",
       " 'Location_Mumbai': 2,\n",
       " 'Location_Pune': 1,\n",
       " 'Location_Ahmedabad': 1}"
      ]
     },
     "execution_count": 171,
     "metadata": {},
     "output_type": "execute_result"
    }
   ],
   "source": [
    "clf.get_fscore()"
   ]
  },
  {
   "cell_type": "code",
   "execution_count": 172,
   "metadata": {},
   "outputs": [],
   "source": [
    "xg_pred = clf.predict(d_test)"
   ]
  },
  {
   "cell_type": "code",
   "execution_count": 173,
   "metadata": {
    "scrolled": true
   },
   "outputs": [
    {
     "name": "stdout",
     "output_type": "stream",
     "text": [
      "0.04502867387632311\n"
     ]
    }
   ],
   "source": [
    "from sklearn.metrics import mean_squared_error\n",
    "\n",
    "xgb_accuracy = mean_squared_error(y_test,xg_pred)\n",
    "print(xgb_accuracy)"
   ]
  },
  {
   "cell_type": "markdown",
   "metadata": {},
   "source": [
    "### 결론: rmse와 scoring을 비교해보았을 때, 복잡한 모형인 boosting 계열의 xgboost이  단순 선형회귀분석 보다 성능이 나음"
   ]
  },
  {
   "cell_type": "code",
   "execution_count": null,
   "metadata": {},
   "outputs": [],
   "source": []
  }
 ],
 "metadata": {
  "colab": {
   "collapsed_sections": [],
   "name": "Regression_과제2",
   "provenance": []
  },
  "kernelspec": {
   "display_name": "Python 3",
   "language": "python",
   "name": "python3"
  },
  "language_info": {
   "codemirror_mode": {
    "name": "ipython",
    "version": 3
   },
   "file_extension": ".py",
   "mimetype": "text/x-python",
   "name": "python",
   "nbconvert_exporter": "python",
   "pygments_lexer": "ipython3",
   "version": "3.8.0"
  }
 },
 "nbformat": 4,
 "nbformat_minor": 1
}

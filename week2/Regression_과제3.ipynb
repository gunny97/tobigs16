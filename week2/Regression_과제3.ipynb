{
 "cells": [
  {
   "cell_type": "markdown",
   "metadata": {
    "id": "fu39oBW0RVn5"
   },
   "source": [
    "# Assignment3"
   ]
  },
  {
   "cell_type": "markdown",
   "metadata": {
    "id": "Sy6Vc-LlRVn_"
   },
   "source": [
    "1. sklearn 패키지를 사용해 로지스틱 회귀모형으로 데이터를 분석해 주세요 \n",
    "2. 성능지표를 계산하고 이에 대해 해석해 주세요 \n",
    "   - sklearn : mean accuracy, f1 score 등 다양한 성능지표 계산 \n",
    "   - confusion matrix : tp, fp, fn, tn 값을 통해 성능지표 계산  \n",
    "3. 어떤 성능지표를 기준으로 성능을 개선을 시도했고, 그러한 선택의 이유를 적어주세요.\n",
    "4. **해석을 상세하게 달아주세요 !**"
   ]
  },
  {
   "cell_type": "markdown",
   "metadata": {
    "id": "8rN2SWezRVn_"
   },
   "source": [
    "## Data "
   ]
  },
  {
   "cell_type": "markdown",
   "metadata": {
    "id": "Y7SYKNvQRVn_"
   },
   "source": [
    "출처 : https://www.kaggle.com/mlg-ulb/creditcardfraud\n",
    "\n",
    "\n",
    "* V1 ~ V28 : 비식별화 된 개인정보 \n",
    "* **Class** : Target 변수  \n",
    "  - 1 : fraudulent transactions (사기)\n",
    "  - 0 : otherwise "
   ]
  },
  {
   "cell_type": "code",
   "execution_count": 146,
   "metadata": {
    "id": "Uvjw2fTCRVoA"
   },
   "outputs": [],
   "source": [
    "import pandas as pd\n",
    "import numpy as np\n",
    "import seaborn as sns\n",
    "import matplotlib.pyplot as plt\n",
    "from sklearn.linear_model import LogisticRegression\n",
    "from sklearn.model_selection import train_test_split\n",
    "from sklearn.metrics import roc_curve,accuracy_score,confusion_matrix,recall_score,precision_score\n",
    "from sklearn.preprocessing import StandardScaler, RobustScaler\n",
    "import warnings\n",
    "warnings.filterwarnings(action='ignore')"
   ]
  },
  {
   "cell_type": "code",
   "execution_count": 54,
   "metadata": {
    "id": "znQit70ZRVoA"
   },
   "outputs": [],
   "source": [
    "data = pd.read_csv(\"assignment3_creditcard.csv\")"
   ]
  },
  {
   "cell_type": "code",
   "execution_count": 55,
   "metadata": {
    "colab": {
     "base_uri": "https://localhost:8080/",
     "height": 220
    },
    "id": "v98OeXW5RVoB",
    "outputId": "42afeddc-07e6-4224-95ee-08b455f72475"
   },
   "outputs": [
    {
     "data": {
      "text/html": [
       "<div>\n",
       "<style scoped>\n",
       "    .dataframe tbody tr th:only-of-type {\n",
       "        vertical-align: middle;\n",
       "    }\n",
       "\n",
       "    .dataframe tbody tr th {\n",
       "        vertical-align: top;\n",
       "    }\n",
       "\n",
       "    .dataframe thead th {\n",
       "        text-align: right;\n",
       "    }\n",
       "</style>\n",
       "<table border=\"1\" class=\"dataframe\">\n",
       "  <thead>\n",
       "    <tr style=\"text-align: right;\">\n",
       "      <th></th>\n",
       "      <th>V1</th>\n",
       "      <th>V2</th>\n",
       "      <th>V3</th>\n",
       "      <th>V4</th>\n",
       "      <th>V5</th>\n",
       "      <th>V6</th>\n",
       "      <th>V7</th>\n",
       "      <th>V8</th>\n",
       "      <th>V9</th>\n",
       "      <th>V10</th>\n",
       "      <th>...</th>\n",
       "      <th>V20</th>\n",
       "      <th>V21</th>\n",
       "      <th>V22</th>\n",
       "      <th>V23</th>\n",
       "      <th>V24</th>\n",
       "      <th>V25</th>\n",
       "      <th>V26</th>\n",
       "      <th>V27</th>\n",
       "      <th>V28</th>\n",
       "      <th>Class</th>\n",
       "    </tr>\n",
       "  </thead>\n",
       "  <tbody>\n",
       "    <tr>\n",
       "      <th>0</th>\n",
       "      <td>-1.848212</td>\n",
       "      <td>2.384900</td>\n",
       "      <td>0.379573</td>\n",
       "      <td>1.048381</td>\n",
       "      <td>-0.845070</td>\n",
       "      <td>2.537837</td>\n",
       "      <td>-4.542983</td>\n",
       "      <td>-10.201458</td>\n",
       "      <td>-1.504967</td>\n",
       "      <td>-2.234167</td>\n",
       "      <td>...</td>\n",
       "      <td>2.585817</td>\n",
       "      <td>-5.291690</td>\n",
       "      <td>0.859364</td>\n",
       "      <td>0.423231</td>\n",
       "      <td>-0.506985</td>\n",
       "      <td>1.020052</td>\n",
       "      <td>-0.627751</td>\n",
       "      <td>-0.017753</td>\n",
       "      <td>0.280982</td>\n",
       "      <td>0</td>\n",
       "    </tr>\n",
       "    <tr>\n",
       "      <th>1</th>\n",
       "      <td>2.071805</td>\n",
       "      <td>-0.477943</td>\n",
       "      <td>-1.444444</td>\n",
       "      <td>-0.548657</td>\n",
       "      <td>0.010036</td>\n",
       "      <td>-0.582242</td>\n",
       "      <td>-0.042878</td>\n",
       "      <td>-0.247160</td>\n",
       "      <td>1.171923</td>\n",
       "      <td>-0.342382</td>\n",
       "      <td>...</td>\n",
       "      <td>-0.077306</td>\n",
       "      <td>0.042858</td>\n",
       "      <td>0.390125</td>\n",
       "      <td>0.041569</td>\n",
       "      <td>0.598427</td>\n",
       "      <td>0.098803</td>\n",
       "      <td>0.979686</td>\n",
       "      <td>-0.093244</td>\n",
       "      <td>-0.065615</td>\n",
       "      <td>0</td>\n",
       "    </tr>\n",
       "    <tr>\n",
       "      <th>2</th>\n",
       "      <td>-2.985294</td>\n",
       "      <td>-2.747472</td>\n",
       "      <td>1.194068</td>\n",
       "      <td>-0.003036</td>\n",
       "      <td>-1.151041</td>\n",
       "      <td>-0.263559</td>\n",
       "      <td>0.553500</td>\n",
       "      <td>0.635600</td>\n",
       "      <td>0.438545</td>\n",
       "      <td>-1.806488</td>\n",
       "      <td>...</td>\n",
       "      <td>1.345776</td>\n",
       "      <td>0.373760</td>\n",
       "      <td>-0.385777</td>\n",
       "      <td>1.197596</td>\n",
       "      <td>0.407229</td>\n",
       "      <td>0.008013</td>\n",
       "      <td>0.762362</td>\n",
       "      <td>-0.299024</td>\n",
       "      <td>-0.303929</td>\n",
       "      <td>0</td>\n",
       "    </tr>\n",
       "    <tr>\n",
       "      <th>3</th>\n",
       "      <td>-1.479452</td>\n",
       "      <td>1.542874</td>\n",
       "      <td>0.290895</td>\n",
       "      <td>0.838142</td>\n",
       "      <td>-0.529290</td>\n",
       "      <td>-0.717661</td>\n",
       "      <td>0.484516</td>\n",
       "      <td>0.545092</td>\n",
       "      <td>-0.780767</td>\n",
       "      <td>0.324804</td>\n",
       "      <td>...</td>\n",
       "      <td>0.038397</td>\n",
       "      <td>0.116771</td>\n",
       "      <td>0.405560</td>\n",
       "      <td>-0.116453</td>\n",
       "      <td>0.541275</td>\n",
       "      <td>-0.216665</td>\n",
       "      <td>-0.415578</td>\n",
       "      <td>0.027126</td>\n",
       "      <td>-0.150347</td>\n",
       "      <td>0</td>\n",
       "    </tr>\n",
       "    <tr>\n",
       "      <th>4</th>\n",
       "      <td>-0.281976</td>\n",
       "      <td>-0.309699</td>\n",
       "      <td>-2.162299</td>\n",
       "      <td>-0.851514</td>\n",
       "      <td>0.106167</td>\n",
       "      <td>-1.483888</td>\n",
       "      <td>1.930994</td>\n",
       "      <td>-0.843049</td>\n",
       "      <td>-1.249272</td>\n",
       "      <td>1.079608</td>\n",
       "      <td>...</td>\n",
       "      <td>-0.875516</td>\n",
       "      <td>-0.004199</td>\n",
       "      <td>1.015108</td>\n",
       "      <td>-0.026748</td>\n",
       "      <td>0.077115</td>\n",
       "      <td>-1.468822</td>\n",
       "      <td>0.751700</td>\n",
       "      <td>0.496732</td>\n",
       "      <td>0.331001</td>\n",
       "      <td>0</td>\n",
       "    </tr>\n",
       "  </tbody>\n",
       "</table>\n",
       "<p>5 rows × 29 columns</p>\n",
       "</div>"
      ],
      "text/plain": [
       "         V1        V2        V3        V4        V5        V6        V7  \\\n",
       "0 -1.848212  2.384900  0.379573  1.048381 -0.845070  2.537837 -4.542983   \n",
       "1  2.071805 -0.477943 -1.444444 -0.548657  0.010036 -0.582242 -0.042878   \n",
       "2 -2.985294 -2.747472  1.194068 -0.003036 -1.151041 -0.263559  0.553500   \n",
       "3 -1.479452  1.542874  0.290895  0.838142 -0.529290 -0.717661  0.484516   \n",
       "4 -0.281976 -0.309699 -2.162299 -0.851514  0.106167 -1.483888  1.930994   \n",
       "\n",
       "          V8        V9       V10  ...       V20       V21       V22       V23  \\\n",
       "0 -10.201458 -1.504967 -2.234167  ...  2.585817 -5.291690  0.859364  0.423231   \n",
       "1  -0.247160  1.171923 -0.342382  ... -0.077306  0.042858  0.390125  0.041569   \n",
       "2   0.635600  0.438545 -1.806488  ...  1.345776  0.373760 -0.385777  1.197596   \n",
       "3   0.545092 -0.780767  0.324804  ...  0.038397  0.116771  0.405560 -0.116453   \n",
       "4  -0.843049 -1.249272  1.079608  ... -0.875516 -0.004199  1.015108 -0.026748   \n",
       "\n",
       "        V24       V25       V26       V27       V28  Class  \n",
       "0 -0.506985  1.020052 -0.627751 -0.017753  0.280982      0  \n",
       "1  0.598427  0.098803  0.979686 -0.093244 -0.065615      0  \n",
       "2  0.407229  0.008013  0.762362 -0.299024 -0.303929      0  \n",
       "3  0.541275 -0.216665 -0.415578  0.027126 -0.150347      0  \n",
       "4  0.077115 -1.468822  0.751700  0.496732  0.331001      0  \n",
       "\n",
       "[5 rows x 29 columns]"
      ]
     },
     "execution_count": 55,
     "metadata": {},
     "output_type": "execute_result"
    }
   ],
   "source": [
    "data.head()"
   ]
  },
  {
   "cell_type": "code",
   "execution_count": 56,
   "metadata": {},
   "outputs": [],
   "source": [
    "columns = data.columns"
   ]
  },
  {
   "cell_type": "code",
   "execution_count": 57,
   "metadata": {},
   "outputs": [
    {
     "data": {
      "text/plain": [
       "28678"
      ]
     },
     "execution_count": 57,
     "metadata": {},
     "output_type": "execute_result"
    }
   ],
   "source": [
    "# 총 데이터 28678개\n",
    "len(data)"
   ]
  },
  {
   "cell_type": "code",
   "execution_count": 58,
   "metadata": {},
   "outputs": [
    {
     "data": {
      "text/plain": [
       "246"
      ]
     },
     "execution_count": 58,
     "metadata": {},
     "output_type": "execute_result"
    }
   ],
   "source": [
    "# fraud 값이 1이므로, data['class']의 sum을 구하면 fraud의 갯수임을 알 수 있음\n",
    "data['Class'].sum()"
   ]
  },
  {
   "cell_type": "markdown",
   "metadata": {},
   "source": [
    "### data preprocessing"
   ]
  },
  {
   "cell_type": "code",
   "execution_count": 60,
   "metadata": {},
   "outputs": [],
   "source": [
    "# feature, target data split -> 2/3:1/3 = train_ : test_ 비율로 진행\n",
    "x_train, x_test, y_train, y_test = train_test_split(data.drop('Class',axis=1),data.Class,test_size=0.33,random_state=123)"
   ]
  },
  {
   "cell_type": "code",
   "execution_count": 61,
   "metadata": {
    "scrolled": true
   },
   "outputs": [
    {
     "data": {
      "text/html": [
       "<div>\n",
       "<style scoped>\n",
       "    .dataframe tbody tr th:only-of-type {\n",
       "        vertical-align: middle;\n",
       "    }\n",
       "\n",
       "    .dataframe tbody tr th {\n",
       "        vertical-align: top;\n",
       "    }\n",
       "\n",
       "    .dataframe thead th {\n",
       "        text-align: right;\n",
       "    }\n",
       "</style>\n",
       "<table border=\"1\" class=\"dataframe\">\n",
       "  <thead>\n",
       "    <tr style=\"text-align: right;\">\n",
       "      <th></th>\n",
       "      <th>V1</th>\n",
       "      <th>V2</th>\n",
       "      <th>V3</th>\n",
       "      <th>V4</th>\n",
       "      <th>V5</th>\n",
       "      <th>V6</th>\n",
       "      <th>V7</th>\n",
       "      <th>V8</th>\n",
       "      <th>V9</th>\n",
       "      <th>V10</th>\n",
       "      <th>...</th>\n",
       "      <th>V19</th>\n",
       "      <th>V20</th>\n",
       "      <th>V21</th>\n",
       "      <th>V22</th>\n",
       "      <th>V23</th>\n",
       "      <th>V24</th>\n",
       "      <th>V25</th>\n",
       "      <th>V26</th>\n",
       "      <th>V27</th>\n",
       "      <th>V28</th>\n",
       "    </tr>\n",
       "  </thead>\n",
       "  <tbody>\n",
       "    <tr>\n",
       "      <th>14511</th>\n",
       "      <td>-0.693242</td>\n",
       "      <td>1.307364</td>\n",
       "      <td>0.883202</td>\n",
       "      <td>0.094417</td>\n",
       "      <td>1.006947</td>\n",
       "      <td>-0.471342</td>\n",
       "      <td>0.914839</td>\n",
       "      <td>0.115650</td>\n",
       "      <td>-0.938329</td>\n",
       "      <td>-1.253514</td>\n",
       "      <td>...</td>\n",
       "      <td>-1.236827</td>\n",
       "      <td>-0.117785</td>\n",
       "      <td>0.107842</td>\n",
       "      <td>0.287287</td>\n",
       "      <td>-0.306588</td>\n",
       "      <td>-0.123966</td>\n",
       "      <td>0.161687</td>\n",
       "      <td>-0.479456</td>\n",
       "      <td>0.121667</td>\n",
       "      <td>0.137357</td>\n",
       "    </tr>\n",
       "    <tr>\n",
       "      <th>27368</th>\n",
       "      <td>0.147405</td>\n",
       "      <td>0.993982</td>\n",
       "      <td>-0.463475</td>\n",
       "      <td>-0.561005</td>\n",
       "      <td>0.916386</td>\n",
       "      <td>-0.779976</td>\n",
       "      <td>0.958372</td>\n",
       "      <td>-0.081944</td>\n",
       "      <td>0.020738</td>\n",
       "      <td>-0.825385</td>\n",
       "      <td>...</td>\n",
       "      <td>-0.185336</td>\n",
       "      <td>0.004524</td>\n",
       "      <td>-0.351396</td>\n",
       "      <td>-0.889152</td>\n",
       "      <td>0.095871</td>\n",
       "      <td>0.461157</td>\n",
       "      <td>-0.418579</td>\n",
       "      <td>0.120298</td>\n",
       "      <td>0.218171</td>\n",
       "      <td>0.082651</td>\n",
       "    </tr>\n",
       "    <tr>\n",
       "      <th>15473</th>\n",
       "      <td>-0.553199</td>\n",
       "      <td>1.137216</td>\n",
       "      <td>1.608132</td>\n",
       "      <td>1.422737</td>\n",
       "      <td>0.225375</td>\n",
       "      <td>0.093747</td>\n",
       "      <td>0.627984</td>\n",
       "      <td>-0.107331</td>\n",
       "      <td>1.540804</td>\n",
       "      <td>0.086876</td>\n",
       "      <td>...</td>\n",
       "      <td>0.505154</td>\n",
       "      <td>0.182610</td>\n",
       "      <td>-0.289561</td>\n",
       "      <td>-0.026636</td>\n",
       "      <td>-0.163808</td>\n",
       "      <td>-0.002608</td>\n",
       "      <td>-0.137466</td>\n",
       "      <td>-0.280786</td>\n",
       "      <td>0.345147</td>\n",
       "      <td>0.031041</td>\n",
       "    </tr>\n",
       "    <tr>\n",
       "      <th>26774</th>\n",
       "      <td>2.215685</td>\n",
       "      <td>-1.486828</td>\n",
       "      <td>-0.436634</td>\n",
       "      <td>-1.676735</td>\n",
       "      <td>-1.439594</td>\n",
       "      <td>-0.110422</td>\n",
       "      <td>-1.507187</td>\n",
       "      <td>0.080852</td>\n",
       "      <td>-1.244714</td>\n",
       "      <td>1.677778</td>\n",
       "      <td>...</td>\n",
       "      <td>0.143921</td>\n",
       "      <td>-0.381301</td>\n",
       "      <td>-0.352085</td>\n",
       "      <td>-0.623079</td>\n",
       "      <td>0.488874</td>\n",
       "      <td>0.692703</td>\n",
       "      <td>-0.628297</td>\n",
       "      <td>-0.540289</td>\n",
       "      <td>0.028271</td>\n",
       "      <td>-0.036328</td>\n",
       "    </tr>\n",
       "    <tr>\n",
       "      <th>26069</th>\n",
       "      <td>1.183099</td>\n",
       "      <td>0.188125</td>\n",
       "      <td>0.499064</td>\n",
       "      <td>1.026740</td>\n",
       "      <td>-0.417335</td>\n",
       "      <td>-0.514016</td>\n",
       "      <td>-0.107038</td>\n",
       "      <td>-0.002267</td>\n",
       "      <td>-0.048959</td>\n",
       "      <td>0.185548</td>\n",
       "      <td>...</td>\n",
       "      <td>-0.196272</td>\n",
       "      <td>-0.149469</td>\n",
       "      <td>0.212872</td>\n",
       "      <td>0.627245</td>\n",
       "      <td>-0.169295</td>\n",
       "      <td>0.349475</td>\n",
       "      <td>0.675490</td>\n",
       "      <td>-0.224806</td>\n",
       "      <td>0.018713</td>\n",
       "      <td>0.011892</td>\n",
       "    </tr>\n",
       "    <tr>\n",
       "      <th>...</th>\n",
       "      <td>...</td>\n",
       "      <td>...</td>\n",
       "      <td>...</td>\n",
       "      <td>...</td>\n",
       "      <td>...</td>\n",
       "      <td>...</td>\n",
       "      <td>...</td>\n",
       "      <td>...</td>\n",
       "      <td>...</td>\n",
       "      <td>...</td>\n",
       "      <td>...</td>\n",
       "      <td>...</td>\n",
       "      <td>...</td>\n",
       "      <td>...</td>\n",
       "      <td>...</td>\n",
       "      <td>...</td>\n",
       "      <td>...</td>\n",
       "      <td>...</td>\n",
       "      <td>...</td>\n",
       "      <td>...</td>\n",
       "      <td>...</td>\n",
       "    </tr>\n",
       "    <tr>\n",
       "      <th>28636</th>\n",
       "      <td>-0.218678</td>\n",
       "      <td>0.608494</td>\n",
       "      <td>0.491205</td>\n",
       "      <td>-0.500529</td>\n",
       "      <td>0.613951</td>\n",
       "      <td>-1.083054</td>\n",
       "      <td>0.880325</td>\n",
       "      <td>-0.245375</td>\n",
       "      <td>-0.164669</td>\n",
       "      <td>-0.537923</td>\n",
       "      <td>...</td>\n",
       "      <td>-0.057613</td>\n",
       "      <td>-0.144440</td>\n",
       "      <td>-0.226639</td>\n",
       "      <td>-0.671591</td>\n",
       "      <td>0.044159</td>\n",
       "      <td>-0.014840</td>\n",
       "      <td>-0.132377</td>\n",
       "      <td>0.193177</td>\n",
       "      <td>-0.219612</td>\n",
       "      <td>-0.015442</td>\n",
       "    </tr>\n",
       "    <tr>\n",
       "      <th>17730</th>\n",
       "      <td>0.512745</td>\n",
       "      <td>-2.027530</td>\n",
       "      <td>0.008469</td>\n",
       "      <td>-0.395359</td>\n",
       "      <td>-1.538357</td>\n",
       "      <td>-0.246739</td>\n",
       "      <td>-0.215869</td>\n",
       "      <td>-0.104992</td>\n",
       "      <td>-0.916510</td>\n",
       "      <td>0.650996</td>\n",
       "      <td>...</td>\n",
       "      <td>-0.668012</td>\n",
       "      <td>0.432151</td>\n",
       "      <td>0.047050</td>\n",
       "      <td>-0.399780</td>\n",
       "      <td>-0.420342</td>\n",
       "      <td>0.056205</td>\n",
       "      <td>0.058868</td>\n",
       "      <td>1.088617</td>\n",
       "      <td>-0.131537</td>\n",
       "      <td>0.073895</td>\n",
       "    </tr>\n",
       "    <tr>\n",
       "      <th>28030</th>\n",
       "      <td>-0.689643</td>\n",
       "      <td>-3.093436</td>\n",
       "      <td>-1.375866</td>\n",
       "      <td>0.937864</td>\n",
       "      <td>-1.201152</td>\n",
       "      <td>-1.040219</td>\n",
       "      <td>1.835823</td>\n",
       "      <td>-0.683096</td>\n",
       "      <td>-0.307939</td>\n",
       "      <td>-0.573891</td>\n",
       "      <td>...</td>\n",
       "      <td>-0.213863</td>\n",
       "      <td>2.060427</td>\n",
       "      <td>0.585806</td>\n",
       "      <td>-0.642656</td>\n",
       "      <td>-1.007593</td>\n",
       "      <td>0.522675</td>\n",
       "      <td>0.176996</td>\n",
       "      <td>0.959023</td>\n",
       "      <td>-0.308750</td>\n",
       "      <td>0.172784</td>\n",
       "    </tr>\n",
       "    <tr>\n",
       "      <th>15725</th>\n",
       "      <td>-2.071050</td>\n",
       "      <td>2.153658</td>\n",
       "      <td>0.529213</td>\n",
       "      <td>-0.479327</td>\n",
       "      <td>-0.930649</td>\n",
       "      <td>-0.827955</td>\n",
       "      <td>-0.462825</td>\n",
       "      <td>1.242180</td>\n",
       "      <td>0.723136</td>\n",
       "      <td>-0.947931</td>\n",
       "      <td>...</td>\n",
       "      <td>-0.295692</td>\n",
       "      <td>-0.027309</td>\n",
       "      <td>-0.198593</td>\n",
       "      <td>-0.401251</td>\n",
       "      <td>0.101922</td>\n",
       "      <td>0.512960</td>\n",
       "      <td>-0.087544</td>\n",
       "      <td>0.236889</td>\n",
       "      <td>0.113365</td>\n",
       "      <td>0.101352</td>\n",
       "    </tr>\n",
       "    <tr>\n",
       "      <th>19966</th>\n",
       "      <td>2.055815</td>\n",
       "      <td>-0.774935</td>\n",
       "      <td>-3.447130</td>\n",
       "      <td>-2.499548</td>\n",
       "      <td>2.437312</td>\n",
       "      <td>2.658456</td>\n",
       "      <td>-0.102371</td>\n",
       "      <td>0.548284</td>\n",
       "      <td>1.340831</td>\n",
       "      <td>-0.869166</td>\n",
       "      <td>...</td>\n",
       "      <td>0.927421</td>\n",
       "      <td>-0.076377</td>\n",
       "      <td>0.019220</td>\n",
       "      <td>0.164730</td>\n",
       "      <td>0.014081</td>\n",
       "      <td>0.766161</td>\n",
       "      <td>0.408650</td>\n",
       "      <td>-0.114006</td>\n",
       "      <td>-0.027752</td>\n",
       "      <td>-0.072601</td>\n",
       "    </tr>\n",
       "  </tbody>\n",
       "</table>\n",
       "<p>19214 rows × 28 columns</p>\n",
       "</div>"
      ],
      "text/plain": [
       "             V1        V2        V3        V4        V5        V6        V7  \\\n",
       "14511 -0.693242  1.307364  0.883202  0.094417  1.006947 -0.471342  0.914839   \n",
       "27368  0.147405  0.993982 -0.463475 -0.561005  0.916386 -0.779976  0.958372   \n",
       "15473 -0.553199  1.137216  1.608132  1.422737  0.225375  0.093747  0.627984   \n",
       "26774  2.215685 -1.486828 -0.436634 -1.676735 -1.439594 -0.110422 -1.507187   \n",
       "26069  1.183099  0.188125  0.499064  1.026740 -0.417335 -0.514016 -0.107038   \n",
       "...         ...       ...       ...       ...       ...       ...       ...   \n",
       "28636 -0.218678  0.608494  0.491205 -0.500529  0.613951 -1.083054  0.880325   \n",
       "17730  0.512745 -2.027530  0.008469 -0.395359 -1.538357 -0.246739 -0.215869   \n",
       "28030 -0.689643 -3.093436 -1.375866  0.937864 -1.201152 -1.040219  1.835823   \n",
       "15725 -2.071050  2.153658  0.529213 -0.479327 -0.930649 -0.827955 -0.462825   \n",
       "19966  2.055815 -0.774935 -3.447130 -2.499548  2.437312  2.658456 -0.102371   \n",
       "\n",
       "             V8        V9       V10  ...       V19       V20       V21  \\\n",
       "14511  0.115650 -0.938329 -1.253514  ... -1.236827 -0.117785  0.107842   \n",
       "27368 -0.081944  0.020738 -0.825385  ... -0.185336  0.004524 -0.351396   \n",
       "15473 -0.107331  1.540804  0.086876  ...  0.505154  0.182610 -0.289561   \n",
       "26774  0.080852 -1.244714  1.677778  ...  0.143921 -0.381301 -0.352085   \n",
       "26069 -0.002267 -0.048959  0.185548  ... -0.196272 -0.149469  0.212872   \n",
       "...         ...       ...       ...  ...       ...       ...       ...   \n",
       "28636 -0.245375 -0.164669 -0.537923  ... -0.057613 -0.144440 -0.226639   \n",
       "17730 -0.104992 -0.916510  0.650996  ... -0.668012  0.432151  0.047050   \n",
       "28030 -0.683096 -0.307939 -0.573891  ... -0.213863  2.060427  0.585806   \n",
       "15725  1.242180  0.723136 -0.947931  ... -0.295692 -0.027309 -0.198593   \n",
       "19966  0.548284  1.340831 -0.869166  ...  0.927421 -0.076377  0.019220   \n",
       "\n",
       "            V22       V23       V24       V25       V26       V27       V28  \n",
       "14511  0.287287 -0.306588 -0.123966  0.161687 -0.479456  0.121667  0.137357  \n",
       "27368 -0.889152  0.095871  0.461157 -0.418579  0.120298  0.218171  0.082651  \n",
       "15473 -0.026636 -0.163808 -0.002608 -0.137466 -0.280786  0.345147  0.031041  \n",
       "26774 -0.623079  0.488874  0.692703 -0.628297 -0.540289  0.028271 -0.036328  \n",
       "26069  0.627245 -0.169295  0.349475  0.675490 -0.224806  0.018713  0.011892  \n",
       "...         ...       ...       ...       ...       ...       ...       ...  \n",
       "28636 -0.671591  0.044159 -0.014840 -0.132377  0.193177 -0.219612 -0.015442  \n",
       "17730 -0.399780 -0.420342  0.056205  0.058868  1.088617 -0.131537  0.073895  \n",
       "28030 -0.642656 -1.007593  0.522675  0.176996  0.959023 -0.308750  0.172784  \n",
       "15725 -0.401251  0.101922  0.512960 -0.087544  0.236889  0.113365  0.101352  \n",
       "19966  0.164730  0.014081  0.766161  0.408650 -0.114006 -0.027752 -0.072601  \n",
       "\n",
       "[19214 rows x 28 columns]"
      ]
     },
     "execution_count": 61,
     "metadata": {},
     "output_type": "execute_result"
    }
   ],
   "source": [
    "x_train"
   ]
  },
  {
   "cell_type": "code",
   "execution_count": 62,
   "metadata": {},
   "outputs": [],
   "source": [
    "# 일반적인 평균과 분산이 기준인 scaler를 사용하지 않고 중간값과 사분위값을 기준으로 조정하는 robust scaler 사용\n",
    "# outlier의 영향을 최소화 하기 위해서 -> columns가 가려져있기 때문에 data가 어떠한 의미를 띄고 있는지 모르니 robust scaler 사용\n",
    "robust_scaler = RobustScaler()\n",
    "robust_scaler.fit(x_train)\n",
    "robust_scaler.fit(x_test)\n",
    "x_train = robust_scaler.transform(x_train)\n",
    "x_test = robust_scaler.transform(x_test)"
   ]
  },
  {
   "cell_type": "code",
   "execution_count": 65,
   "metadata": {},
   "outputs": [],
   "source": [
    "x_train = pd.DataFrame(x_train,columns=columns[:-1])\n",
    "x_test = pd.DataFrame(x_test,columns=columns[:-1])"
   ]
  },
  {
   "cell_type": "markdown",
   "metadata": {},
   "source": [
    "### model fitting"
   ]
  },
  {
   "cell_type": "code",
   "execution_count": 187,
   "metadata": {},
   "outputs": [
    {
     "data": {
      "text/plain": [
       "LogisticRegression(solver='liblinear')"
      ]
     },
     "execution_count": 187,
     "metadata": {},
     "output_type": "execute_result"
    }
   ],
   "source": [
    "model = LogisticRegression(solver='liblinear')\n",
    "model.fit(x_train,y_train)"
   ]
  },
  {
   "cell_type": "code",
   "execution_count": 103,
   "metadata": {},
   "outputs": [],
   "source": [
    "# train data로 돌린 logistic regression model의 intercept값과 coefficient값 구함\n",
    "intercept_ = model.intercept_\n",
    "coef_ = model.coef_.reshape(28,)\n",
    "\n",
    "# intercept를 포함한 계수들을 beta로 지정\n",
    "# beta에 exp()를 적용해서 odds 값 구함\n",
    "beta_values = np.hstack((intercept_,coef_))\n",
    "odds_values = np.exp(beta_values).round(3)\n",
    "label = np.where(beta_values>0,\"fraud\",\"not fraud\")\n",
    "\n",
    "# 새로운 table에 해당되는 columns 구축\n",
    "col_ = columns[:-1].to_list()\n",
    "col_.insert(0,'constant')\n",
    "\n",
    "# intercept를 포함한 각 변수의 beta, odds, label의 값을 dataframe형태로 만듬\n",
    "pd.DataFrame(np.column_stack([beta_values,odds_values,label]),index=col_, columns=['beta','e^beta','label'])"
   ]
  },
  {
   "cell_type": "code",
   "execution_count": 126,
   "metadata": {
    "scrolled": false
   },
   "outputs": [
    {
     "data": {
      "text/plain": [
       "array([[9.99977933e-01, 2.20669833e-05],\n",
       "       [9.99600599e-01, 3.99401079e-04],\n",
       "       [9.99647178e-01, 3.52821684e-04],\n",
       "       ...,\n",
       "       [9.99773326e-01, 2.26673595e-04],\n",
       "       [9.99324876e-01, 6.75124049e-04],\n",
       "       [9.99914242e-01, 8.57575389e-05]])"
      ]
     },
     "execution_count": 126,
     "metadata": {},
     "output_type": "execute_result"
    }
   ],
   "source": [
    "# model의 x_test 값\n",
    "model.predict_proba(x_test)"
   ]
  },
  {
   "cell_type": "code",
   "execution_count": 149,
   "metadata": {},
   "outputs": [
    {
     "data": {
      "text/plain": [
       "0.9970414201183432"
      ]
     },
     "execution_count": 149,
     "metadata": {},
     "output_type": "execute_result"
    }
   ],
   "source": [
    "# mean accuracy 단순 임시용 -> imbalance 데이터이기때문에 높게 나올 수 밖에 없음\n",
    "# 신뢰도 매우 낮음 -> 이 평가 지표로 모델 판단 xxx\n",
    "model.score(x_test,y_test)"
   ]
  },
  {
   "cell_type": "code",
   "execution_count": 151,
   "metadata": {},
   "outputs": [
    {
     "data": {
      "text/plain": [
       "array([0, 0, 0, ..., 0, 0, 0], dtype=int64)"
      ]
     },
     "execution_count": 151,
     "metadata": {},
     "output_type": "execute_result"
    }
   ],
   "source": [
    "# 모델이 분류하는 예측 값\n",
    "y_pred = model.predict(x_test)\n",
    "y_pred"
   ]
  },
  {
   "cell_type": "markdown",
   "metadata": {},
   "source": [
    "### ROC curve"
   ]
  },
  {
   "cell_type": "code",
   "execution_count": 145,
   "metadata": {},
   "outputs": [
    {
     "data": {
      "image/png": "[encoded data removed]",
      "text/plain": [
       "<Figure size 1440x1440 with 1 Axes>"
      ]
     },
     "metadata": {
      "needs_background": "light"
     },
     "output_type": "display_data"
    }
   ],
   "source": [
    "# roc curve 구현\n",
    "fraud_prob = model.predict_proba(x_test)[:,1]\n",
    "\n",
    "# model로 구한 fraud 비율에 대한 roc_cruve\n",
    "fpr, tpr, threshold = roc_curve(y_test,fraud_prob)\n",
    "\n",
    "# numpy 난수 생성기로 구한 fruad 비율에 대한 roc_curve\n",
    "r_fpr, r_tpr, r_threshold = roc_curve(y_test,np.random.rand(len(y_test),))\n",
    "\n",
    "plt.figure(figsize=(20,20))\n",
    "plt.plot(fpr,tpr,marker='+',label='logistic regression')\n",
    "plt.plot(r_fpr,r_tpr,marker='.',label='random values')\n",
    "plt.xlabel('false positive rate',size=30)\n",
    "plt.ylabel('true positive rate',size=30)\n",
    "plt.title('ROC Curve',size=30)\n",
    "plt.show()"
   ]
  },
  {
   "cell_type": "markdown",
   "metadata": {},
   "source": [
    "### Evaluation"
   ]
  },
  {
   "cell_type": "code",
   "execution_count": 148,
   "metadata": {},
   "outputs": [
    {
     "data": {
      "text/plain": [
       "array([2.20669833e-05, 3.99401079e-04, 3.52821684e-04, ...,\n",
       "       2.26673595e-04, 6.75124049e-04, 8.57575389e-05])"
      ]
     },
     "execution_count": 148,
     "metadata": {},
     "output_type": "execute_result"
    }
   ],
   "source": [
    "fraud_prob = model.predict_proba(x_test)[:,1]\n",
    "fraud_prob"
   ]
  },
  {
   "cell_type": "code",
   "execution_count": 152,
   "metadata": {},
   "outputs": [
    {
     "data": {
      "text/plain": [
       "0.8250000000000001"
      ]
     },
     "execution_count": 152,
     "metadata": {},
     "output_type": "execute_result"
    }
   ],
   "source": [
    "# data가 극단적으로 '1'값이 적은 imbalance data 246/28678\n",
    "# data가 imbalance 데이터이기 때문에, mean_accuracy가 아닌 f1-score로 평가지표 구축\n",
    "# f1-score = 2*precision*recall/(precision+recall)\n",
    "\n",
    "def calculate_fscore(precision,recall):\n",
    "    return 2*precision*recall/(precision+recall)\n",
    "\n",
    "precision = np.sum(y_test*y_pred==1)/np.sum(y_pred)\n",
    "recall = np.sum(y_test*y_pred==1)/np.sum(y_test)\n",
    "\n",
    "calculate_fscore(precision,recall)"
   ]
  },
  {
   "cell_type": "code",
   "execution_count": 154,
   "metadata": {},
   "outputs": [
    {
     "data": {
      "text/plain": [
       "0.8250000000000001"
      ]
     },
     "execution_count": 154,
     "metadata": {},
     "output_type": "execute_result"
    }
   ],
   "source": [
    "# sklearn 패키지와 직접 구현한 f_score 값 비교\n",
    "from sklearn.metrics import f1_score, confusion_matrix\n",
    "f1_score(y_pred,y_test)"
   ]
  },
  {
   "cell_type": "code",
   "execution_count": 155,
   "metadata": {},
   "outputs": [
    {
     "data": {
      "text/plain": [
       "array([[9370,   22],\n",
       "       [   6,   66]], dtype=int64)"
      ]
     },
     "execution_count": 155,
     "metadata": {},
     "output_type": "execute_result"
    }
   ],
   "source": [
    "# confusion matrix TP, TN, FP, FN\n",
    "confusion_matrix(y_pred,y_test)"
   ]
  },
  {
   "cell_type": "markdown",
   "metadata": {},
   "source": [
    "### Enhance performance"
   ]
  },
  {
   "cell_type": "code",
   "execution_count": 158,
   "metadata": {},
   "outputs": [
    {
     "name": "stdout",
     "output_type": "stream",
     "text": [
      "oversampling이전 데이터 갯수 x: 28678 y: 28678\n",
      "oversampling이후 데이터 갯수 x: 56864 y: 56864\n",
      "oversampling이후 데이터 분포 \n",
      " 0    28432\n",
      "1    28432\n",
      "Name: Class, dtype: int64\n"
     ]
    }
   ],
   "source": [
    "# OVersampling 기법인 'SMOTE'를 활용하여 imbalance데이터 한계 개선\n",
    "from imblearn.over_sampling import SMOTE\n",
    "\n",
    "smote = SMOTE(random_state=123)\n",
    "smote_x, smote_y = smote.fit_sample(data.drop('Class',axis=1),data.Class)\n",
    "print('oversampling이전 데이터 갯수','x:',len(data.drop('Class',axis=1)),'y:',len(data.Class))\n",
    "print('oversampling이후 데이터 갯수','x:',len(smote_x),'y:',len(smote_y))\n",
    "print('oversampling이후 데이터 분포','\\n',pd.Series(smote_y).value_counts())"
   ]
  },
  {
   "cell_type": "code",
   "execution_count": 160,
   "metadata": {},
   "outputs": [],
   "source": [
    "# 모델간 비교를 위해 처음 model과 같은 전처리 처리\n",
    "s_x_train, s_x_test, s_y_train, s_y_test = train_test_split(smote_x,smote_y,test_size=0.33,random_state=123)\n",
    "\n",
    "robust_scaler.fit(s_x_train)\n",
    "robust_scaler.fit(s_x_test)\n",
    "s_x_train = robust_scaler.transform(s_x_train)\n",
    "s_x_test = robust_scaler.transform(s_x_test)\n",
    "\n",
    "s_x_train = pd.DataFrame(s_x_train,columns=columns[:-1])\n",
    "s_x_test = pd.DataFrame(s_x_test,columns=columns[:-1])"
   ]
  },
  {
   "cell_type": "code",
   "execution_count": 186,
   "metadata": {
    "scrolled": true
   },
   "outputs": [
    {
     "data": {
      "text/plain": [
       "LogisticRegression(solver='liblinear')"
      ]
     },
     "execution_count": 186,
     "metadata": {},
     "output_type": "execute_result"
    }
   ],
   "source": [
    "new_model = LogisticRegression(solver='liblinear')\n",
    "new_model.fit(s_x_train,s_y_train)"
   ]
  },
  {
   "cell_type": "code",
   "execution_count": 188,
   "metadata": {},
   "outputs": [
    {
     "data": {
      "text/html": [
       "<div>\n",
       "<style scoped>\n",
       "    .dataframe tbody tr th:only-of-type {\n",
       "        vertical-align: middle;\n",
       "    }\n",
       "\n",
       "    .dataframe tbody tr th {\n",
       "        vertical-align: top;\n",
       "    }\n",
       "\n",
       "    .dataframe thead th {\n",
       "        text-align: right;\n",
       "    }\n",
       "</style>\n",
       "<table border=\"1\" class=\"dataframe\">\n",
       "  <thead>\n",
       "    <tr style=\"text-align: right;\">\n",
       "      <th></th>\n",
       "      <th>beta</th>\n",
       "      <th>e^beta</th>\n",
       "      <th>label</th>\n",
       "    </tr>\n",
       "  </thead>\n",
       "  <tbody>\n",
       "    <tr>\n",
       "      <th>constant</th>\n",
       "      <td>1.1596845454639104</td>\n",
       "      <td>3.189</td>\n",
       "      <td>fraud</td>\n",
       "    </tr>\n",
       "    <tr>\n",
       "      <th>V1</th>\n",
       "      <td>0.6805140025524666</td>\n",
       "      <td>1.975</td>\n",
       "      <td>fraud</td>\n",
       "    </tr>\n",
       "    <tr>\n",
       "      <th>V2</th>\n",
       "      <td>-0.7400240354921488</td>\n",
       "      <td>0.477</td>\n",
       "      <td>not fraud</td>\n",
       "    </tr>\n",
       "    <tr>\n",
       "      <th>V3</th>\n",
       "      <td>0.7197389902574758</td>\n",
       "      <td>2.054</td>\n",
       "      <td>fraud</td>\n",
       "    </tr>\n",
       "    <tr>\n",
       "      <th>V4</th>\n",
       "      <td>5.516928602193014</td>\n",
       "      <td>248.869</td>\n",
       "      <td>fraud</td>\n",
       "    </tr>\n",
       "    <tr>\n",
       "      <th>V5</th>\n",
       "      <td>0.43367715971755305</td>\n",
       "      <td>1.543</td>\n",
       "      <td>fraud</td>\n",
       "    </tr>\n",
       "    <tr>\n",
       "      <th>V6</th>\n",
       "      <td>-0.3336534858204882</td>\n",
       "      <td>0.716</td>\n",
       "      <td>not fraud</td>\n",
       "    </tr>\n",
       "    <tr>\n",
       "      <th>V7</th>\n",
       "      <td>0.9358743556523016</td>\n",
       "      <td>2.549</td>\n",
       "      <td>fraud</td>\n",
       "    </tr>\n",
       "    <tr>\n",
       "      <th>V8</th>\n",
       "      <td>-0.43155626537601055</td>\n",
       "      <td>0.649</td>\n",
       "      <td>not fraud</td>\n",
       "    </tr>\n",
       "    <tr>\n",
       "      <th>V9</th>\n",
       "      <td>0.2367073259369789</td>\n",
       "      <td>1.267</td>\n",
       "      <td>fraud</td>\n",
       "    </tr>\n",
       "    <tr>\n",
       "      <th>V10</th>\n",
       "      <td>-8.367700197917669</td>\n",
       "      <td>0.0</td>\n",
       "      <td>not fraud</td>\n",
       "    </tr>\n",
       "    <tr>\n",
       "      <th>V11</th>\n",
       "      <td>1.1173369567733717</td>\n",
       "      <td>3.057</td>\n",
       "      <td>fraud</td>\n",
       "    </tr>\n",
       "    <tr>\n",
       "      <th>V12</th>\n",
       "      <td>-4.487706508370268</td>\n",
       "      <td>0.011</td>\n",
       "      <td>not fraud</td>\n",
       "    </tr>\n",
       "    <tr>\n",
       "      <th>V13</th>\n",
       "      <td>-0.22455255529715223</td>\n",
       "      <td>0.799</td>\n",
       "      <td>not fraud</td>\n",
       "    </tr>\n",
       "    <tr>\n",
       "      <th>V14</th>\n",
       "      <td>-8.032015132871162</td>\n",
       "      <td>0.0</td>\n",
       "      <td>not fraud</td>\n",
       "    </tr>\n",
       "    <tr>\n",
       "      <th>V15</th>\n",
       "      <td>-0.05516334602645596</td>\n",
       "      <td>0.946</td>\n",
       "      <td>not fraud</td>\n",
       "    </tr>\n",
       "    <tr>\n",
       "      <th>V16</th>\n",
       "      <td>-0.5528385469180455</td>\n",
       "      <td>0.575</td>\n",
       "      <td>not fraud</td>\n",
       "    </tr>\n",
       "    <tr>\n",
       "      <th>V17</th>\n",
       "      <td>-2.61724992746008</td>\n",
       "      <td>0.073</td>\n",
       "      <td>not fraud</td>\n",
       "    </tr>\n",
       "    <tr>\n",
       "      <th>V18</th>\n",
       "      <td>-1.0638451526992105</td>\n",
       "      <td>0.345</td>\n",
       "      <td>not fraud</td>\n",
       "    </tr>\n",
       "    <tr>\n",
       "      <th>V19</th>\n",
       "      <td>0.5024858474322093</td>\n",
       "      <td>1.653</td>\n",
       "      <td>fraud</td>\n",
       "    </tr>\n",
       "    <tr>\n",
       "      <th>V20</th>\n",
       "      <td>-0.15193956962101418</td>\n",
       "      <td>0.859</td>\n",
       "      <td>not fraud</td>\n",
       "    </tr>\n",
       "    <tr>\n",
       "      <th>V21</th>\n",
       "      <td>0.5181764463448646</td>\n",
       "      <td>1.679</td>\n",
       "      <td>fraud</td>\n",
       "    </tr>\n",
       "    <tr>\n",
       "      <th>V22</th>\n",
       "      <td>1.0862469964763357</td>\n",
       "      <td>2.963</td>\n",
       "      <td>fraud</td>\n",
       "    </tr>\n",
       "    <tr>\n",
       "      <th>V23</th>\n",
       "      <td>-0.16341710074813515</td>\n",
       "      <td>0.849</td>\n",
       "      <td>not fraud</td>\n",
       "    </tr>\n",
       "    <tr>\n",
       "      <th>V24</th>\n",
       "      <td>0.26984836805346113</td>\n",
       "      <td>1.31</td>\n",
       "      <td>fraud</td>\n",
       "    </tr>\n",
       "    <tr>\n",
       "      <th>V25</th>\n",
       "      <td>-0.3420151447667503</td>\n",
       "      <td>0.71</td>\n",
       "      <td>not fraud</td>\n",
       "    </tr>\n",
       "    <tr>\n",
       "      <th>V26</th>\n",
       "      <td>-0.43797143300397434</td>\n",
       "      <td>0.645</td>\n",
       "      <td>not fraud</td>\n",
       "    </tr>\n",
       "    <tr>\n",
       "      <th>V27</th>\n",
       "      <td>-0.17415038906632382</td>\n",
       "      <td>0.84</td>\n",
       "      <td>not fraud</td>\n",
       "    </tr>\n",
       "    <tr>\n",
       "      <th>V28</th>\n",
       "      <td>0.23881146374569726</td>\n",
       "      <td>1.27</td>\n",
       "      <td>fraud</td>\n",
       "    </tr>\n",
       "  </tbody>\n",
       "</table>\n",
       "</div>"
      ],
      "text/plain": [
       "                          beta   e^beta      label\n",
       "constant    1.1596845454639104    3.189      fraud\n",
       "V1          0.6805140025524666    1.975      fraud\n",
       "V2         -0.7400240354921488    0.477  not fraud\n",
       "V3          0.7197389902574758    2.054      fraud\n",
       "V4           5.516928602193014  248.869      fraud\n",
       "V5         0.43367715971755305    1.543      fraud\n",
       "V6         -0.3336534858204882    0.716  not fraud\n",
       "V7          0.9358743556523016    2.549      fraud\n",
       "V8        -0.43155626537601055    0.649  not fraud\n",
       "V9          0.2367073259369789    1.267      fraud\n",
       "V10         -8.367700197917669      0.0  not fraud\n",
       "V11         1.1173369567733717    3.057      fraud\n",
       "V12         -4.487706508370268    0.011  not fraud\n",
       "V13       -0.22455255529715223    0.799  not fraud\n",
       "V14         -8.032015132871162      0.0  not fraud\n",
       "V15       -0.05516334602645596    0.946  not fraud\n",
       "V16        -0.5528385469180455    0.575  not fraud\n",
       "V17          -2.61724992746008    0.073  not fraud\n",
       "V18        -1.0638451526992105    0.345  not fraud\n",
       "V19         0.5024858474322093    1.653      fraud\n",
       "V20       -0.15193956962101418    0.859  not fraud\n",
       "V21         0.5181764463448646    1.679      fraud\n",
       "V22         1.0862469964763357    2.963      fraud\n",
       "V23       -0.16341710074813515    0.849  not fraud\n",
       "V24        0.26984836805346113     1.31      fraud\n",
       "V25        -0.3420151447667503     0.71  not fraud\n",
       "V26       -0.43797143300397434    0.645  not fraud\n",
       "V27       -0.17415038906632382     0.84  not fraud\n",
       "V28        0.23881146374569726     1.27      fraud"
      ]
     },
     "execution_count": 188,
     "metadata": {},
     "output_type": "execute_result"
    }
   ],
   "source": [
    "# 위에 처음 model과 같은 과정 반복\n",
    "intercept_ = new_model.intercept_\n",
    "coef_ = new_model.coef_.reshape(28,)\n",
    "\n",
    "beta_values = np.hstack((intercept_,coef_))\n",
    "odds_values = np.exp(beta_values).round(3)\n",
    "label = np.where(beta_values>0,\"fraud\",\"not fraud\")\n",
    "\n",
    "col_ = columns[:-1].to_list()\n",
    "col_.insert(0,'constant')\n",
    "\n",
    "pd.DataFrame(np.column_stack([beta_values,odds_values,label]),index=col_, columns=['beta','e^beta','label'])"
   ]
  },
  {
   "cell_type": "code",
   "execution_count": 190,
   "metadata": {},
   "outputs": [
    {
     "data": {
      "text/plain": [
       "0.9538527123521262"
      ]
     },
     "execution_count": 190,
     "metadata": {},
     "output_type": "execute_result"
    }
   ],
   "source": [
    "new_model.score(s_x_test,s_y_test)"
   ]
  },
  {
   "cell_type": "code",
   "execution_count": 191,
   "metadata": {},
   "outputs": [
    {
     "data": {
      "text/plain": [
       "array([0, 1, 1, ..., 0, 0, 0], dtype=int64)"
      ]
     },
     "execution_count": 191,
     "metadata": {},
     "output_type": "execute_result"
    }
   ],
   "source": [
    "s_y_pred = new_model.predict(s_x_test)\n",
    "s_y_pred"
   ]
  },
  {
   "cell_type": "code",
   "execution_count": 192,
   "metadata": {},
   "outputs": [
    {
     "data": {
      "image/png": "[encoded data removed]",
      "text/plain": [
       "<Figure size 1440x1440 with 1 Axes>"
      ]
     },
     "metadata": {
      "needs_background": "light"
     },
     "output_type": "display_data"
    }
   ],
   "source": [
    "fraud_prob = new_model.predict_proba(s_x_test)[:,1]\n",
    "\n",
    "fpr, tpr, threshold = roc_curve(s_y_test,fraud_prob)\n",
    "\n",
    "r_fpr, r_tpr, r_threshold = roc_curve(s_y_test,np.random.rand(len(s_y_test),))\n",
    "\n",
    "plt.figure(figsize=(20,20))\n",
    "plt.plot(fpr,tpr,marker='+',label='logistic regression')\n",
    "plt.plot(r_fpr,r_tpr,marker='.',label='random values')\n",
    "plt.xlabel('false positive rate',size=30)\n",
    "plt.ylabel('true positive rate',size=30)\n",
    "plt.title('ROC Curve',size=30)\n",
    "plt.show()"
   ]
  },
  {
   "cell_type": "markdown",
   "metadata": {},
   "source": [
    "# 기존 model f1_score, mean_accuracy: 82.5% , 99%\n",
    "\n",
    "# new_model f1_score, mean_accuracy: 95.3%, 95%\n",
    "\n",
    "### 기존의 imbalance dataset에서 SMOTE를 활용해 oversampling하여 비율을 맞추니 f1_score성능이 올라간 반면에, mean accuracy는 감소"
   ]
  },
  {
   "cell_type": "code",
   "execution_count": 196,
   "metadata": {},
   "outputs": [
    {
     "name": "stdout",
     "output_type": "stream",
     "text": [
      "0.8250000000000001\n",
      "0.9972527472527473\n"
     ]
    }
   ],
   "source": [
    "# origin model\n",
    "print(f1_score(y_pred,y_test))\n",
    "print(model.score(x_test,y_test))"
   ]
  },
  {
   "cell_type": "code",
   "execution_count": 195,
   "metadata": {
    "scrolled": true
   },
   "outputs": [
    {
     "name": "stdout",
     "output_type": "stream",
     "text": [
      "0.9529654573104498\n",
      "0.9538527123521262\n"
     ]
    }
   ],
   "source": [
    "# new model\n",
    "print(f1_score(s_y_pred,s_y_test))\n",
    "print(new_model.score(s_x_test,s_y_test))"
   ]
  }
 ],
 "metadata": {
  "colab": {
   "collapsed_sections": [],
   "name": "Regression_과제3",
   "provenance": []
  },
  "kernelspec": {
   "display_name": "Python 3",
   "language": "python",
   "name": "python3"
  },
  "language_info": {
   "codemirror_mode": {
    "name": "ipython",
    "version": 3
   },
   "file_extension": ".py",
   "mimetype": "text/x-python",
   "name": "python",
   "nbconvert_exporter": "python",
   "pygments_lexer": "ipython3",
   "version": "3.8.0"
  }
 },
 "nbformat": 4,
 "nbformat_minor": 1
}

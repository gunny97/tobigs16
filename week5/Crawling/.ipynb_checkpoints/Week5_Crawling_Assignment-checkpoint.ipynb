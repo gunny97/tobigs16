{
 "cells": [
  {
   "cell_type": "markdown",
   "metadata": {
    "id": "7e9bea8d"
   },
   "source": [
    "## Tobigs 5주차 Crawling 과제\n",
    "- Selenium을 활용하여 학술연구정보서비스 RISS에서 주어진 키워드에 대한 **학위 논문**을 검색 후 **첫번째 페이지**에 존재하는 논문의 **URL**을 먼저 수집합니다. \n",
    "- 수집한 URL을 기반으로 접근하여 논문 정보 **1) 저자 2) 발행년도 3) 제목 4) 부가정보의 첫번째 항목**을 수집해주세요! \n",
    "- 주석을 읽고 주어진 코드 중간에 있는 ???와 공란을 채워주시면 됩니다!"
   ]
  },
  {
   "cell_type": "code",
   "execution_count": 2,
   "metadata": {},
   "outputs": [
    {
     "name": "stdout",
     "output_type": "stream",
     "text": [
      "Collecting selenium\n",
      "  Using cached selenium-3.141.0-py2.py3-none-any.whl (904 kB)\n",
      "Requirement already satisfied: urllib3 in c:\\ana3\\envs\\t_f2.2\\lib\\site-packages (from selenium) (1.25.10)\n",
      "Installing collected packages: selenium\n",
      "Successfully installed selenium-3.141.0"
     ]
    },
    {
     "name": "stderr",
     "output_type": "stream",
     "text": [
      "WARNING: You are using pip version 21.1.1; however, version 21.2.4 is available.\n",
      "You should consider upgrading via the 'c:\\ana3\\envs\\t_f2.2\\python.exe -m pip install --upgrade pip' command.\n"
     ]
    },
    {
     "name": "stdout",
     "output_type": "stream",
     "text": [
      "\n"
     ]
    }
   ],
   "source": [
    "! pip install selenium"
   ]
  },
  {
   "cell_type": "code",
   "execution_count": 18,
   "metadata": {
    "id": "c5821afb",
    "scrolled": true
   },
   "outputs": [],
   "source": [
    "from selenium import webdriver\n",
    "from selenium.webdriver.common.keys import Keys\n",
    "from bs4 import BeautifulSoup\n",
    "from time import sleep\n",
    "import pandas as pd"
   ]
  },
  {
   "cell_type": "code",
   "execution_count": 19,
   "metadata": {
    "id": "723899e7"
   },
   "outputs": [],
   "source": [
    "keyword='코로나'  #검색용 키워드\n",
    "paper=[]  #결과 저장용 리스트"
   ]
  },
  {
   "cell_type": "markdown",
   "metadata": {
    "id": "ab8f2cca"
   },
   "source": [
    "#### 1. 드라이버 오픈 및 Riss로 이동"
   ]
  },
  {
   "cell_type": "code",
   "execution_count": 20,
   "metadata": {
    "id": "b95bd6c7"
   },
   "outputs": [],
   "source": [
    "driver = webdriver.Chrome('C:/Users/김건우/Downloads/chromedriver/chromedriver.exe')  #드라이버 오픈\n",
    "driver.get('http://www.riss.kr/index.do')   #riss로 이동"
   ]
  },
  {
   "cell_type": "markdown",
   "metadata": {
    "id": "3e473c2b"
   },
   "source": [
    "#### 2. 검색창에 접근하여 검색용 키워드 입력 및 검색"
   ]
  },
  {
   "cell_type": "code",
   "execution_count": 21,
   "metadata": {
    "id": "4ee5b659"
   },
   "outputs": [],
   "source": [
    "driver.find_element_by_id('query').send_keys(keyword)  # 검색창 접근 및 키워드 입력\n",
    "driver.find_element_by_id('query').submit()   # 검색창에 검색용 키워드 검색"
   ]
  },
  {
   "cell_type": "markdown",
   "metadata": {
    "id": "79cbd6cf"
   },
   "source": [
    "#### 3. 검색 화면 창에서 학위 논문 창으로 이동\n",
    "![image](https://user-images.githubusercontent.com/69336270/129825390-d270bcca-003c-46f4-8bfd-14e4f1ed3f87.png)\n",
    "  \n",
    "    방법 1. 상단의 학위 논문 탭 클릭  \n",
    "    방법 2. 검색 화면 창에서 학위논문 결과 옆 더보기 버튼 클릭"
   ]
  },
  {
   "cell_type": "code",
   "execution_count": 25,
   "metadata": {
    "id": "e809e87e"
   },
   "outputs": [],
   "source": [
    "driver.find_element_by_xpath('//*[@id=\"tabMenu\"]/div/ul/li[3]/a').send_keys(Keys.ENTER)"
   ]
  },
  {
   "cell_type": "markdown",
   "metadata": {
    "id": "0fc0cfdd"
   },
   "source": [
    "#### 4. 주어진 키워드로 검색했을 때 학위 논문의 전체 수 구하기\n",
    "\n",
    "![image](https://user-images.githubusercontent.com/69336270/129825100-89dd9681-4dd7-451a-804f-e0fbe437aeba.png)"
   ]
  },
  {
   "cell_type": "code",
   "execution_count": 27,
   "metadata": {
    "id": "ab3bb595",
    "outputId": "0fe70a55-f4d7-4f3a-bf67-13e6c52fc845"
   },
   "outputs": [
    {
     "name": "stdout",
     "output_type": "stream",
     "text": [
      "2,296\n",
      "2296 <class 'int'>\n"
     ]
    }
   ],
   "source": [
    "total=driver.find_element_by_xpath('//*[@id=\"divContent\"]/div[2]/div/div[1]/dl/dd/span/span').text  #전체 논문수\n",
    "print(total)\n",
    "\"\"\" xpath를 통해 구한 전체 논문수 total을 특문 제거 후 int형으로 변환 \"\"\"\n",
    "total = int(total.replace(',',''))\n",
    "print(total, type(total))"
   ]
  },
  {
   "cell_type": "markdown",
   "metadata": {
    "id": "1ec1f664"
   },
   "source": [
    "#### 5. 첫페이지에 존재하는 논문의 상세정보 url 수집"
   ]
  },
  {
   "cell_type": "code",
   "execution_count": 28,
   "metadata": {
    "id": "b4c822f2",
    "outputId": "8db39966-ab3d-47c0-c4f5-e8b8491a366e",
    "scrolled": false
   },
   "outputs": [
    {
     "name": "stdout",
     "output_type": "stream",
     "text": [
      "http://www.riss.kr/search/detail/DetailView.do?p_mat_type=be54d9b8bc7cdb09&control_no=a54bb7f34c8453bfffe0bdc3ef48d419\n",
      "http://www.riss.kr/search/detail/DetailView.do?p_mat_type=be54d9b8bc7cdb09&control_no=3b8639661acf0be8ffe0bdc3ef48d419\n",
      "http://www.riss.kr/search/detail/DetailView.do?p_mat_type=be54d9b8bc7cdb09&control_no=29ccc72d95b8f0dbffe0bdc3ef48d419\n",
      "http://www.riss.kr/search/detail/DetailView.do?p_mat_type=be54d9b8bc7cdb09&control_no=b6e00fd98cafeb39ffe0bdc3ef48d419\n",
      "http://www.riss.kr/search/detail/DetailView.do?p_mat_type=be54d9b8bc7cdb09&control_no=8b2e61b36976fa93ffe0bdc3ef48d419\n",
      "http://www.riss.kr/search/detail/DetailView.do?p_mat_type=be54d9b8bc7cdb09&control_no=dec269f74836aea5ffe0bdc3ef48d419\n",
      "http://www.riss.kr/search/detail/DetailView.do?p_mat_type=be54d9b8bc7cdb09&control_no=2f61e1173312d7e6ffe0bdc3ef48d419\n",
      "http://www.riss.kr/search/detail/DetailView.do?p_mat_type=be54d9b8bc7cdb09&control_no=6ea66a8b57ca813effe0bdc3ef48d419\n",
      "http://www.riss.kr/search/detail/DetailView.do?p_mat_type=be54d9b8bc7cdb09&control_no=aeb26b23b6e487e2ffe0bdc3ef48d419\n",
      "http://www.riss.kr/search/detail/DetailView.do?p_mat_type=be54d9b8bc7cdb09&control_no=e349aa09d18dfc91ffe0bdc3ef48d419\n"
     ]
    }
   ],
   "source": [
    "urls = []\n",
    "\n",
    "html = driver.page_source # 페이지 소스 저장\n",
    "\"\"\" html 소스코드를 BeautifulSoup을 이용해 파싱 \"\"\"\n",
    "\n",
    "if total < 10:\n",
    "    # 주어진 키워드로 검색 시 전체 논문 수가 10개 미만인 경우 - 논문 첫 페이지의 논문 수 = 전체 논문 수\n",
    "    for i in range(1, total+1):  \n",
    "        page = '/html/body/div[1]/div[2]/div[4]/div[2]/div/div[3]/div[2]/ul/li['+str(i)+']/div[2]/p[1]/a'\n",
    "        url=driver.find_element_by_xpath(page).get_attribute('href')\n",
    "        urls.append(url)\n",
    "        print(url)\n",
    "else:\n",
    "    # 주어진 키워드로 검색 시 전체 논문 수가 10개 이상인 경우 - 논문 첫 페이지의 논문 수 = 10개\n",
    "    for i in range(1, 11):\n",
    "        page = '/html/body/div[1]/div[2]/div[4]/div[2]/div/div[3]/div[2]/ul/li['+str(i)+']/div[2]/p[1]/a'\n",
    "        url=driver.find_element_by_xpath(page).get_attribute('href')\n",
    "        urls.append(url)\n",
    "        print(url)"
   ]
  },
  {
   "cell_type": "markdown",
   "metadata": {
    "id": "0b1846be"
   },
   "source": [
    "#### 6-1. 저자 정보 구하기 예제\n",
    "수집한 url 중 첫번째 링크의 저자 정보를 구해보자!"
   ]
  },
  {
   "cell_type": "code",
   "execution_count": 29,
   "metadata": {
    "id": "8515bde5"
   },
   "outputs": [],
   "source": [
    "data = []  # 수집한 정보 저장용 리스트\n",
    "driver.get(urls[0])   # 첫번째 링크로 이동"
   ]
  },
  {
   "cell_type": "code",
   "execution_count": 31,
   "metadata": {
    "id": "040d6ccc",
    "outputId": "8e0ad3bc-5d0d-4685-ba90-75e6c29f8713"
   },
   "outputs": [
    {
     "name": "stdout",
     "output_type": "stream",
     "text": [
      "맹영연\n"
     ]
    }
   ],
   "source": [
    "\"\"\" 저자 정보를 xpath와 .text 메소드를 통해 구해주세요! \"\"\"\n",
    "author = driver.find_element_by_xpath('//*[@id=\"thesisInfoDiv\"]/div[2]/div[1]/ul/li[1]/div/p/a').text\n",
    "data.append(author)\n",
    "print(author)"
   ]
  },
  {
   "cell_type": "markdown",
   "metadata": {
    "id": "ba05577d"
   },
   "source": [
    "#### 6-2. 연도 정보 구하기 예제\n",
    "수집한 url 중 첫번째 링크의 연도 정보를 구해보자!"
   ]
  },
  {
   "cell_type": "code",
   "execution_count": 32,
   "metadata": {
    "id": "1b5611f6",
    "outputId": "27366cb8-1ee6-438b-ceeb-3069ca80a80e"
   },
   "outputs": [
    {
     "name": "stdout",
     "output_type": "stream",
     "text": [
      "2021\n"
     ]
    }
   ],
   "source": [
    "\"\"\" 연도 정보를 xpath와 .text 메소드를 통해 구해주세요! \"\"\"\n",
    "year = driver.find_element_by_xpath('//*[@id=\"thesisInfoDiv\"]/div[2]/div[1]/ul/li[4]/div/p').text\n",
    "data.append(year)\n",
    "print(year)"
   ]
  },
  {
   "cell_type": "markdown",
   "metadata": {
    "id": "9a9a5c48"
   },
   "source": [
    "#### 6-3. 제목 정보 구하기 예제\n",
    "수집한 url 중 첫번째 링크의 제목 정보를 구해보자!"
   ]
  },
  {
   "cell_type": "code",
   "execution_count": 33,
   "metadata": {
    "id": "18baf663",
    "outputId": "d73afd73-9606-49aa-922e-6b51596f771a",
    "scrolled": true
   },
   "outputs": [
    {
     "name": "stdout",
     "output_type": "stream",
     "text": [
      "코로나19에 대한 계획행동 요인들이 관련 뉴스 공유의도 및 대처 행위의도에 미치는 영향에 관한 연구 = Exploring the Influence of Planned Behavioral Factors on COVID-19 News Sharing and Coping Behavioral Intention\n"
     ]
    }
   ],
   "source": [
    "\"\"\" 제목 정보를 xpath와 .text 메소드를 통해 구해주세요! \"\"\"\n",
    "title = driver.find_element_by_xpath('//*[@id=\"thesisInfoDiv\"]/div[1]/h3').text\n",
    "data.append(title)\n",
    "print(title)"
   ]
  },
  {
   "cell_type": "markdown",
   "metadata": {
    "id": "61ae54a3"
   },
   "source": [
    "#### 6-4. 부가정보 정보 구하기 예제\n",
    "수집한 url 중 첫번째 링크의 부가정보 정보를 구해보자!\n",
    "\n",
    "![image](https://user-images.githubusercontent.com/69336270/129768125-b13b9554-7dba-44e0-aa27-07b901a7f50c.png)\n",
    "  \n",
    "부가정보에서 데이터를 수집하기 위해서는 우선 더보기 버튼을 클릭해주어야 한다. 이때, 더보기 버튼의 **클래스명**을 통해 클릭해주자!"
   ]
  },
  {
   "cell_type": "code",
   "execution_count": 34,
   "metadata": {
    "id": "170882a8"
   },
   "outputs": [],
   "source": [
    "# 부가정보 가져오기 - 더보기 버튼 클릭\n",
    "\n",
    "moreViews = driver.find_elements_by_class_name('moreView')\n",
    "\n",
    "for moreView in moreViews:\n",
    "    moreView.send_keys(Keys.ENTER)\n",
    "    sleep(0.1)"
   ]
  },
  {
   "cell_type": "code",
   "execution_count": 36,
   "metadata": {
    "id": "4313c749",
    "outputId": "844f92d6-4bb6-4929-b290-7d7754129c00"
   },
   "outputs": [
    {
     "name": "stdout",
     "output_type": "stream",
     "text": [
      "When COVID-19 happened, people were increasingly demanding related information. Sufficient awareness of infectious disease-related crises and judgment on the possibility of occurrence are needed. The most important knowledge is how to effectively protect one's safety, which has a significant impact on people taking precautions. It is also very difficult to prevent various emergencies in advance because there is uncertainty about the occurrence of them. If news and information resources of various emergencies can be shared with the media to discover, report, and take real-time action, it will improve the government and\n",
      "individuals' urgent response and reduce losses. However, in practice, after inmates obtain Covid-19 information from the news, they often share it to other inmates without confirming the truth. Especially in the\n",
      "Internet age, news is actively distributed and consumed around online media, so inmates deliver news information that people around them like or need through online channels. In addition, the vaccine incident, which was a problem when other infectious diseases occurred, spread fear of the epidemic, and the misreporting of the media greatly changed residents' trust, attitude, and intention to vaccinate, affecting vaccination coping. There are also many prior studies of the relationship between inmates' own behavior and external stimulus factors, using elements of inmates' psychological mechanisms for media news use. A number of prior studies have shown that media users' predictions of behavior have been tested according\n",
      "to the Theory of Planned Behavior. Accordingly, this study conducted a survey of 323 chinese young people in\n",
      "their 20s based on the theory of planned behavior. News-sharing and coping intentions for news related to Covid-19 were set as dependent variables, three components of Planned Behavior Theory: Attitude, Subjective Norms, and Perceived Behavior Control were set as independent variables, and hypothesized\n",
      "and validated for the purpose of studying the relationship between each factor. The results of the study are as follows. First, the research model of news sharing intention for COVID-19 was statistically significant, and the explanatory power of the regression model was about 18%. In addition, it was found that only subjective norms among the factors of planning behavior for news related to COVID-19 affect the intention to share news. In other words, the higher the subjective norms for sharing news related to COVID-19, the higher the\n",
      "intention to share news. The remaining two factors, attitudes and perceived behavior control, were not found to affect the intention to share the news of COVID-19. Second, the research model of coping intention for Corona 19 was statistically significant, and the explanatory power of the regression model\n",
      "was about 15.8%. In addition, it was found that the subjective norms and perceived behavioral control among the planned behavioral factors for coping with COVID-19 affect the coping intention. In other words, it was found that the higher the subjective norms and perceived behavior control for COVID-19-related coping behavior, the higher the coping intention. The rest of the attitudes were found to have no effect on the intention to cope with COVID-19.\n",
      "Keyword: COVID-19, Planning Behavior Theory, Intention to share news, Coping intention\n"
     ]
    }
   ],
   "source": [
    "# 부가정보 가져오기 - 첫번째 항목만 가져오기\n",
    "\n",
    "try:\n",
    "    \"\"\" 부가정보의 첫번째 항목을 xpath와 .text 메소드를 통해 구해주세요! \"\"\"\n",
    "    first_info = driver.find_element_by_xpath('//*[@id=\"additionalInfoDiv\"]/div/div[1]/div[3]/p').text\n",
    "\n",
    "    \n",
    "    data.append(first_info)\n",
    "    print(first_info)\n",
    "except:\n",
    "    data.append(\"부가정보가 없습니다.\")"
   ]
  },
  {
   "cell_type": "markdown",
   "metadata": {
    "id": "79328be3"
   },
   "source": [
    "#### 6-5. 수집한 정보를 바탕으로 DataFrame 만들기"
   ]
  },
  {
   "cell_type": "code",
   "execution_count": 37,
   "metadata": {},
   "outputs": [
    {
     "data": {
      "text/html": [
       "<div>\n",
       "<style scoped>\n",
       "    .dataframe tbody tr th:only-of-type {\n",
       "        vertical-align: middle;\n",
       "    }\n",
       "\n",
       "    .dataframe tbody tr th {\n",
       "        vertical-align: top;\n",
       "    }\n",
       "\n",
       "    .dataframe thead th {\n",
       "        text-align: right;\n",
       "    }\n",
       "</style>\n",
       "<table border=\"1\" class=\"dataframe\">\n",
       "  <thead>\n",
       "    <tr style=\"text-align: right;\">\n",
       "      <th></th>\n",
       "      <th>저자</th>\n",
       "      <th>발행년도</th>\n",
       "      <th>제목</th>\n",
       "      <th>부가정보</th>\n",
       "      <th>Url</th>\n",
       "    </tr>\n",
       "  </thead>\n",
       "  <tbody>\n",
       "    <tr>\n",
       "      <th>0</th>\n",
       "      <td>맹영연</td>\n",
       "      <td>2021</td>\n",
       "      <td>코로나19에 대한 계획행동 요인들이 관련 뉴스 공유의도 및 대처 행위의도에 미치는 ...</td>\n",
       "      <td>부가정보가 없습니다.</td>\n",
       "      <td>http://www.riss.kr/search/detail/DetailView.do...</td>\n",
       "    </tr>\n",
       "  </tbody>\n",
       "</table>\n",
       "</div>"
      ],
      "text/plain": [
       "    저자  발행년도                                                 제목         부가정보  \\\n",
       "0  맹영연  2021  코로나19에 대한 계획행동 요인들이 관련 뉴스 공유의도 및 대처 행위의도에 미치는 ...  부가정보가 없습니다.   \n",
       "\n",
       "                                                 Url  \n",
       "0  http://www.riss.kr/search/detail/DetailView.do...  "
      ]
     },
     "execution_count": 37,
     "metadata": {},
     "output_type": "execute_result"
    }
   ],
   "source": [
    "pd.DataFrame(data = {'저자':data[0], '발행년도':data[1], '제목':data[2], '부가정보':data[3], 'Url':urls[0]}, index = [0])"
   ]
  },
  {
   "cell_type": "markdown",
   "metadata": {
    "id": "d92a3a3f"
   },
   "source": [
    "#### 7. 논문 정보 수집 과정 함수화 하기\n",
    "앞선 예제를 기반으로 함수 속 ???와 공란을 채워주세요"
   ]
  },
  {
   "cell_type": "code",
   "execution_count": 38,
   "metadata": {
    "id": "988d5388"
   },
   "outputs": [],
   "source": [
    "def store(url):\n",
    "    data=[]  #빈 리스트\n",
    "    authur=\"\"  #저자\n",
    "    year=\"\"  #연도\n",
    "    title=\"\"  #제목\n",
    "    first_info=\"\"  #부가정보\n",
    "    \n",
    "    driver.get(url)   # 첫번째 링크로 이동\n",
    "    \n",
    "    #저자\n",
    "    \"\"\" 저자 정보의 첫번째 항목을 xpath와 .text 메소드를 통해 구해주세요! \"\"\"\n",
    "    author = driver.find_element_by_xpath('//*[@id=\"thesisInfoDiv\"]/div[2]/div[1]/ul/li[1]/div/p/a').text\n",
    "\n",
    "    #연도\n",
    "    \"\"\" 연도 정보의 첫번째 항목을 xpath와 .text 메소드를 통해 구해주세요! \"\"\"\n",
    "    year = driver.find_element_by_xpath('//*[@id=\"thesisInfoDiv\"]/div[2]/div[1]/ul/li[4]/div/p').text\n",
    "\n",
    "    #제목\n",
    "    \"\"\" 제목 정보의 첫번째 항목을 xpath와 .text 메소드를 통해 구해주세요! \"\"\"\n",
    "    title = driver.find_element_by_xpath('//*[@id=\"thesisInfoDiv\"]/div[1]/h3').text\n",
    "\n",
    "    #부가정보    \n",
    "    moreViews = driver.find_elements_by_class_name('moreView')\n",
    "\n",
    "    for moreView in moreViews:\n",
    "        moreView.send_keys(Keys.ENTER)\n",
    "        sleep(0.1)\n",
    "\n",
    "    try:\n",
    "        \"\"\" 부가정보의 첫번째 항목을 xpath와 .text 메소드를 통해 구해주세요! \"\"\"\n",
    "        first_info = driver.find_element_by_xpath('//*[@id=\"additionalInfoDiv\"]/div/div[1]/div[3]/p').text\n",
    "\n",
    "    except:\n",
    "        first_info = \"부가정보가 없습니다.\"\n",
    "        \n",
    "    data.append(author)\n",
    "    data.append(year)\n",
    "    data.append(title)\n",
    "    data.append(first_info)\n",
    "    data.append(url)\n",
    "    paper.append(data)"
   ]
  },
  {
   "cell_type": "markdown",
   "metadata": {
    "id": "43c4079f"
   },
   "source": [
    "#### 8. 수집 및 저장\n",
    "해당 코드는 채점을 위한 코드로 수정하시면 안됩니다!"
   ]
  },
  {
   "cell_type": "code",
   "execution_count": 39,
   "metadata": {
    "id": "2d5a4fb7",
    "outputId": "738c577f-ae31-4fb1-a97b-5978b522d75f"
   },
   "outputs": [
    {
     "data": {
      "text/html": [
       "<div>\n",
       "<style scoped>\n",
       "    .dataframe tbody tr th:only-of-type {\n",
       "        vertical-align: middle;\n",
       "    }\n",
       "\n",
       "    .dataframe tbody tr th {\n",
       "        vertical-align: top;\n",
       "    }\n",
       "\n",
       "    .dataframe thead th {\n",
       "        text-align: right;\n",
       "    }\n",
       "</style>\n",
       "<table border=\"1\" class=\"dataframe\">\n",
       "  <thead>\n",
       "    <tr style=\"text-align: right;\">\n",
       "      <th></th>\n",
       "      <th>저자</th>\n",
       "      <th>발행년도</th>\n",
       "      <th>제목</th>\n",
       "      <th>부가정보</th>\n",
       "      <th>Url</th>\n",
       "    </tr>\n",
       "  </thead>\n",
       "  <tbody>\n",
       "    <tr>\n",
       "      <th>0</th>\n",
       "      <td>맹영연</td>\n",
       "      <td>2021</td>\n",
       "      <td>코로나19에 대한 계획행동 요인들이 관련 뉴스 공유의도 및 대처 행위의도에 미치는 ...</td>\n",
       "      <td>When COVID-19 happened, people were increasing...</td>\n",
       "      <td>http://www.riss.kr/search/detail/DetailView.do...</td>\n",
       "    </tr>\n",
       "    <tr>\n",
       "      <th>1</th>\n",
       "      <td>이효원</td>\n",
       "      <td>2021</td>\n",
       "      <td>포스트 코로나 시대의 직선형 공원 공공 브랜드 디자인 제안 - 경의선 숲길 공원을 ...</td>\n",
       "      <td>본 연구는 포스트코로나시대의 직선형공원 공공 브랜드 디자인 제안: 경의선숲길을 중심...</td>\n",
       "      <td>http://www.riss.kr/search/detail/DetailView.do...</td>\n",
       "    </tr>\n",
       "    <tr>\n",
       "      <th>2</th>\n",
       "      <td>정용철</td>\n",
       "      <td>2008</td>\n",
       "      <td>코로나 방전형 정전기 제거장치에서의 이온생성 최적화 조건에 관한 연구 = A Stu...</td>\n",
       "      <td>The purpose of this study is to analyze the op...</td>\n",
       "      <td>http://www.riss.kr/search/detail/DetailView.do...</td>\n",
       "    </tr>\n",
       "    <tr>\n",
       "      <th>3</th>\n",
       "      <td>홍은영</td>\n",
       "      <td>2021</td>\n",
       "      <td>원장의 코로나19 관리리더십이 영유아교사의 조직몰입과 직무스트레스에 미치는 영향: ...</td>\n",
       "      <td>본 연구는 전국에 영유아교육기관에 근무하는 영유아교사를 대상으로 하여 원장의 코로나...</td>\n",
       "      <td>http://www.riss.kr/search/detail/DetailView.do...</td>\n",
       "    </tr>\n",
       "    <tr>\n",
       "      <th>4</th>\n",
       "      <td>박석훈</td>\n",
       "      <td>2014</td>\n",
       "      <td>코로나방식 필터대전 조건에 따른 공기정화필터의 여과특성 = Filtration Ch...</td>\n",
       "      <td>쾌적한 실내공간, 초정밀 제품 생산, 개인위생보호 등의 여러 목적으로 공기정화필터의...</td>\n",
       "      <td>http://www.riss.kr/search/detail/DetailView.do...</td>\n",
       "    </tr>\n",
       "    <tr>\n",
       "      <th>5</th>\n",
       "      <td>김시영</td>\n",
       "      <td>2021</td>\n",
       "      <td>코로나19 상황에서 유아교사의 적응과정과 극복요인 = The Adaptation P...</td>\n",
       "      <td>2019년 12월 코로나19의 발발은 불과 4개월 만에 전 세계를 팬데믹 상황으로 ...</td>\n",
       "      <td>http://www.riss.kr/search/detail/DetailView.do...</td>\n",
       "    </tr>\n",
       "    <tr>\n",
       "      <th>6</th>\n",
       "      <td>배민영</td>\n",
       "      <td>2021</td>\n",
       "      <td>코로나-19 스트레스가 보육교사의 삶의 질에 미치는 영향 : 긍정심리자본과 회복탄력...</td>\n",
       "      <td>본 연구는 서울, 경기지역에 소재한 어린이집에 종사하는 보육교사를 대상으로 하여 코...</td>\n",
       "      <td>http://www.riss.kr/search/detail/DetailView.do...</td>\n",
       "    </tr>\n",
       "    <tr>\n",
       "      <th>7</th>\n",
       "      <td>박지원</td>\n",
       "      <td>2021</td>\n",
       "      <td>코로나19 상황에서의 미디어 이용과 미디어 신뢰가 코로나19 감염 가능성에 대한 낙...</td>\n",
       "      <td>부가정보가 없습니다.</td>\n",
       "      <td>http://www.riss.kr/search/detail/DetailView.do...</td>\n",
       "    </tr>\n",
       "    <tr>\n",
       "      <th>8</th>\n",
       "      <td>Zhang, Yuqing</td>\n",
       "      <td>2021</td>\n",
       "      <td>코로나19 예방행위 지속의도에 영향을 미치는 요인 연구 : 건강신념모델(HBM)의 적용</td>\n",
       "      <td>사람들이 질병 혹은 위험의 특성을 지각하는 것에 따라 우리는 그들의 예방 행동을 예...</td>\n",
       "      <td>http://www.riss.kr/search/detail/DetailView.do...</td>\n",
       "    </tr>\n",
       "    <tr>\n",
       "      <th>9</th>\n",
       "      <td>강찬희</td>\n",
       "      <td>2021</td>\n",
       "      <td>동적토픽모델링과 의미연결망을 통한 코로나19 이슈분석 : 트위터 텍스트데이터를 활용하여</td>\n",
       "      <td>중국 우한을 필두로 시작된 신종코로나 바이러스는 코로나19(COVID-19)로 명명...</td>\n",
       "      <td>http://www.riss.kr/search/detail/DetailView.do...</td>\n",
       "    </tr>\n",
       "  </tbody>\n",
       "</table>\n",
       "</div>"
      ],
      "text/plain": [
       "              저자  발행년도                                                 제목  \\\n",
       "0            맹영연  2021  코로나19에 대한 계획행동 요인들이 관련 뉴스 공유의도 및 대처 행위의도에 미치는 ...   \n",
       "1            이효원  2021  포스트 코로나 시대의 직선형 공원 공공 브랜드 디자인 제안 - 경의선 숲길 공원을 ...   \n",
       "2            정용철  2008  코로나 방전형 정전기 제거장치에서의 이온생성 최적화 조건에 관한 연구 = A Stu...   \n",
       "3            홍은영  2021  원장의 코로나19 관리리더십이 영유아교사의 조직몰입과 직무스트레스에 미치는 영향: ...   \n",
       "4            박석훈  2014  코로나방식 필터대전 조건에 따른 공기정화필터의 여과특성 = Filtration Ch...   \n",
       "5            김시영  2021  코로나19 상황에서 유아교사의 적응과정과 극복요인 = The Adaptation P...   \n",
       "6            배민영  2021  코로나-19 스트레스가 보육교사의 삶의 질에 미치는 영향 : 긍정심리자본과 회복탄력...   \n",
       "7            박지원  2021  코로나19 상황에서의 미디어 이용과 미디어 신뢰가 코로나19 감염 가능성에 대한 낙...   \n",
       "8  Zhang, Yuqing  2021   코로나19 예방행위 지속의도에 영향을 미치는 요인 연구 : 건강신념모델(HBM)의 적용   \n",
       "9            강찬희  2021   동적토픽모델링과 의미연결망을 통한 코로나19 이슈분석 : 트위터 텍스트데이터를 활용하여   \n",
       "\n",
       "                                                부가정보  \\\n",
       "0  When COVID-19 happened, people were increasing...   \n",
       "1  본 연구는 포스트코로나시대의 직선형공원 공공 브랜드 디자인 제안: 경의선숲길을 중심...   \n",
       "2  The purpose of this study is to analyze the op...   \n",
       "3  본 연구는 전국에 영유아교육기관에 근무하는 영유아교사를 대상으로 하여 원장의 코로나...   \n",
       "4  쾌적한 실내공간, 초정밀 제품 생산, 개인위생보호 등의 여러 목적으로 공기정화필터의...   \n",
       "5  2019년 12월 코로나19의 발발은 불과 4개월 만에 전 세계를 팬데믹 상황으로 ...   \n",
       "6  본 연구는 서울, 경기지역에 소재한 어린이집에 종사하는 보육교사를 대상으로 하여 코...   \n",
       "7                                        부가정보가 없습니다.   \n",
       "8  사람들이 질병 혹은 위험의 특성을 지각하는 것에 따라 우리는 그들의 예방 행동을 예...   \n",
       "9  중국 우한을 필두로 시작된 신종코로나 바이러스는 코로나19(COVID-19)로 명명...   \n",
       "\n",
       "                                                 Url  \n",
       "0  http://www.riss.kr/search/detail/DetailView.do...  \n",
       "1  http://www.riss.kr/search/detail/DetailView.do...  \n",
       "2  http://www.riss.kr/search/detail/DetailView.do...  \n",
       "3  http://www.riss.kr/search/detail/DetailView.do...  \n",
       "4  http://www.riss.kr/search/detail/DetailView.do...  \n",
       "5  http://www.riss.kr/search/detail/DetailView.do...  \n",
       "6  http://www.riss.kr/search/detail/DetailView.do...  \n",
       "7  http://www.riss.kr/search/detail/DetailView.do...  \n",
       "8  http://www.riss.kr/search/detail/DetailView.do...  \n",
       "9  http://www.riss.kr/search/detail/DetailView.do...  "
      ]
     },
     "execution_count": 39,
     "metadata": {},
     "output_type": "execute_result"
    }
   ],
   "source": [
    "paper=[]\n",
    "for url in urls:\n",
    "    driver.get(url)\n",
    "    store(url)\n",
    "    sleep(1)\n",
    "\n",
    "driver.close()  # 드라이버 닫기\n",
    "\n",
    "paper_info = pd.DataFrame(paper, columns=['저자', '발행년도', '제목', '부가정보', 'Url'])\n",
    "paper_info.to_csv('./paper_info.csv', encoding='utf-8')\n",
    "paper_info"
   ]
  },
  {
   "cell_type": "code",
   "execution_count": null,
   "metadata": {},
   "outputs": [],
   "source": []
  }
 ],
 "metadata": {
  "colab": {
   "name": "Week5_Crawling_Assignment.ipynb",
   "provenance": []
  },
  "kernelspec": {
   "display_name": "Python 3",
   "language": "python",
   "name": "python3"
  }
 },
 "nbformat": 4,
 "nbformat_minor": 5
}

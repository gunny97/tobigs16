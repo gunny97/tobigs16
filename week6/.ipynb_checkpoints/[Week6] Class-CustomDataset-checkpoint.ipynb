{
 "cells": [
  {
   "cell_type": "markdown",
   "metadata": {
    "id": "q8847qhBzpV3"
   },
   "source": [
    "# Week6: Class\n",
    "\n",
    "Pytorch의 Dataset 추상클래스를 상속받아 CustomDataset 만들어보기!\n",
    "\n",
    "- 현재는 X_data, y_data를 임의로 선정해두었지만, 원한다면 어떠한 데이터를 쓰셔도 상관없습니다. \n",
    "\n",
    "- 선언되어있는 3가지 메서드는 모두 구현하셔야 합니다. \n",
    "- 연습을 위한 추가적인 메서드들은 언제나 환영합니다!\n",
    "\n"
   ]
  },
  {
   "cell_type": "code",
   "execution_count": 1,
   "metadata": {
    "id": "nHzO9sXUc60j"
   },
   "outputs": [
    {
     "name": "stderr",
     "output_type": "stream",
     "text": [
      "C:\\ana3\\envs\\t_f2.2\\lib\\site-packages\\numpy\\_distributor_init.py:30: UserWarning: loaded more than 1 DLL from .libs:\n",
      "C:\\ana3\\envs\\t_f2.2\\lib\\site-packages\\numpy\\.libs\\libopenblas.NOIJJG62EMASZI6NYURL6JBKM4EVBGM7.gfortran-win_amd64.dll\n",
      "C:\\ana3\\envs\\t_f2.2\\lib\\site-packages\\numpy\\.libs\\libopenblas.WCDJNK7YVMPZQ2ME2ZZHJJRJ3JIKNDB7.gfortran-win_amd64.dll\n",
      "  warnings.warn(\"loaded more than 1 DLL from .libs:\"\n"
     ]
    }
   ],
   "source": [
    "from torch.utils.data import Dataset\n",
    "import numpy as np"
   ]
  },
  {
   "cell_type": "code",
   "execution_count": 2,
   "metadata": {
    "id": "u3xgFyHBfrDy"
   },
   "outputs": [],
   "source": [
    "X_data = np.random.rand(10,10)\n",
    "#y_data = np.ones(10)\n",
    "y_data = [1,2,3,4,5,6,7,8,9,0]"
   ]
  },
  {
   "cell_type": "code",
   "execution_count": 3,
   "metadata": {
    "id": "8DxTC-Kqghjq"
   },
   "outputs": [],
   "source": [
    "import torch \n",
    "\n",
    "class CustomDataset(Dataset):\n",
    "    def __init__(self,X_data,y_data):\n",
    "        self.X_data =X_data\n",
    "        self.y_data =y_data\n",
    "    \n",
    "    def __len__(self):\n",
    "        return len(self.X_data)\n",
    "    \n",
    "    def __getitem__(self,idx):\n",
    "        x = torch.FloatTensor(self.X_data[idx])\n",
    "        y = torch.FloatTensor(self.y_data)[idx]\n",
    "        return {'input:',x, 'label:',y}"
   ]
  },
  {
   "cell_type": "code",
   "execution_count": 4,
   "metadata": {},
   "outputs": [],
   "source": [
    "tmp = CustomDataset(X_data,y_data)"
   ]
  },
  {
   "cell_type": "code",
   "execution_count": 5,
   "metadata": {},
   "outputs": [
    {
     "data": {
      "text/plain": [
       "10"
      ]
     },
     "execution_count": 5,
     "metadata": {},
     "output_type": "execute_result"
    }
   ],
   "source": [
    "tmp.__len__()"
   ]
  },
  {
   "cell_type": "code",
   "execution_count": 6,
   "metadata": {},
   "outputs": [],
   "source": [
    "a=tmp.__getitem__(9)"
   ]
  },
  {
   "cell_type": "code",
   "execution_count": 7,
   "metadata": {},
   "outputs": [
    {
     "data": {
      "text/plain": [
       "{'input:',\n",
       " 'label:',\n",
       " tensor(0.),\n",
       " tensor([0.1571, 0.3726, 0.7367, 0.3203, 0.4537, 0.2964, 0.1561, 0.8268, 0.8753,\n",
       "         0.1367])}"
      ]
     },
     "execution_count": 7,
     "metadata": {},
     "output_type": "execute_result"
    }
   ],
   "source": [
    "a"
   ]
  }
 ],
 "metadata": {
  "colab": {
   "name": "[Week6] Class.ipynb",
   "provenance": []
  },
  "kernelspec": {
   "display_name": "Python 3",
   "language": "python",
   "name": "python3"
  },
  "language_info": {
   "codemirror_mode": {
    "name": "ipython",
    "version": 3
   },
   "file_extension": ".py",
   "mimetype": "text/x-python",
   "name": "python",
   "nbconvert_exporter": "python",
   "pygments_lexer": "ipython3",
   "version": "3.8.0"
  }
 },
 "nbformat": 4,
 "nbformat_minor": 1
}
